{
 "cells": [
  {
   "cell_type": "code",
   "execution_count": null,
   "metadata": {},
   "outputs": [],
   "source": [
    "from graphviz import Digraph"
   ]
  },
  {
   "cell_type": "code",
   "execution_count": null,
   "metadata": {},
   "outputs": [],
   "source": [
    "beast = Digraph()\n",
    "beast.node(\"BF\", \"Band Fluxes\")\n",
    "beast.node(\"L\", \"Instrisinc Spectrum\")\n",
    "beast.node(\"D\", \"Dust Extinction\")\n",
    "beast.node(\"LD\", \"Dust Extinguished Spectrum\")\n",
    "beast.node(\"F\", \"Band Responses\")\n",
    "beast.edge(\"F\", \"BF\")\n",
    "beast.edge(\"L\", \"LD\")\n",
    "beast.edge(\"D\", \"LD\")\n",
    "beast.edge(\"LD\", \"BF\")\n",
    "beast.node(\"M\", \"M\\nmass\")\n",
    "beast.node(\"t\", \"t\\nage\")\n",
    "beast.node(\"Z\", \"Z\\nmetallicity\")\n",
    "beast.node(\"d\", \"d\\ndistance\")\n",
    "beast.edge(\"M\", \"L\")\n",
    "beast.edge(\"t\", \"L\")\n",
    "beast.edge(\"Z\", \"L\")\n",
    "beast.edge(\"d\", \"L\")\n",
    "beast.node(\"Av\", \"dust column\\nA(V)\")\n",
    "beast.node(\"Rv\", \"grain size\\nR(V)\")\n",
    "beast.node(\"fA\", \"<f<SUB>A</SUB>>\")\n",
    "beast.edge(\"Av\", \"D\")\n",
    "beast.edge(\"Rv\", \"D\")\n",
    "beast.edge(\"fA\", \"D\")\n",
    "beast.node(\"IMF\", \"Initial\\nMass\\nFunction\")\n",
    "beast.edge(\"IMF\", \"M\")\n",
    "beast.node(\"SFH\", \"Star\\nFormation\\nHistory\")\n",
    "beast.edge(\"SFH\", \"M\")\n",
    "beast.edge(\"SFH\", \"t\")\n",
    "beast.node(\"AMR\", \"Age\\nMetallicity\\nRelation\")\n",
    "beast.edge(\"AMR\", \"t\")\n",
    "beast.edge(\"AMR\", \"Z\")\n",
    "beast.node(\"DP\", \"measured\\ndistance\")\n",
    "beast.edge(\"DP\", \"d\")\n",
    "beast.node(\"FC\", \"Foreground\\nDust\")\n",
    "beast.node(\"GC\", \"Instrinsic\\nDust\")\n",
    "beast.edge(\"FC\", \"Av\")\n",
    "beast.edge(\"FC\", \"Rv\")\n",
    "beast.edge(\"FC\", \"fA\")\n",
    "beast.edge(\"GC\", \"Av\")\n",
    "beast.edge(\"GC\", \"Rv\")\n",
    "beast.edge(\"GC\", \"fA\")\n",
    "beast.node(\"Obs\", \"Observation Model\")\n",
    "beast.edge(\"Obs\", \"Like\")\n",
    "beast.node(\"Like\", \"Observed Band Fluxes\", style=\"filled\")\n",
    "beast.edge(\"BF\", \"Like\")\n",
    "beast.node(\"AST\", \"Artifical Star Tests\")\n",
    "beast.edge(\"AST\", \"Obs\")\n",
    "beast.edge(\"BF\", \"AST\")\n",
    "beast"
   ]
  },
  {
   "cell_type": "code",
   "execution_count": null,
   "metadata": {},
   "outputs": [],
   "source": [
    "beast.render('beast-graphic', format='png')  "
   ]
  },
  {
   "cell_type": "code",
   "execution_count": null,
   "metadata": {},
   "outputs": [],
   "source": [
    "beast = Digraph()\n",
    "beast.node(\"BF\", \"<F<sup>Mod</sup><sub>i</sub>(&theta;)>\")\n",
    "beast.node(\"L\", \"<F<sub>&lambda;</sub>(&theta;<sub>star</sub>)>\")\n",
    "beast.node(\"D\", \"<D<sub>&lambda;</sub>(&theta;<sub>dust</sub>)>\")\n",
    "beast.node(\"LD\", \"<F<sup>Mod</sup><sub>&lambda;</sub>(&theta;)>\")\n",
    "beast.node(\"F\", \"<B(&lambda;)>\")\n",
    "beast.edge(\"F\", \"BF\")\n",
    "beast.edge(\"L\", \"LD\")\n",
    "beast.edge(\"D\", \"LD\")\n",
    "beast.edge(\"LD\", \"BF\")\n",
    "beast.node(\"M\", \"M\")\n",
    "beast.node(\"t\", \"t\")\n",
    "beast.node(\"Z\", \"Z\")\n",
    "beast.node(\"d\", \"d\")\n",
    "beast.edge(\"M\", \"L\")\n",
    "beast.edge(\"t\", \"L\")\n",
    "beast.edge(\"Z\", \"L\")\n",
    "beast.edge(\"d\", \"L\")\n",
    "beast.node(\"Av\", \"A(V)\")\n",
    "beast.node(\"Rv\", \"R(V)\")\n",
    "beast.node(\"fA\", \"<f<SUB>A</SUB>>\")\n",
    "beast.edge(\"Av\", \"D\")\n",
    "beast.edge(\"Rv\", \"D\")\n",
    "beast.edge(\"fA\", \"D\")\n",
    "beast.node(\"IMF\", \"IMF\")\n",
    "beast.edge(\"IMF\", \"M\")\n",
    "beast.node(\"SFH\", \"SFH\")\n",
    "beast.edge(\"SFH\", \"M\")\n",
    "beast.edge(\"SFH\", \"t\")\n",
    "beast.node(\"AMR\", \"AMR\")\n",
    "beast.edge(\"AMR\", \"t\")\n",
    "beast.edge(\"AMR\", \"Z\")\n",
    "beast.node(\"DP\", \"P(d)\")\n",
    "beast.edge(\"DP\", \"d\")\n",
    "beast.node(\"FC\", \"FD\")\n",
    "beast.node(\"GC\", \"ID\")\n",
    "beast.edge(\"FC\", \"Av\")\n",
    "beast.edge(\"FC\", \"Rv\")\n",
    "beast.edge(\"FC\", \"fA\")\n",
    "beast.edge(\"GC\", \"Av\")\n",
    "beast.edge(\"GC\", \"Rv\")\n",
    "beast.edge(\"GC\", \"fA\")\n",
    "beast.node(\"Obs\", \"<&mu;<sub>i</sub>(F<sup>Mod</sup><sub>i</sub>), &sigma;<sub>i</sub>(F<sup>Mod</sup><sub>i</sub>)>\")\n",
    "beast.edge(\"Obs\", \"Like\")\n",
    "beast.node(\"Like\", \"Observed Band Fluxes\", style=\"filled\")\n",
    "beast.edge(\"BF\", \"Like\")\n",
    "beast.node(\"AST\", \"ASTs\")\n",
    "beast.edge(\"AST\", \"Obs\")\n",
    "beast.edge(\"BF\", \"AST\")\n",
    "beast"
   ]
  },
  {
   "cell_type": "code",
   "execution_count": null,
   "metadata": {},
   "outputs": [],
   "source": [
    "beast.render('beast-graphic-symbols', format='png')"
   ]
  },
  {
   "cell_type": "code",
   "execution_count": null,
   "metadata": {},
   "outputs": [],
   "source": []
  }
 ],
 "metadata": {
  "kernelspec": {
   "display_name": "Python 3",
   "language": "python",
   "name": "python3"
  },
  "language_info": {
   "codemirror_mode": {
    "name": "ipython",
    "version": 3
   },
   "file_extension": ".py",
   "mimetype": "text/x-python",
   "name": "python",
   "nbconvert_exporter": "python",
   "pygments_lexer": "ipython3",
   "version": "3.7.7"
  }
 },
 "nbformat": 4,
 "nbformat_minor": 4
}
