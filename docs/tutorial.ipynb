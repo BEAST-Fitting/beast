{
 "cells": [
  {
   "cell_type": "markdown",
   "id": "5494f1ce",
   "metadata": {},
   "source": [
    "# BEAST Workflow Example\n",
    "\n",
    "This notebook provides an example for how to use the Bayesian Extinction and Stellar Tool (BEAST). \n",
    "\n",
    "Before starting, please make sure you have at least BEAST v2.0 installed. \n",
    "\n",
    "If you have questions or comments about the content included below, please contact Christina Lindberg (christina.lindberg@live.com)."
   ]
  },
  {
   "cell_type": "code",
   "execution_count": 6,
   "id": "4e8ac098",
   "metadata": {},
   "outputs": [],
   "source": [
    "import h5py\n",
    "\n",
    "import numpy as np\n",
    "from astropy import wcs\n",
    "from astropy.io import fits\n",
    "from astropy.table import Table\n",
    "\n",
    "import glob\n",
    "import os\n",
    "import types\n",
    "import argparse\n",
    "import importlib\n",
    "from IPython.display import Image\n",
    "\n",
    "import matplotlib.pyplot as plt\n",
    "%matplotlib inline\n",
    "\n",
    "from beast.plotting import (plot_mag_hist, \n",
    "                            plot_ast_histogram, \n",
    "                            plot_noisemodel)\n",
    "\n",
    "from beast.tools.run import (\n",
    "    create_physicsmodel,\n",
    "    make_ast_inputs,\n",
    "    create_obsmodel,\n",
    "    run_fitting,\n",
    "    merge_files,\n",
    "    create_filenames,\n",
    ")\n",
    "\n",
    "from beast.physicsmodel.grid import SEDGrid\n",
    "from beast.fitting import trim_grid\n",
    "import beast.observationmodel.noisemodel.generic_noisemodel as noisemodel\n",
    "from beast.observationmodel.observations import Observations\n",
    "    \n",
    "from beast.tools import (\n",
    "     beast_settings,\n",
    "     create_background_density_map,\n",
    "     split_ast_input_file,\n",
    "     split_catalog_using_map,\n",
    "     cut_catalogs,\n",
    "     setup_batch_beast_trim,\n",
    ")"
   ]
  },
  {
   "cell_type": "markdown",
   "id": "f2aa3b7f",
   "metadata": {},
   "source": [
    "For this example, we will be walking through a standard BEAST workflow example using photometry from the Panchromatic Hubble Andromeda Treasury (PHAT) survey (Dalcanton et al. 2012). \n",
    "\n",
    "If you are running this example notebook locally, the example data can be fetched at https://www.dropbox.com/sh/91aefrp9gzdc9z0/AAC9Gc4KIRIB520g6a0uLLama?dl=0\n",
    "\n",
    "You can download the files manually from the link above and place them in a folder called `/data` within the same folder as this notebook."
   ]
  },
  {
   "cell_type": "markdown",
   "id": "3ed25ca5",
   "metadata": {},
   "source": [
    "## Step 1a. Make magnitude histograms\n",
    "The first thing we need to do is understand the range of stellar magnitudes we are working with in this data set.\n",
    "\n",
    "To do this we can make histograms of all the magnitudes of all the stars in all the different filters from the photometric catalog. This is done so that we know where the peaks of the histograms are in each filter. These peaks will then be used later when we make source density maps.\n",
    "\n",
    "Essentially what happens is that, for the density maps, we only count objects within a certain range, currently set to mag_cut = 15 - (peak_for_filter-0.5). So if the peak was 17.5, then the objects that would be counted would have to be in the range between 15 and 18.\n",
    "\n",
    "The reason we only count brighter sources is because dimmer sources tend to not be properly observed, especially as the magnitudes near the telescope limit. There will always be far more dim sources than bright sources, but if we know how many bright sources there are, then we can extrapolate as to how many dim sources there should be, and probably get a better understand from that than if we were to try and actually count all the dim sources we detect.\n",
    "\n",
    "**Variable Information**\n",
    "\n",
    "- field_name : the string name of the main photometric catalog we are working with. This variable will be used to rename a lot of different files in the future which is why we have it as a separate variable.\n",
    "- gst_file : stands for good-stars, this is the full name for the original photometric catalog we are working with."
   ]
  },
  {
   "cell_type": "code",
   "execution_count": 2,
   "id": "9f96b536",
   "metadata": {},
   "outputs": [],
   "source": [
    "field_name = \"M31-B09-EAST_chunk\"\n",
    "gst_file = \"./data/%s.st.fits\" %field_name"
   ]
  },
  {
   "cell_type": "markdown",
   "id": "70e096f9",
   "metadata": {},
   "source": [
    "We can see what type of data this fits file holds by making a table. There should be around 50,000 sources in this calalog, which is quite small compared to the original file.\n",
    "\n",
    "Note: st stands for stars. We also sometimes name things gst for good stars to signify when cuts have been made."
   ]
  },
  {
   "cell_type": "code",
   "execution_count": 3,
   "id": "a00782d6",
   "metadata": {},
   "outputs": [
    {
     "data": {
      "text/html": [
       "<div><i>Table length=50507</i>\n",
       "<table id=\"table140657365074176\" class=\"table-striped table-bordered table-condensed\">\n",
       "<thead><tr><th>F814W_ST</th><th>F814W_GST</th><th>F475W_ST</th><th>F475W_GST</th><th>F275W_ST</th><th>F275W_GST</th><th>F160W_ST</th><th>F160W_GST</th><th>F336W_ST</th><th>F336W_GST</th><th>F110W_ST</th><th>F110W_GST</th><th>X</th><th>Y</th><th>RA</th><th>DEC</th><th>CHI_GL</th><th>SNR_GL</th><th>SHARP_GL</th><th>ROUND_GL</th><th>CROWD_GL</th><th>F475W_COUNT</th><th>F475W_SKY</th><th>F475W_RATE</th><th>F475W_RATERR</th><th>F475W_VEGA</th><th>F475W_TRANS</th><th>F475W_ERR</th><th>F475W_CHI</th><th>F475W_SNR</th><th>F475W_SHARP</th><th>F475W_ROUND</th><th>F475W_CROWD</th><th>F814W_COUNT</th><th>F814W_SKY</th><th>F814W_RATE</th><th>F814W_RATERR</th><th>F814W_VEGA</th><th>F814W_TRANS</th><th>F814W_ERR</th><th>F814W_CHI</th><th>F814W_SNR</th><th>F814W_SHARP</th><th>F814W_ROUND</th><th>F814W_CROWD</th><th>F275W_COUNT</th><th>F275W_SKY</th><th>F275W_RATE</th><th>F275W_RATERR</th><th>F275W_VEGA</th><th>F275W_TRANS</th><th>F275W_ERR</th><th>F275W_CHI</th><th>F275W_SNR</th><th>F275W_SHARP</th><th>F275W_ROUND</th><th>F275W_CROWD</th><th>F336W_COUNT</th><th>F336W_SKY</th><th>F336W_RATE</th><th>F336W_RATERR</th><th>F336W_VEGA</th><th>F336W_TRANS</th><th>F336W_ERR</th><th>F336W_CHI</th><th>F336W_SNR</th><th>F336W_SHARP</th><th>F336W_ROUND</th><th>F336W_CROWD</th><th>F110W_COUNT</th><th>F110W_SKY</th><th>F110W_RATE</th><th>F110W_RATERR</th><th>F110W_VEGA</th><th>F110W_TRANS</th><th>F110W_ERR</th><th>F110W_CHI</th><th>F110W_SNR</th><th>F110W_SHARP</th><th>F110W_ROUND</th><th>F110W_CROWD</th><th>F160W_COUNT</th><th>F160W_SKY</th><th>F160W_RATE</th><th>F160W_RATERR</th><th>F160W_VEGA</th><th>F160W_TRANS</th><th>F160W_ERR</th><th>F160W_CHI</th><th>F160W_SNR</th><th>F160W_SHARP</th><th>F160W_ROUND</th><th>F160W_CROWD</th><th>EXT</th><th>CHIP</th><th>MAJAX_GL</th><th>OBJTYPE_GL</th><th>F475W_FLAG</th><th>F814W_FLAG</th><th>F275W_FLAG</th><th>F336W_FLAG</th><th>F110W_FLAG</th><th>F160W_FLAG</th></tr></thead>\n",
       "<thead><tr><th>bool</th><th>bool</th><th>bool</th><th>bool</th><th>bool</th><th>bool</th><th>bool</th><th>bool</th><th>bool</th><th>bool</th><th>bool</th><th>bool</th><th>float64</th><th>float64</th><th>float64</th><th>float64</th><th>float64</th><th>float64</th><th>float64</th><th>float64</th><th>float64</th><th>float64</th><th>float64</th><th>float64</th><th>float64</th><th>float64</th><th>float64</th><th>float64</th><th>float64</th><th>float64</th><th>float64</th><th>float64</th><th>float64</th><th>float64</th><th>float64</th><th>float64</th><th>float64</th><th>float64</th><th>float64</th><th>float64</th><th>float64</th><th>float64</th><th>float64</th><th>float64</th><th>float64</th><th>float64</th><th>float64</th><th>float64</th><th>float64</th><th>float64</th><th>float64</th><th>float64</th><th>float64</th><th>float64</th><th>float64</th><th>float64</th><th>float64</th><th>float64</th><th>float64</th><th>float64</th><th>float64</th><th>float64</th><th>float64</th><th>float64</th><th>float64</th><th>float64</th><th>float64</th><th>float64</th><th>float64</th><th>float64</th><th>float64</th><th>float64</th><th>float64</th><th>float64</th><th>float64</th><th>float64</th><th>float64</th><th>float64</th><th>float64</th><th>float64</th><th>float64</th><th>float64</th><th>float64</th><th>float64</th><th>float64</th><th>float64</th><th>float64</th><th>float64</th><th>float64</th><th>float64</th><th>float64</th><th>float64</th><th>float64</th><th>int64</th><th>int64</th><th>int64</th><th>int64</th><th>int64</th><th>int64</th><th>int64</th><th>int64</th><th>int64</th><th>int64</th></tr></thead>\n",
       "<tr><td>True</td><td>True</td><td>True</td><td>True</td><td>True</td><td>True</td><td>True</td><td>True</td><td>True</td><td>True</td><td>True</td><td>True</td><td>869.8900000046692</td><td>44.40999999483233</td><td>11.131832570656686</td><td>41.603419438518735</td><td>4.03</td><td>2917.0</td><td>-0.03</td><td>0.02</td><td>0.251</td><td>233000000.0</td><td>87358.19</td><td>9.039999999999999e-08</td><td>1.3800000000000002e-09</td><td>17.61</td><td>17.721</td><td>0.017</td><td>2.48</td><td>65.4</td><td>0.005</td><td>0.038</td><td>0.175</td><td>198000000.0</td><td>102360.6</td><td>1.59e-07</td><td>1.27e-09</td><td>16.996</td><td>16.986</td><td>0.009000000000000001</td><td>1.77</td><td>124.8</td><td>0.01</td><td>0.049</td><td>0.22699999999999998</td><td>5970000.0</td><td>2256.98</td><td>1.25e-07</td><td>1.16e-09</td><td>17.255</td><td>nan</td><td>0.01</td><td>2.92</td><td>107.7</td><td>-0.038</td><td>0.018000000000000002</td><td>0.086</td><td>23800000.0</td><td>7534.45</td><td>1.69e-07</td><td>6.92e-10</td><td>16.932000000000002</td><td>nan</td><td>0.004</td><td>2.63</td><td>243.9</td><td>-0.031</td><td>0.059000000000000004</td><td>0.084</td><td>79700000.0</td><td>88039.23</td><td>1.6e-07</td><td>2.58e-10</td><td>16.992</td><td>nan</td><td>0.002</td><td>2.23</td><td>619.1</td><td>-0.004</td><td>0.1</td><td>0.35</td><td>56000000.0</td><td>93657.59</td><td>1.8e-07</td><td>2.53e-10</td><td>16.864</td><td>nan</td><td>0.002</td><td>1.51</td><td>708.8</td><td>-0.018000000000000002</td><td>0.027000000000000003</td><td>0.396</td><td>0</td><td>1</td><td>165</td><td>1</td><td>2</td><td>2</td><td>0</td><td>0</td><td>0</td><td>0</td></tr>\n",
       "<tr><td>True</td><td>True</td><td>True</td><td>True</td><td>True</td><td>True</td><td>True</td><td>True</td><td>True</td><td>True</td><td>True</td><td>True</td><td>868.3900000040028</td><td>42.189999993549804</td><td>11.13180414033402</td><td>41.60338891056161</td><td>4.13</td><td>2566.5</td><td>-0.05</td><td>0.028999999999999998</td><td>0.27699999999999997</td><td>125000000.0</td><td>46004.84</td><td>4.85e-08</td><td>2.51e-10</td><td>18.285999999999998</td><td>18.412</td><td>0.006</td><td>3.02</td><td>193.3</td><td>-0.053</td><td>-0.006</td><td>0.231</td><td>118000000.0</td><td>77080.48</td><td>9.23e-08</td><td>1.24e-09</td><td>17.587</td><td>17.577</td><td>0.015</td><td>5.87</td><td>74.3</td><td>-0.096</td><td>0.044000000000000004</td><td>0.324</td><td>4360000.0</td><td>2332.74</td><td>9.15e-08</td><td>7.099999999999999e-10</td><td>17.597</td><td>nan</td><td>0.008</td><td>2.08</td><td>128.8</td><td>-0.057</td><td>0.008</td><td>0.092</td><td>16500000.0</td><td>8339.99</td><td>1.1699999999999999e-07</td><td>9.25e-10</td><td>17.329</td><td>nan</td><td>0.009000000000000001</td><td>3.74</td><td>126.5</td><td>-0.085</td><td>-0.006999999999999999</td><td>0.106</td><td>49500000.0</td><td>82165.18</td><td>9.92e-08</td><td>2.82e-10</td><td>17.508</td><td>nan</td><td>0.003</td><td>2.79</td><td>352.5</td><td>0.013000000000000001</td><td>-0.079</td><td>0.516</td><td>35100000.0</td><td>87515.55</td><td>1.13e-07</td><td>3.31e-10</td><td>17.371</td><td>nan</td><td>0.003</td><td>2.18</td><td>340.0</td><td>-0.026000000000000002</td><td>-0.004</td><td>0.635</td><td>0</td><td>1</td><td>75</td><td>1</td><td>2</td><td>2</td><td>0</td><td>2</td><td>0</td><td>0</td></tr>\n",
       "<tr><td>True</td><td>True</td><td>False</td><td>False</td><td>False</td><td>False</td><td>True</td><td>True</td><td>False</td><td>False</td><td>True</td><td>True</td><td>297.1500000049341</td><td>22.169999994536283</td><td>11.135275566985227</td><td>41.595888643103535</td><td>1.17</td><td>1663.1</td><td>-0.08800000000000001</td><td>0.061</td><td>0.008</td><td>29910.7</td><td>10270.95</td><td>1.1499999999999999e-11</td><td>1.34e-12</td><td>27.348000000000003</td><td>27.805999999999997</td><td>0.126</td><td>1.34</td><td>8.6</td><td>-0.634</td><td>0.177</td><td>0.025</td><td>4160000.0</td><td>21190.25</td><td>3.17e-09</td><td>1.0000000000000001e-11</td><td>21.248</td><td>21.423000000000002</td><td>0.003</td><td>0.9</td><td>316.3</td><td>-0.063</td><td>0.049</td><td>0.001</td><td>-1.7</td><td>44.5</td><td>-6.900000000000001e-14</td><td>1.49e-11</td><td>nan</td><td>nan</td><td>9.999</td><td>0.87</td><td>-0.0</td><td>1.058</td><td>2.951</td><td>0.002</td><td>-565.3</td><td>268.32</td><td>-4.1e-12</td><td>6.389999999999999e-12</td><td>nan</td><td>nan</td><td>9.999</td><td>1.05</td><td>-0.6</td><td>0.0</td><td>0.0</td><td>0.0</td><td>39700000.0</td><td>73069.77</td><td>7.96e-08</td><td>1.1e-10</td><td>17.747</td><td>nan</td><td>0.001</td><td>1.35</td><td>723.9</td><td>0.012</td><td>-0.027000000000000003</td><td>0.011000000000000001</td><td>67100000.0</td><td>85406.73</td><td>2.15e-07</td><td>1.8399999999999998e-10</td><td>16.668</td><td>nan</td><td>0.001</td><td>1.11</td><td>1172.0</td><td>-0.004</td><td>-0.005</td><td>0.012</td><td>0</td><td>1</td><td>10</td><td>1</td><td>0</td><td>0</td><td>0</td><td>0</td><td>2</td><td>2</td></tr>\n",
       "<tr><td>True</td><td>True</td><td>True</td><td>True</td><td>True</td><td>True</td><td>True</td><td>True</td><td>True</td><td>True</td><td>True</td><td>True</td><td>884.8300000051681</td><td>95.5499999940555</td><td>11.132618614902443</td><td>41.60386858784989</td><td>1.9</td><td>2292.6</td><td>-0.025</td><td>0.013000000000000001</td><td>0.01</td><td>66100000.0</td><td>22123.93</td><td>2.5299999999999998e-08</td><td>2.46e-11</td><td>18.99</td><td>18.977</td><td>0.001</td><td>1.67</td><td>1031.4</td><td>-0.023</td><td>0.013999999999999999</td><td>0.0</td><td>34800000.0</td><td>30329.55</td><td>2.64e-08</td><td>2.7e-11</td><td>18.944000000000003</td><td>18.934</td><td>0.001</td><td>1.23</td><td>980.7</td><td>0.004</td><td>0.018000000000000002</td><td>0.002</td><td>5440000.0</td><td>1002.34</td><td>1.14e-07</td><td>1.13e-09</td><td>17.355999999999998</td><td>nan</td><td>0.011000000000000001</td><td>2.74</td><td>101.0</td><td>-0.059000000000000004</td><td>0.046</td><td>0.0</td><td>12000000.0</td><td>2448.62</td><td>8.51e-08</td><td>5.41e-10</td><td>17.676</td><td>nan</td><td>0.006999999999999999</td><td>2.98</td><td>157.3</td><td>-0.085</td><td>0.037000000000000005</td><td>0.0</td><td>11400000.0</td><td>75079.13</td><td>2.28e-08</td><td>5.56e-11</td><td>19.104</td><td>nan</td><td>0.003</td><td>1.38</td><td>411.0</td><td>-0.045</td><td>-0.009000000000000001</td><td>0.03</td><td>7260000.0</td><td>80299.63</td><td>2.33e-08</td><td>5.929999999999999e-11</td><td>19.082</td><td>nan</td><td>0.003</td><td>0.93</td><td>392.4</td><td>-0.017</td><td>-0.003</td><td>0.079</td><td>0</td><td>1</td><td>130</td><td>1</td><td>0</td><td>0</td><td>2</td><td>0</td><td>0</td><td>0</td></tr>\n",
       "<tr><td>True</td><td>True</td><td>False</td><td>False</td><td>False</td><td>False</td><td>True</td><td>True</td><td>False</td><td>False</td><td>True</td><td>True</td><td>805.8000000041931</td><td>624.1299999942455</td><td>11.142303960527883</td><td>41.605486300332416</td><td>1.23</td><td>1555.9</td><td>-0.122</td><td>0.165</td><td>0.016</td><td>-8222.3</td><td>10309.21</td><td>-3.2e-12</td><td>8.149999999999999e-13</td><td>nan</td><td>nan</td><td>9.999</td><td>1.18</td><td>-3.9</td><td>-4.412</td><td>0.713</td><td>0.478</td><td>854724.4</td><td>18592.63</td><td>6.51e-10</td><td>4.58e-12</td><td>22.965999999999998</td><td>nan</td><td>0.008</td><td>1.27</td><td>142.1</td><td>-0.157</td><td>0.221</td><td>0.006</td><td>-836.7</td><td>44.69</td><td>-1.8e-11</td><td>1.98e-11</td><td>nan</td><td>nan</td><td>9.999</td><td>1.2</td><td>-0.9</td><td>0.84</td><td>-0.28</td><td>0.037000000000000005</td><td>-490.7</td><td>257.91</td><td>-3.6000000000000004e-12</td><td>6.37e-12</td><td>nan</td><td>nan</td><td>9.999</td><td>0.93</td><td>-0.6</td><td>0.0</td><td>0.0</td><td>0.0</td><td>36400000.0</td><td>71988.72</td><td>7.299999999999999e-08</td><td>1.68e-10</td><td>17.842</td><td>nan</td><td>0.003</td><td>2.24</td><td>433.8</td><td>-0.059000000000000004</td><td>0.075</td><td>0.006999999999999999</td><td>63800000.0</td><td>85344.55</td><td>2.05e-07</td><td>1.8399999999999998e-10</td><td>16.723</td><td>nan</td><td>0.001</td><td>0.98</td><td>1114.1</td><td>0.009000000000000001</td><td>0.002</td><td>0.01</td><td>0</td><td>1</td><td>15</td><td>1</td><td>3</td><td>3</td><td>0</td><td>0</td><td>2</td><td>2</td></tr>\n",
       "<tr><td>True</td><td>True</td><td>True</td><td>True</td><td>False</td><td>False</td><td>True</td><td>True</td><td>False</td><td>False</td><td>True</td><td>True</td><td>158.71000000585047</td><td>879.0699999946071</td><td>11.15104419200253</td><td>41.598376680664366</td><td>1.21</td><td>1504.4</td><td>-0.057999999999999996</td><td>0.11800000000000001</td><td>0.008</td><td>174859.8</td><td>10226.12</td><td>6.75e-11</td><td>1.7799999999999999e-12</td><td>25.427</td><td>26.089000000000002</td><td>0.028999999999999998</td><td>1.24</td><td>37.8</td><td>-0.16</td><td>0.318</td><td>0.01</td><td>5210000.0</td><td>21725.85</td><td>3.97e-09</td><td>1.1e-11</td><td>21.003</td><td>21.096</td><td>0.003</td><td>0.86</td><td>362.1</td><td>-0.034</td><td>0.033</td><td>0.003</td><td>-124.2</td><td>31.75</td><td>-2.6000000000000002e-12</td><td>1.3599999999999999e-11</td><td>nan</td><td>nan</td><td>9.999</td><td>0.85</td><td>-0.2</td><td>0.06</td><td>6.64</td><td>0.0</td><td>746.3</td><td>233.95</td><td>5.4500000000000004e-12</td><td>6.2599999999999996e-12</td><td>28.159000000000002</td><td>nan</td><td>1.246</td><td>1.17</td><td>0.9</td><td>-0.039</td><td>-0.7020000000000001</td><td>0.006</td><td>25900000.0</td><td>68934.5</td><td>5.2e-08</td><td>1.01e-10</td><td>18.21</td><td>nan</td><td>0.002</td><td>1.76</td><td>512.9</td><td>-0.054000000000000006</td><td>0.065</td><td>0.011000000000000001</td><td>45900000.0</td><td>80340.59</td><td>1.47e-07</td><td>1.35e-10</td><td>17.08</td><td>nan</td><td>0.001</td><td>1.04</td><td>1088.4</td><td>-0.024</td><td>0.006999999999999999</td><td>0.013000000000000001</td><td>0</td><td>1</td><td>150</td><td>1</td><td>2</td><td>0</td><td>0</td><td>0</td><td>0</td><td>0</td></tr>\n",
       "<tr><td>...</td><td>...</td><td>...</td><td>...</td><td>...</td><td>...</td><td>...</td><td>...</td><td>...</td><td>...</td><td>...</td><td>...</td><td>...</td><td>...</td><td>...</td><td>...</td><td>...</td><td>...</td><td>...</td><td>...</td><td>...</td><td>...</td><td>...</td><td>...</td><td>...</td><td>...</td><td>...</td><td>...</td><td>...</td><td>...</td><td>...</td><td>...</td><td>...</td><td>...</td><td>...</td><td>...</td><td>...</td><td>...</td><td>...</td><td>...</td><td>...</td><td>...</td><td>...</td><td>...</td><td>...</td><td>...</td><td>...</td><td>...</td><td>...</td><td>...</td><td>...</td><td>...</td><td>...</td><td>...</td><td>...</td><td>...</td><td>...</td><td>...</td><td>...</td><td>...</td><td>...</td><td>...</td><td>...</td><td>...</td><td>...</td><td>...</td><td>...</td><td>...</td><td>...</td><td>...</td><td>...</td><td>...</td><td>...</td><td>...</td><td>...</td><td>...</td><td>...</td><td>...</td><td>...</td><td>...</td><td>...</td><td>...</td><td>...</td><td>...</td><td>...</td><td>...</td><td>...</td><td>...</td><td>...</td><td>...</td><td>...</td><td>...</td><td>...</td><td>...</td><td>...</td><td>...</td><td>...</td><td>...</td><td>...</td><td>...</td><td>...</td><td>...</td><td>...</td></tr>\n",
       "<tr><td>False</td><td>False</td><td>False</td><td>False</td><td>False</td><td>False</td><td>False</td><td>False</td><td>False</td><td>False</td><td>False</td><td>False</td><td>491.7300000047286</td><td>28.15999999404994</td><td>11.13407882831087</td><td>41.59843930637129</td><td>1.3</td><td>3.6</td><td>1.249</td><td>1.4040000000000001</td><td>0.9420000000000001</td><td>-3482.7</td><td>9812.03</td><td>-1.3000000000000001e-12</td><td>9.75e-13</td><td>nan</td><td>nan</td><td>9.999</td><td>1.25</td><td>-1.4</td><td>0.9009999999999999</td><td>-1.339</td><td>0.451</td><td>17882.3</td><td>18260.27</td><td>1.3599999999999999e-11</td><td>3.22e-12</td><td>27.164</td><td>nan</td><td>0.257</td><td>1.45</td><td>4.2</td><td>1.393</td><td>1.757</td><td>1.099</td><td>-1014.1</td><td>51.71</td><td>-2.1e-11</td><td>1.4699999999999998e-11</td><td>nan</td><td>nan</td><td>9.999</td><td>0.9</td><td>-1.4</td><td>0.0</td><td>0.0</td><td>0.0</td><td>-2806.0</td><td>259.79</td><td>-2.0000000000000002e-11</td><td>1.0800000000000001e-11</td><td>nan</td><td>nan</td><td>9.999</td><td>0.87</td><td>-1.8</td><td>0.0</td><td>0.0</td><td>0.0</td><td>-843.3</td><td>67460.74</td><td>-1.6999999999999998e-12</td><td>1.6e-11</td><td>nan</td><td>nan</td><td>9.999</td><td>1.71</td><td>-0.1</td><td>0.0</td><td>0.0</td><td>0.0</td><td>14713.1</td><td>74903.59</td><td>4.72e-11</td><td>2.64e-11</td><td>25.816</td><td>nan</td><td>0.607</td><td>1.26</td><td>1.8</td><td>0.32799999999999996</td><td>1.579</td><td>2.6</td><td>0</td><td>1</td><td>30</td><td>1</td><td>2</td><td>0</td><td>0</td><td>0</td><td>0</td><td>0</td></tr>\n",
       "<tr><td>False</td><td>False</td><td>False</td><td>False</td><td>False</td><td>False</td><td>False</td><td>False</td><td>False</td><td>False</td><td>False</td><td>False</td><td>45.10000000349737</td><td>784.4199999943728</td><td>11.150163527414094</td><td>41.596431973103726</td><td>1.13</td><td>4.5</td><td>0.297</td><td>0.653</td><td>1.6269999999999998</td><td>10956.9</td><td>8636.31</td><td>4.24e-12</td><td>1.08e-12</td><td>28.430999999999997</td><td>nan</td><td>0.276</td><td>1.03</td><td>3.9</td><td>0.131</td><td>-0.102</td><td>1.251</td><td>-3891.8</td><td>15874.79</td><td>-2.9999999999999997e-12</td><td>3.39e-12</td><td>nan</td><td>nan</td><td>9.999</td><td>1.31</td><td>-0.9</td><td>2.092</td><td>8.902000000000001</td><td>3.199</td><td>-1522.4</td><td>26.91</td><td>-3.2e-11</td><td>1.64e-11</td><td>nan</td><td>nan</td><td>9.999</td><td>1.2</td><td>-2.0</td><td>0.0</td><td>0.0</td><td>0.0</td><td>1473.8</td><td>225.73</td><td>1.07e-11</td><td>5.480000000000001e-12</td><td>27.421999999999997</td><td>nan</td><td>0.5529999999999999</td><td>0.9</td><td>2.0</td><td>0.431</td><td>0.9179999999999999</td><td>0.053</td><td>13270.7</td><td>60622.41</td><td>2.66e-11</td><td>1.16e-11</td><td>26.438000000000002</td><td>nan</td><td>0.475</td><td>1.47</td><td>2.3</td><td>0.249</td><td>0.769</td><td>2.782</td><td>1628.0</td><td>66785.31</td><td>5.26e-12</td><td>2.0200000000000002e-11</td><td>28.198</td><td>nan</td><td>4.17</td><td>0.87</td><td>0.3</td><td>0.149</td><td>0.026000000000000002</td><td>3.0269999999999997</td><td>0</td><td>1</td><td>150</td><td>1</td><td>0</td><td>0</td><td>0</td><td>0</td><td>0</td><td>0</td></tr>\n",
       "<tr><td>False</td><td>False</td><td>False</td><td>False</td><td>False</td><td>False</td><td>False</td><td>False</td><td>False</td><td>False</td><td>False</td><td>False</td><td>300.67000000529197</td><td>124.46999999461252</td><td>11.13702404373161</td><td>41.59644549997782</td><td>1.24</td><td>3.8</td><td>-0.239</td><td>2.224</td><td>0.988</td><td>8530.9</td><td>8828.88</td><td>3.28e-12</td><td>9.2e-13</td><td>28.712</td><td>29.011999999999997</td><td>0.305</td><td>1.18</td><td>3.6</td><td>-0.11900000000000001</td><td>3.517</td><td>1.002</td><td>14136.9</td><td>17768.3</td><td>1.0800000000000001e-11</td><td>2.9e-12</td><td>27.42</td><td>27.414</td><td>0.292</td><td>1.31</td><td>3.7</td><td>-0.193</td><td>1.558</td><td>1.268</td><td>-1678.8</td><td>-5.81</td><td>-3.6e-11</td><td>1.68e-11</td><td>nan</td><td>nan</td><td>9.999</td><td>1.18</td><td>-2.1</td><td>-0.41200000000000003</td><td>-1.262</td><td>0.037000000000000005</td><td>20.4</td><td>204.34</td><td>1.2e-13</td><td>6.4599999999999995e-12</td><td>32.298</td><td>nan</td><td>9.999</td><td>1.13</td><td>0.0</td><td>-1.379</td><td>0.364</td><td>0.099</td><td>6309.5</td><td>64820.31</td><td>1.26e-11</td><td>1.39e-11</td><td>27.245</td><td>nan</td><td>1.195</td><td>1.62</td><td>0.9</td><td>-0.172</td><td>0.163</td><td>3.687</td><td>1575.6</td><td>71781.3</td><td>5.0500000000000005e-12</td><td>1.97e-11</td><td>28.241999999999997</td><td>nan</td><td>4.245</td><td>0.88</td><td>0.3</td><td>0.062</td><td>-0.011000000000000001</td><td>3.931</td><td>0</td><td>1</td><td>100</td><td>1</td><td>0</td><td>0</td><td>0</td><td>0</td><td>0</td><td>0</td></tr>\n",
       "<tr><td>False</td><td>False</td><td>False</td><td>False</td><td>False</td><td>False</td><td>False</td><td>False</td><td>False</td><td>False</td><td>False</td><td>False</td><td>328.90000000475607</td><td>371.37999999437136</td><td>11.141112398449446</td><td>41.59804507142715</td><td>1.16</td><td>3.8</td><td>-0.11800000000000001</td><td>0.616</td><td>3.438</td><td>-6049.9</td><td>8542.92</td><td>-2.3e-12</td><td>1e-12</td><td>nan</td><td>nan</td><td>9.999</td><td>1.02</td><td>-2.3</td><td>-0.151</td><td>9.596</td><td>2.115</td><td>-5593.7</td><td>16425.26</td><td>-4.3e-12</td><td>2.5000000000000003e-12</td><td>nan</td><td>nan</td><td>9.999</td><td>1.1</td><td>-1.7</td><td>0.376</td><td>-2.5469999999999997</td><td>2.073</td><td>4632.4</td><td>40.89</td><td>9.83e-11</td><td>3.2100000000000004e-11</td><td>25.018</td><td>nan</td><td>0.355</td><td>1.3</td><td>3.1</td><td>-0.1</td><td>0.402</td><td>0.053</td><td>-1094.0</td><td>197.85</td><td>-8e-12</td><td>5.59e-12</td><td>nan</td><td>nan</td><td>9.999</td><td>0.83</td><td>-1.4</td><td>0.0</td><td>0.0</td><td>0.0</td><td>-1385.9</td><td>63262.95</td><td>-2.7999999999999998e-12</td><td>1.64e-11</td><td>nan</td><td>nan</td><td>9.999</td><td>1.55</td><td>-0.2</td><td>0.0</td><td>0.0</td><td>0.0</td><td>32938.1</td><td>70232.93</td><td>1.06e-10</td><td>2.7300000000000002e-11</td><td>24.94</td><td>nan</td><td>0.28</td><td>1.33</td><td>3.9</td><td>0.132</td><td>0.342</td><td>2.597</td><td>0</td><td>1</td><td>160</td><td>1</td><td>0</td><td>1</td><td>0</td><td>0</td><td>0</td><td>0</td></tr>\n",
       "<tr><td>False</td><td>False</td><td>False</td><td>False</td><td>False</td><td>False</td><td>False</td><td>False</td><td>False</td><td>False</td><td>False</td><td>False</td><td>546.9500000037107</td><td>61.31999999343384</td><td>11.134284148248089</td><td>41.5993203942432</td><td>1.08</td><td>3.6</td><td>0.297</td><td>0.861</td><td>2.937</td><td>-1815.0</td><td>9237.35</td><td>-6.9e-13</td><td>8.4e-13</td><td>nan</td><td>nan</td><td>9.999</td><td>1.0</td><td>-0.8</td><td>0.084</td><td>0.23600000000000002</td><td>1.24</td><td>119.8</td><td>17602.08</td><td>1.0699999999999999e-13</td><td>2.54e-12</td><td>32.423</td><td>nan</td><td>9.999</td><td>1.09</td><td>0.0</td><td>0.027000000000000003</td><td>0.782</td><td>2.589</td><td>2267.6</td><td>4.87</td><td>4.75e-11</td><td>1.81e-11</td><td>25.807</td><td>nan</td><td>0.41200000000000003</td><td>0.91</td><td>2.6</td><td>0.43</td><td>1.1159999999999999</td><td>0.013999999999999999</td><td>-1588.6</td><td>199.09</td><td>-1.1e-11</td><td>7.639999999999999e-12</td><td>nan</td><td>nan</td><td>9.999</td><td>1.25</td><td>-1.5</td><td>0.0</td><td>0.0</td><td>0.0</td><td>5653.1</td><td>67000.59</td><td>1.13e-11</td><td>1.56e-11</td><td>27.365</td><td>nan</td><td>1.499</td><td>1.52</td><td>0.7</td><td>1.1640000000000001</td><td>6.152</td><td>4.522</td><td>23006.9</td><td>73242.07</td><td>7.379999999999999e-11</td><td>2.6899999999999996e-11</td><td>25.33</td><td>nan</td><td>0.396</td><td>1.04</td><td>2.7</td><td>0.524</td><td>0.693</td><td>3.137</td><td>0</td><td>1</td><td>35</td><td>1</td><td>0</td><td>0</td><td>0</td><td>0</td><td>0</td><td>0</td></tr>\n",
       "<tr><td>False</td><td>False</td><td>False</td><td>False</td><td>False</td><td>False</td><td>False</td><td>False</td><td>False</td><td>False</td><td>False</td><td>False</td><td>729.7300000053044</td><td>216.06999999517893</td><td>11.135743163679448</td><td>41.602461665939074</td><td>1.12</td><td>3.6</td><td>0.079</td><td>2.228</td><td>1.945</td><td>4766.7</td><td>9215.83</td><td>1.82e-12</td><td>7.08e-13</td><td>29.348000000000003</td><td>29.593000000000004</td><td>0.42100000000000004</td><td>1.07</td><td>2.6</td><td>0.105</td><td>2.197</td><td>1.162</td><td>6956.3</td><td>16934.97</td><td>5.3e-12</td><td>1.96e-12</td><td>28.189</td><td>28.18</td><td>0.401</td><td>1.16</td><td>2.7</td><td>0.159</td><td>1.1420000000000001</td><td>1.744</td><td>-2312.7</td><td>89.92</td><td>-4.7999999999999996e-11</td><td>1.72e-11</td><td>nan</td><td>nan</td><td>9.999</td><td>1.1</td><td>-2.8</td><td>0.193</td><td>0.363</td><td>0.371</td><td>-856.9</td><td>206.22</td><td>-6.0999999999999995e-12</td><td>5.679999999999999e-12</td><td>nan</td><td>nan</td><td>9.999</td><td>0.96</td><td>-1.1</td><td>-0.322</td><td>8.344</td><td>0.038</td><td>3614.7</td><td>64680.2</td><td>7.240000000000001e-12</td><td>1.4499999999999998e-11</td><td>27.85</td><td>nan</td><td>2.175</td><td>1.49</td><td>0.5</td><td>-1.128</td><td>0.457</td><td>4.6610000000000005</td><td>-2560.7</td><td>72170.48</td><td>-8.2e-12</td><td>2.43e-11</td><td>nan</td><td>nan</td><td>9.999</td><td>1.24</td><td>-0.3</td><td>2.322</td><td>0.456</td><td>4.119</td><td>0</td><td>1</td><td>90</td><td>1</td><td>2</td><td>0</td><td>0</td><td>0</td><td>0</td><td>0</td></tr>\n",
       "<tr><td>False</td><td>False</td><td>False</td><td>False</td><td>False</td><td>False</td><td>False</td><td>False</td><td>False</td><td>False</td><td>False</td><td>False</td><td>735.9100000053115</td><td>553.1799999945795</td><td>11.141541865647177</td><td>41.604226347405195</td><td>1.06</td><td>3.6</td><td>0.521</td><td>3.795</td><td>1.446</td><td>6386.6</td><td>9697.99</td><td>2.46e-12</td><td>6.929999999999999e-13</td><td>29.022</td><td>29.070999999999998</td><td>0.305</td><td>1.07</td><td>3.6</td><td>0.262</td><td>3.745</td><td>0.851</td><td>4251.1</td><td>17863.19</td><td>3.2400000000000003e-12</td><td>1.7799999999999999e-12</td><td>28.725</td><td>28.715999999999998</td><td>0.598</td><td>1.02</td><td>1.8</td><td>1.04</td><td>2.144</td><td>1.3359999999999999</td><td>-1733.4</td><td>33.06</td><td>-3.7e-11</td><td>1.52e-11</td><td>nan</td><td>nan</td><td>9.999</td><td>0.97</td><td>-2.4</td><td>5.979</td><td>9.999</td><td>0.113</td><td>-1083.8</td><td>247.92</td><td>-8e-12</td><td>6.29e-12</td><td>nan</td><td>nan</td><td>9.999</td><td>0.95</td><td>-1.3</td><td>0.68</td><td>0.337</td><td>0.152</td><td>-3049.3</td><td>65793.02</td><td>-6.0999999999999995e-12</td><td>1.05e-11</td><td>nan</td><td>nan</td><td>9.999</td><td>1.27</td><td>-0.6</td><td>0.0</td><td>0.0</td><td>0.0</td><td>2055.5</td><td>71931.6</td><td>6.56e-12</td><td>1.96e-11</td><td>27.958000000000002</td><td>nan</td><td>3.238</td><td>0.98</td><td>0.3</td><td>-0.23</td><td>0.266</td><td>2.713</td><td>0</td><td>1</td><td>90</td><td>1</td><td>0</td><td>2</td><td>0</td><td>0</td><td>0</td><td>0</td></tr>\n",
       "</table></div>"
      ],
      "text/plain": [
       "<Table length=50507>\n",
       "F814W_ST F814W_GST F475W_ST F475W_GST ... F336W_FLAG F110W_FLAG F160W_FLAG\n",
       "  bool      bool     bool      bool   ...   int64      int64      int64   \n",
       "-------- --------- -------- --------- ... ---------- ---------- ----------\n",
       "    True      True     True      True ...          0          0          0\n",
       "    True      True     True      True ...          2          0          0\n",
       "    True      True    False     False ...          0          2          2\n",
       "    True      True     True      True ...          0          0          0\n",
       "    True      True    False     False ...          0          2          2\n",
       "    True      True     True      True ...          0          0          0\n",
       "     ...       ...      ...       ... ...        ...        ...        ...\n",
       "   False     False    False     False ...          0          0          0\n",
       "   False     False    False     False ...          0          0          0\n",
       "   False     False    False     False ...          0          0          0\n",
       "   False     False    False     False ...          0          0          0\n",
       "   False     False    False     False ...          0          0          0\n",
       "   False     False    False     False ...          0          0          0\n",
       "   False     False    False     False ...          0          0          0"
      ]
     },
     "execution_count": 3,
     "metadata": {},
     "output_type": "execute_result"
    }
   ],
   "source": [
    "hdul = fits.open(gst_file)\n",
    "Table(hdul[1].data)"
   ]
  },
  {
   "cell_type": "markdown",
   "id": "2f273a88",
   "metadata": {},
   "source": [
    "As we can see, there's a lot of columns and even more rows. For plotting the magnitude histograms, we're going to be interested in any column that contains the name VEGA. These are the columns with the magnitudes for each filter.\n",
    "\n",
    "We could also use the X and Y columns to plot where are the sources are located, or the RA and DEC to map their actual position in the sky.\n",
    "\n",
    "In larger projects we might have multiple fields to analyze during each run, so there would be multiple field_names. Since this is just a small example, we just have one field so our index will always be equal to 0."
   ]
  },
  {
   "cell_type": "code",
   "execution_count": 4,
   "id": "4d4c1fe4",
   "metadata": {},
   "outputs": [],
   "source": [
    "# the list of fields (we only have 1 for this example.)\n",
    "field_names = [field_name]"
   ]
  },
  {
   "cell_type": "markdown",
   "id": "09370800",
   "metadata": {},
   "source": [
    "Now we can create some histogram plots to visualize the magnitude distribution of our sources.\n",
    "\n"
   ]
  },
  {
   "cell_type": "code",
   "execution_count": 10,
   "id": "4c2a868e",
   "metadata": {},
   "outputs": [
    {
     "ename": "FileNotFoundError",
     "evalue": "[Errno 2] No such file or directory: './data/M31-B09-EAST_chunk.st.fits'",
     "output_type": "error",
     "traceback": [
      "\u001b[0;31m---------------------------------------------------------------------------\u001b[0m",
      "\u001b[0;31mFileNotFoundError\u001b[0m                         Traceback (most recent call last)",
      "Input \u001b[0;32mIn [10]\u001b[0m, in \u001b[0;36m<cell line: 3>\u001b[0;34m()\u001b[0m\n\u001b[1;32m      2\u001b[0m image_file \u001b[38;5;241m=\u001b[39m \u001b[38;5;124m'\u001b[39m\u001b[38;5;124m./data/\u001b[39m\u001b[38;5;124m'\u001b[39m\u001b[38;5;241m+\u001b[39mfield_names[\u001b[38;5;241m0\u001b[39m]\u001b[38;5;241m+\u001b[39m\u001b[38;5;124m'\u001b[39m\u001b[38;5;124m.st_maghist.pdf\u001b[39m\u001b[38;5;124m'\u001b[39m\n\u001b[1;32m      3\u001b[0m \u001b[38;5;28;01mif\u001b[39;00m \u001b[38;5;129;01mnot\u001b[39;00m os\u001b[38;5;241m.\u001b[39mpath\u001b[38;5;241m.\u001b[39misfile(image_file):\n\u001b[0;32m----> 4\u001b[0m     peak_mags \u001b[38;5;241m=\u001b[39m \u001b[43mplot_mag_hist\u001b[49m\u001b[38;5;241;43m.\u001b[39;49m\u001b[43mplot_mag_hist\u001b[49m\u001b[43m(\u001b[49m\u001b[43mgst_file\u001b[49m\u001b[43m,\u001b[49m\u001b[43m \u001b[49m\u001b[43mstars_per_bin\u001b[49m\u001b[38;5;241;43m=\u001b[39;49m\u001b[38;5;241;43m70\u001b[39;49m\u001b[43m,\u001b[49m\u001b[43m \u001b[49m\u001b[43mmax_bins\u001b[49m\u001b[38;5;241;43m=\u001b[39;49m\u001b[38;5;241;43m75\u001b[39;49m\u001b[43m)\u001b[49m\n",
      "File \u001b[0;32m~/anaconda3/lib/python3.8/site-packages/beast/plotting/plot_mag_hist.py:35\u001b[0m, in \u001b[0;36mplot_mag_hist\u001b[0;34m(data_file, stars_per_bin, max_bins)\u001b[0m\n\u001b[1;32m      9\u001b[0m \u001b[38;5;250m\u001b[39m\u001b[38;5;124;03m\"\"\"\u001b[39;00m\n\u001b[1;32m     10\u001b[0m \u001b[38;5;124;03mMake histograms of magnitudes.  This only uses the [filter]_VEGA, so\u001b[39;00m\n\u001b[1;32m     11\u001b[0m \u001b[38;5;124;03msources removed with quality cuts are not included.\u001b[39;00m\n\u001b[0;32m   (...)\u001b[0m\n\u001b[1;32m     31\u001b[0m \n\u001b[1;32m     32\u001b[0m \u001b[38;5;124;03m\"\"\"\u001b[39;00m\n\u001b[1;32m     34\u001b[0m \u001b[38;5;66;03m# read in data\u001b[39;00m\n\u001b[0;32m---> 35\u001b[0m \u001b[38;5;28;01mwith\u001b[39;00m \u001b[43mfits\u001b[49m\u001b[38;5;241;43m.\u001b[39;49m\u001b[43mopen\u001b[49m\u001b[43m(\u001b[49m\u001b[43mdata_file\u001b[49m\u001b[43m)\u001b[49m \u001b[38;5;28;01mas\u001b[39;00m hdu:\n\u001b[1;32m     36\u001b[0m     data_table \u001b[38;5;241m=\u001b[39m hdu[\u001b[38;5;241m1\u001b[39m]\u001b[38;5;241m.\u001b[39mdata\n\u001b[1;32m     37\u001b[0m filter_list \u001b[38;5;241m=\u001b[39m [\n\u001b[1;32m     38\u001b[0m     col[:\u001b[38;5;241m-\u001b[39m\u001b[38;5;241m5\u001b[39m] \u001b[38;5;28;01mfor\u001b[39;00m col \u001b[38;5;129;01min\u001b[39;00m data_table\u001b[38;5;241m.\u001b[39mcolumns\u001b[38;5;241m.\u001b[39mnames \u001b[38;5;28;01mif\u001b[39;00m \u001b[38;5;124m\"\u001b[39m\u001b[38;5;124mvega\u001b[39m\u001b[38;5;124m\"\u001b[39m \u001b[38;5;129;01min\u001b[39;00m col\u001b[38;5;241m.\u001b[39mlower()\n\u001b[1;32m     39\u001b[0m ]\n",
      "File \u001b[0;32m~/anaconda3/lib/python3.8/site-packages/astropy/io/fits/hdu/hdulist.py:214\u001b[0m, in \u001b[0;36mfitsopen\u001b[0;34m(name, mode, memmap, save_backup, cache, lazy_load_hdus, ignore_missing_simple, use_fsspec, fsspec_kwargs, **kwargs)\u001b[0m\n\u001b[1;32m    211\u001b[0m \u001b[38;5;28;01mif\u001b[39;00m \u001b[38;5;129;01mnot\u001b[39;00m name:\n\u001b[1;32m    212\u001b[0m     \u001b[38;5;28;01mraise\u001b[39;00m \u001b[38;5;167;01mValueError\u001b[39;00m(\u001b[38;5;124mf\u001b[39m\u001b[38;5;124m\"\u001b[39m\u001b[38;5;124mEmpty filename: \u001b[39m\u001b[38;5;132;01m{\u001b[39;00mname\u001b[38;5;132;01m!r}\u001b[39;00m\u001b[38;5;124m\"\u001b[39m)\n\u001b[0;32m--> 214\u001b[0m \u001b[38;5;28;01mreturn\u001b[39;00m \u001b[43mHDUList\u001b[49m\u001b[38;5;241;43m.\u001b[39;49m\u001b[43mfromfile\u001b[49m\u001b[43m(\u001b[49m\n\u001b[1;32m    215\u001b[0m \u001b[43m    \u001b[49m\u001b[43mname\u001b[49m\u001b[43m,\u001b[49m\n\u001b[1;32m    216\u001b[0m \u001b[43m    \u001b[49m\u001b[43mmode\u001b[49m\u001b[43m,\u001b[49m\n\u001b[1;32m    217\u001b[0m \u001b[43m    \u001b[49m\u001b[43mmemmap\u001b[49m\u001b[43m,\u001b[49m\n\u001b[1;32m    218\u001b[0m \u001b[43m    \u001b[49m\u001b[43msave_backup\u001b[49m\u001b[43m,\u001b[49m\n\u001b[1;32m    219\u001b[0m \u001b[43m    \u001b[49m\u001b[43mcache\u001b[49m\u001b[43m,\u001b[49m\n\u001b[1;32m    220\u001b[0m \u001b[43m    \u001b[49m\u001b[43mlazy_load_hdus\u001b[49m\u001b[43m,\u001b[49m\n\u001b[1;32m    221\u001b[0m \u001b[43m    \u001b[49m\u001b[43mignore_missing_simple\u001b[49m\u001b[43m,\u001b[49m\n\u001b[1;32m    222\u001b[0m \u001b[43m    \u001b[49m\u001b[43muse_fsspec\u001b[49m\u001b[38;5;241;43m=\u001b[39;49m\u001b[43muse_fsspec\u001b[49m\u001b[43m,\u001b[49m\n\u001b[1;32m    223\u001b[0m \u001b[43m    \u001b[49m\u001b[43mfsspec_kwargs\u001b[49m\u001b[38;5;241;43m=\u001b[39;49m\u001b[43mfsspec_kwargs\u001b[49m\u001b[43m,\u001b[49m\n\u001b[1;32m    224\u001b[0m \u001b[43m    \u001b[49m\u001b[38;5;241;43m*\u001b[39;49m\u001b[38;5;241;43m*\u001b[39;49m\u001b[43mkwargs\u001b[49m\u001b[43m,\u001b[49m\n\u001b[1;32m    225\u001b[0m \u001b[43m\u001b[49m\u001b[43m)\u001b[49m\n",
      "File \u001b[0;32m~/anaconda3/lib/python3.8/site-packages/astropy/io/fits/hdu/hdulist.py:482\u001b[0m, in \u001b[0;36mHDUList.fromfile\u001b[0;34m(cls, fileobj, mode, memmap, save_backup, cache, lazy_load_hdus, ignore_missing_simple, **kwargs)\u001b[0m\n\u001b[1;32m    462\u001b[0m \u001b[38;5;129m@classmethod\u001b[39m\n\u001b[1;32m    463\u001b[0m \u001b[38;5;28;01mdef\u001b[39;00m \u001b[38;5;21mfromfile\u001b[39m(\n\u001b[1;32m    464\u001b[0m     \u001b[38;5;28mcls\u001b[39m,\n\u001b[0;32m   (...)\u001b[0m\n\u001b[1;32m    472\u001b[0m     \u001b[38;5;241m*\u001b[39m\u001b[38;5;241m*\u001b[39mkwargs,\n\u001b[1;32m    473\u001b[0m ):\n\u001b[1;32m    474\u001b[0m \u001b[38;5;250m    \u001b[39m\u001b[38;5;124;03m\"\"\"\u001b[39;00m\n\u001b[1;32m    475\u001b[0m \u001b[38;5;124;03m    Creates an `HDUList` instance from a file-like object.\u001b[39;00m\n\u001b[1;32m    476\u001b[0m \n\u001b[0;32m   (...)\u001b[0m\n\u001b[1;32m    479\u001b[0m \u001b[38;5;124;03m    documentation for details of the parameters accepted by this method).\u001b[39;00m\n\u001b[1;32m    480\u001b[0m \u001b[38;5;124;03m    \"\"\"\u001b[39;00m\n\u001b[0;32m--> 482\u001b[0m     \u001b[38;5;28;01mreturn\u001b[39;00m \u001b[38;5;28;43mcls\u001b[39;49m\u001b[38;5;241;43m.\u001b[39;49m\u001b[43m_readfrom\u001b[49m\u001b[43m(\u001b[49m\n\u001b[1;32m    483\u001b[0m \u001b[43m        \u001b[49m\u001b[43mfileobj\u001b[49m\u001b[38;5;241;43m=\u001b[39;49m\u001b[43mfileobj\u001b[49m\u001b[43m,\u001b[49m\n\u001b[1;32m    484\u001b[0m \u001b[43m        \u001b[49m\u001b[43mmode\u001b[49m\u001b[38;5;241;43m=\u001b[39;49m\u001b[43mmode\u001b[49m\u001b[43m,\u001b[49m\n\u001b[1;32m    485\u001b[0m \u001b[43m        \u001b[49m\u001b[43mmemmap\u001b[49m\u001b[38;5;241;43m=\u001b[39;49m\u001b[43mmemmap\u001b[49m\u001b[43m,\u001b[49m\n\u001b[1;32m    486\u001b[0m \u001b[43m        \u001b[49m\u001b[43msave_backup\u001b[49m\u001b[38;5;241;43m=\u001b[39;49m\u001b[43msave_backup\u001b[49m\u001b[43m,\u001b[49m\n\u001b[1;32m    487\u001b[0m \u001b[43m        \u001b[49m\u001b[43mcache\u001b[49m\u001b[38;5;241;43m=\u001b[39;49m\u001b[43mcache\u001b[49m\u001b[43m,\u001b[49m\n\u001b[1;32m    488\u001b[0m \u001b[43m        \u001b[49m\u001b[43mignore_missing_simple\u001b[49m\u001b[38;5;241;43m=\u001b[39;49m\u001b[43mignore_missing_simple\u001b[49m\u001b[43m,\u001b[49m\n\u001b[1;32m    489\u001b[0m \u001b[43m        \u001b[49m\u001b[43mlazy_load_hdus\u001b[49m\u001b[38;5;241;43m=\u001b[39;49m\u001b[43mlazy_load_hdus\u001b[49m\u001b[43m,\u001b[49m\n\u001b[1;32m    490\u001b[0m \u001b[43m        \u001b[49m\u001b[38;5;241;43m*\u001b[39;49m\u001b[38;5;241;43m*\u001b[39;49m\u001b[43mkwargs\u001b[49m\u001b[43m,\u001b[49m\n\u001b[1;32m    491\u001b[0m \u001b[43m    \u001b[49m\u001b[43m)\u001b[49m\n",
      "File \u001b[0;32m~/anaconda3/lib/python3.8/site-packages/astropy/io/fits/hdu/hdulist.py:1170\u001b[0m, in \u001b[0;36mHDUList._readfrom\u001b[0;34m(cls, fileobj, data, mode, memmap, cache, lazy_load_hdus, ignore_missing_simple, use_fsspec, fsspec_kwargs, **kwargs)\u001b[0m\n\u001b[1;32m   1167\u001b[0m \u001b[38;5;28;01mif\u001b[39;00m fileobj \u001b[38;5;129;01mis\u001b[39;00m \u001b[38;5;129;01mnot\u001b[39;00m \u001b[38;5;28;01mNone\u001b[39;00m:\n\u001b[1;32m   1168\u001b[0m     \u001b[38;5;28;01mif\u001b[39;00m \u001b[38;5;129;01mnot\u001b[39;00m \u001b[38;5;28misinstance\u001b[39m(fileobj, _File):\n\u001b[1;32m   1169\u001b[0m         \u001b[38;5;66;03m# instantiate a FITS file object (ffo)\u001b[39;00m\n\u001b[0;32m-> 1170\u001b[0m         fileobj \u001b[38;5;241m=\u001b[39m \u001b[43m_File\u001b[49m\u001b[43m(\u001b[49m\n\u001b[1;32m   1171\u001b[0m \u001b[43m            \u001b[49m\u001b[43mfileobj\u001b[49m\u001b[43m,\u001b[49m\n\u001b[1;32m   1172\u001b[0m \u001b[43m            \u001b[49m\u001b[43mmode\u001b[49m\u001b[38;5;241;43m=\u001b[39;49m\u001b[43mmode\u001b[49m\u001b[43m,\u001b[49m\n\u001b[1;32m   1173\u001b[0m \u001b[43m            \u001b[49m\u001b[43mmemmap\u001b[49m\u001b[38;5;241;43m=\u001b[39;49m\u001b[43mmemmap\u001b[49m\u001b[43m,\u001b[49m\n\u001b[1;32m   1174\u001b[0m \u001b[43m            \u001b[49m\u001b[43mcache\u001b[49m\u001b[38;5;241;43m=\u001b[39;49m\u001b[43mcache\u001b[49m\u001b[43m,\u001b[49m\n\u001b[1;32m   1175\u001b[0m \u001b[43m            \u001b[49m\u001b[43muse_fsspec\u001b[49m\u001b[38;5;241;43m=\u001b[39;49m\u001b[43muse_fsspec\u001b[49m\u001b[43m,\u001b[49m\n\u001b[1;32m   1176\u001b[0m \u001b[43m            \u001b[49m\u001b[43mfsspec_kwargs\u001b[49m\u001b[38;5;241;43m=\u001b[39;49m\u001b[43mfsspec_kwargs\u001b[49m\u001b[43m,\u001b[49m\n\u001b[1;32m   1177\u001b[0m \u001b[43m        \u001b[49m\u001b[43m)\u001b[49m\n\u001b[1;32m   1178\u001b[0m     \u001b[38;5;66;03m# The Astropy mode is determined by the _File initializer if the\u001b[39;00m\n\u001b[1;32m   1179\u001b[0m     \u001b[38;5;66;03m# supplied mode was None\u001b[39;00m\n\u001b[1;32m   1180\u001b[0m     mode \u001b[38;5;241m=\u001b[39m fileobj\u001b[38;5;241m.\u001b[39mmode\n",
      "File \u001b[0;32m~/anaconda3/lib/python3.8/site-packages/astropy/io/fits/file.py:218\u001b[0m, in \u001b[0;36m_File.__init__\u001b[0;34m(self, fileobj, mode, memmap, overwrite, cache, use_fsspec, fsspec_kwargs)\u001b[0m\n\u001b[1;32m    216\u001b[0m     \u001b[38;5;28mself\u001b[39m\u001b[38;5;241m.\u001b[39m_open_fileobj(fileobj, mode, overwrite)\n\u001b[1;32m    217\u001b[0m \u001b[38;5;28;01melif\u001b[39;00m \u001b[38;5;28misinstance\u001b[39m(fileobj, (\u001b[38;5;28mstr\u001b[39m, \u001b[38;5;28mbytes\u001b[39m)):\n\u001b[0;32m--> 218\u001b[0m     \u001b[38;5;28;43mself\u001b[39;49m\u001b[38;5;241;43m.\u001b[39;49m\u001b[43m_open_filename\u001b[49m\u001b[43m(\u001b[49m\u001b[43mfileobj\u001b[49m\u001b[43m,\u001b[49m\u001b[43m \u001b[49m\u001b[43mmode\u001b[49m\u001b[43m,\u001b[49m\u001b[43m \u001b[49m\u001b[43moverwrite\u001b[49m\u001b[43m)\u001b[49m\n\u001b[1;32m    219\u001b[0m \u001b[38;5;28;01melse\u001b[39;00m:\n\u001b[1;32m    220\u001b[0m     \u001b[38;5;28mself\u001b[39m\u001b[38;5;241m.\u001b[39m_open_filelike(fileobj, mode, overwrite)\n",
      "File \u001b[0;32m~/anaconda3/lib/python3.8/site-packages/astropy/io/fits/file.py:636\u001b[0m, in \u001b[0;36m_File._open_filename\u001b[0;34m(self, filename, mode, overwrite)\u001b[0m\n\u001b[1;32m    633\u001b[0m ext \u001b[38;5;241m=\u001b[39m os\u001b[38;5;241m.\u001b[39mpath\u001b[38;5;241m.\u001b[39msplitext(\u001b[38;5;28mself\u001b[39m\u001b[38;5;241m.\u001b[39mname)[\u001b[38;5;241m1\u001b[39m]\n\u001b[1;32m    635\u001b[0m \u001b[38;5;28;01mif\u001b[39;00m \u001b[38;5;129;01mnot\u001b[39;00m \u001b[38;5;28mself\u001b[39m\u001b[38;5;241m.\u001b[39m_try_read_compressed(\u001b[38;5;28mself\u001b[39m\u001b[38;5;241m.\u001b[39mname, magic, mode, ext\u001b[38;5;241m=\u001b[39mext):\n\u001b[0;32m--> 636\u001b[0m     \u001b[38;5;28mself\u001b[39m\u001b[38;5;241m.\u001b[39m_file \u001b[38;5;241m=\u001b[39m \u001b[38;5;28;43mopen\u001b[39;49m\u001b[43m(\u001b[49m\u001b[38;5;28;43mself\u001b[39;49m\u001b[38;5;241;43m.\u001b[39;49m\u001b[43mname\u001b[49m\u001b[43m,\u001b[49m\u001b[43m \u001b[49m\u001b[43mIO_FITS_MODES\u001b[49m\u001b[43m[\u001b[49m\u001b[43mmode\u001b[49m\u001b[43m]\u001b[49m\u001b[43m)\u001b[49m\n\u001b[1;32m    637\u001b[0m     \u001b[38;5;28mself\u001b[39m\u001b[38;5;241m.\u001b[39mclose_on_error \u001b[38;5;241m=\u001b[39m \u001b[38;5;28;01mTrue\u001b[39;00m\n\u001b[1;32m    639\u001b[0m \u001b[38;5;66;03m# Make certain we're back at the beginning of the file\u001b[39;00m\n\u001b[1;32m    640\u001b[0m \u001b[38;5;66;03m# BZ2File does not support seek when the file is open for writing, but\u001b[39;00m\n\u001b[1;32m    641\u001b[0m \u001b[38;5;66;03m# when opening a file for write, bz2.BZ2File always truncates anyway.\u001b[39;00m\n",
      "\u001b[0;31mFileNotFoundError\u001b[0m: [Errno 2] No such file or directory: './data/M31-B09-EAST_chunk.st.fits'"
     ]
    }
   ],
   "source": [
    "# this 'if' statement just checks if there's already a histogram file\n",
    "image_file = './data/'+field_names[0]+'.st_maghist.pdf'\n",
    "if not os.path.isfile(image_file):\n",
    "    peak_mags = plot_mag_hist.plot_mag_hist(gst_file, stars_per_bin=70, max_bins=75)"
   ]
  },
  {
   "cell_type": "markdown",
   "id": "6e28ef28",
   "metadata": {},
   "source": [
    "You can check out the results for the histograms in the file ending with _maghist.pdf"
   ]
  },
  {
   "cell_type": "code",
   "execution_count": 9,
   "id": "7c1dedfd",
   "metadata": {},
   "outputs": [
    {
     "name": "stdout",
     "output_type": "stream",
     "text": [
      "zsh:1: number expected\r\n"
     ]
    }
   ],
   "source": [
    "![title](./data/'+field_names[0]+'.st_maghist.pdf)"
   ]
  },
  {
   "cell_type": "code",
   "execution_count": null,
   "id": "70da1a4d",
   "metadata": {},
   "outputs": [],
   "source": []
  }
 ],
 "metadata": {
  "kernelspec": {
   "display_name": "Python 3 (ipykernel)",
   "language": "python",
   "name": "python3"
  },
  "language_info": {
   "codemirror_mode": {
    "name": "ipython",
    "version": 3
   },
   "file_extension": ".py",
   "mimetype": "text/x-python",
   "name": "python",
   "nbconvert_exporter": "python",
   "pygments_lexer": "ipython3",
   "version": "3.8.13"
  }
 },
 "nbformat": 4,
 "nbformat_minor": 5
}
