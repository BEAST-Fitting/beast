{
 "cells": [
  {
   "cell_type": "markdown",
   "metadata": {},
   "source": [
    "# BEAST Workflow Example\n",
    "\n",
    "In this notebook we will be walking through a standard BEAST workflow \n",
    "\n",
    "Before we do anything, we have to import the following packages. Running them all as the first cell means that if our kernel ever crashes halfway through, we can just reimport everything at once rather than stepping through the cells individually."
   ]
  },
  {
   "cell_type": "code",
   "execution_count": 1,
   "metadata": {
    "scrolled": true
   },
   "outputs": [
    {
     "name": "stdout",
     "output_type": "stream",
     "text": [
      "Imports complete\n"
     ]
    }
   ],
   "source": [
    "import os\n",
    "\n",
    "import h5py\n",
    "\n",
    "import numpy as np\n",
    "from astropy import wcs\n",
    "from astropy.io import fits\n",
    "from astropy.table import Table\n",
    "#import tables\n",
    "\n",
    "import glob\n",
    "import types\n",
    "import argparse\n",
    "\n",
    "import matplotlib.pyplot as plt\n",
    "import seaborn as sns\n",
    "\n",
    "from beast.plotting import (plot_mag_hist, plot_ast_histogram, plot_noisemodel)\n",
    "\n",
    "from beast.tools.run import (\n",
    "    create_physicsmodel,\n",
    "    make_ast_inputs,\n",
    "    create_obsmodel,\n",
    "    run_fitting,\n",
    "    merge_files,\n",
    "    create_filenames,\n",
    ")\n",
    "\n",
    "from beast.physicsmodel.grid import SEDGrid\n",
    "from beast.fitting import trim_grid\n",
    "import beast.observationmodel.noisemodel.generic_noisemodel as noisemodel\n",
    "from beast.observationmodel.observations import Observations\n",
    "\n",
    "\n",
    "from beast.tools.run import (\n",
    "    run_fitting,\n",
    "    merge_files,\n",
    ")    \n",
    "    \n",
    "from beast.tools import beast_settings\n",
    "from beast.tools import (\n",
    "     create_background_density_map,\n",
    "     split_ast_input_file,\n",
    "     split_catalog_using_map,\n",
    "#     subdivide_obscat_by_source_density,\n",
    "     cut_catalogs,\n",
    "#     split_asts_by_source_density,\n",
    "     setup_batch_beast_trim,\n",
    "#     setup_batch_beast_fit,\n",
    " )\n",
    "\n",
    "import importlib\n",
    "print('Imports complete')"
   ]
  },
  {
   "cell_type": "markdown",
   "metadata": {},
   "source": [
    "# Step 0. Obtain data file and convert to fits file\n",
    "\n",
    "Sometimes photometric catalogs are delivered as HDF5 files. While these are great for storing data in heirarchies, it's a little hard to work with directly, so we have to convert our HDF5 file to a FITS file.\n",
    "\n",
    "Thankfully, our photometric catalog for this example is already in a FITS format so we don't need to worry about this and can move straight on to Step 1."
   ]
  },
  {
   "cell_type": "markdown",
   "metadata": {},
   "source": [
    "# Step 1. Start working in the right directory\n",
    "\n",
    "We want to keep all the files we're working with inside a neat directory structure. So here at beginning, let's make set our data directory to be out current working directory."
   ]
  },
  {
   "cell_type": "code",
   "execution_count": 2,
   "metadata": {},
   "outputs": [],
   "source": [
    "working_dir = \"/astro/dust_kg/cclark/Leo-P/BEAST_Run/\"\n",
    "os.chdir(working_dir)"
   ]
  },
  {
   "cell_type": "markdown",
   "metadata": {},
   "source": [
    "Throughout this notebook, we have frequent instances of `os.chdir(working_dir)`, to make certain that we don't have to re-run everything to be sure of finding the files we want. "
   ]
  },
  {
   "cell_type": "markdown",
   "metadata": {},
   "source": [
    "# Step 1a. Make magnitude histograms\n",
    "\n",
    "The first thing we need to do is understand the range of stellar magnitudes we are working with in this data set.\n",
    "\n",
    "To do this we can make histograms of all the magnitudes of all the stars in all the different filters from the photometric catalog. This is done so that we know where the peaks of the histograms are in each filter. These peaks will then be used later when we make source density maps. \n",
    "\n",
    "Essentially what happens is that, for the density maps, we only count objects within a certain range, currently set to mag_cut = 15 - (peak_for_filter-0.5). So if the peak was 17.5, then the objects that would be counted would have to be in the range between 15 and 18. \n",
    "\n",
    "The reason we only count brighter sources is because dimmer sources tend to not be properly observed, especially as the magnitudes near the telescope limit. There will always be far more dim sources than bright sources, but if we know how many bright sources there are, then we can extrapolate as to how many dim sources there should be, and probably get a better understand from that than if we were to try and actually count all the dim sources we detect.  \n",
    "\n",
    "**Variable Information**\n",
    "\n",
    "* **field_name** : the string name of the main photometric catalog we are working with. This variable will be used to rename a lot of different files in the future which is why we have it as a separate variable.\n",
    "* **gst_file** : stands for good-stars, this is the full name for the original photometric catalog we are working with."
   ]
  },
  {
   "cell_type": "code",
   "execution_count": 3,
   "metadata": {},
   "outputs": [],
   "source": [
    "field_name = \"13376_LEOP\"\n",
    "gst_file = \"/astro/dust_kg/cclark/Leo-P/BEAST_Run/%s.gst.fits\" %field_name"
   ]
  },
  {
   "cell_type": "markdown",
   "metadata": {},
   "source": [
    "We can see what type of data this fits file holds by making a table. There should be around 50,000 sources in this calalog, which is quite small compared to the original file.\n",
    "\n",
    "*Note: **st** stands for stars. We also sometimes name things **gst** for good stars to signify when cuts have been made.*"
   ]
  },
  {
   "cell_type": "code",
   "execution_count": 4,
   "metadata": {},
   "outputs": [
    {
     "data": {
      "text/html": [
       "<div><i>Table length=32561</i>\n",
       "<table id=\"table139721609586384\" class=\"table-striped table-bordered table-condensed\">\n",
       "<thead><tr><th>X</th><th>Y</th><th>RA</th><th>DEC</th><th>F110W_RATE</th><th>F110W_RATERR</th><th>F110W_VEGA</th><th>F110W_STD</th><th>F110W_ERR</th><th>F110W_CHI</th><th>F110W_SNR</th><th>F110W_SHARP</th><th>F110W_ROUND</th><th>F110W_CROWD</th><th>F110W_FLAG</th><th>F160W_RATE</th><th>F160W_RATERR</th><th>F160W_VEGA</th><th>F160W_STD</th><th>F160W_ERR</th><th>F160W_CHI</th><th>F160W_SNR</th><th>F160W_SHARP</th><th>F160W_ROUND</th><th>F160W_CROWD</th><th>F160W_FLAG</th><th>F275W_RATE</th><th>F275W_RATERR</th><th>F275W_VEGA</th><th>F275W_STD</th><th>F275W_ERR</th><th>F275W_CHI</th><th>F275W_SNR</th><th>F275W_SHARP</th><th>F275W_ROUND</th><th>F275W_CROWD</th><th>F275W_FLAG</th><th>F336W_RATE</th><th>F336W_RATERR</th><th>F336W_VEGA</th><th>F336W_STD</th><th>F336W_ERR</th><th>F336W_CHI</th><th>F336W_SNR</th><th>F336W_SHARP</th><th>F336W_ROUND</th><th>F336W_CROWD</th><th>F336W_FLAG</th><th>F475W_RATE</th><th>F475W_RATERR</th><th>F475W_VEGA</th><th>F475W_STD</th><th>F475W_ERR</th><th>F475W_CHI</th><th>F475W_SNR</th><th>F475W_SHARP</th><th>F475W_ROUND</th><th>F475W_CROWD</th><th>F475W_FLAG</th><th>F814W_RATE</th><th>F814W_RATERR</th><th>F814W_VEGA</th><th>F814W_STD</th><th>F814W_ERR</th><th>F814W_CHI</th><th>F814W_SNR</th><th>F814W_SHARP</th><th>F814W_ROUND</th><th>F814W_CROWD</th><th>F814W_FLAG</th><th>MASK_FLAG</th></tr></thead>\n",
       "<thead><tr><th>float64</th><th>float64</th><th>float64</th><th>float64</th><th>float32</th><th>float32</th><th>float32</th><th>float32</th><th>float32</th><th>float32</th><th>float32</th><th>float32</th><th>float32</th><th>float32</th><th>int16</th><th>float32</th><th>float32</th><th>float32</th><th>float32</th><th>float32</th><th>float32</th><th>float32</th><th>float32</th><th>float32</th><th>float32</th><th>int16</th><th>float32</th><th>float32</th><th>float32</th><th>float32</th><th>float32</th><th>float32</th><th>float32</th><th>float32</th><th>float32</th><th>float32</th><th>int16</th><th>float32</th><th>float32</th><th>float32</th><th>float32</th><th>float32</th><th>float32</th><th>float32</th><th>float32</th><th>float32</th><th>float32</th><th>int16</th><th>float32</th><th>float32</th><th>float32</th><th>float32</th><th>float32</th><th>float32</th><th>float32</th><th>float32</th><th>float32</th><th>float32</th><th>int16</th><th>float32</th><th>float32</th><th>float32</th><th>float32</th><th>float32</th><th>float32</th><th>float32</th><th>float32</th><th>float32</th><th>float32</th><th>int16</th><th>int64</th></tr></thead>\n",
       "<tr><td>1301.61</td><td>1201.61</td><td>155.43601755</td><td>18.08283886</td><td>2.45e-06</td><td>5.27e-10</td><td>14.029</td><td>99.999</td><td>0.0</td><td>1.28</td><td>3629.5</td><td>0.031</td><td>0.011</td><td>0.06</td><td>0</td><td>3.69e-06</td><td>5.55e-10</td><td>13.581</td><td>99.999</td><td>0.0</td><td>1.07</td><td>6237.1</td><td>0.04</td><td>-0.004</td><td>0.068</td><td>2</td><td>3.86e-08</td><td>9.46e-11</td><td>18.534</td><td>99.999</td><td>0.007</td><td>2.84</td><td>157.7</td><td>-0.027</td><td>0.046</td><td>0.017</td><td>2</td><td>0.0</td><td>9999.0</td><td>99.999</td><td>99.999</td><td>99.999</td><td>99.999</td><td>99.999</td><td>99.999</td><td>99.999</td><td>99.999</td><td>99</td><td>0.0</td><td>9999.0</td><td>99.999</td><td>99.999</td><td>99.999</td><td>99.999</td><td>99.999</td><td>99.999</td><td>99.999</td><td>99.999</td><td>99</td><td>0.0</td><td>9999.0</td><td>99.999</td><td>99.999</td><td>99.999</td><td>99.999</td><td>99.999</td><td>99.999</td><td>99.999</td><td>99.999</td><td>99</td><td>1</td></tr>\n",
       "<tr><td>1367.06</td><td>818.17</td><td>155.43051968</td><td>18.08420766</td><td>3.1e-07</td><td>1.52e-10</td><td>16.273</td><td>99.999</td><td>0.003</td><td>5.37</td><td>432.3</td><td>0.089</td><td>-0.148</td><td>0.087</td><td>0</td><td>5.67e-07</td><td>2.35e-10</td><td>15.615</td><td>99.999</td><td>0.002</td><td>4.68</td><td>564.5</td><td>-0.016</td><td>0.1</td><td>0.07</td><td>0</td><td>1.04e-09</td><td>1.66e-11</td><td>22.452</td><td>99.999</td><td>0.14</td><td>8.31</td><td>7.8</td><td>-0.049</td><td>0.391</td><td>0.0</td><td>2</td><td>4.97e-09</td><td>3.14e-11</td><td>20.759</td><td>99.999</td><td>0.13</td><td>19.9</td><td>8.3</td><td>-0.135</td><td>0.112</td><td>0.001</td><td>2</td><td>0.0</td><td>9999.0</td><td>99.999</td><td>99.999</td><td>99.999</td><td>99.999</td><td>99.999</td><td>99.999</td><td>99.999</td><td>99.999</td><td>99</td><td>0.0</td><td>9999.0</td><td>99.999</td><td>99.999</td><td>99.999</td><td>99.999</td><td>99.999</td><td>99.999</td><td>99.999</td><td>99.999</td><td>99</td><td>1</td></tr>\n",
       "<tr><td>1571.17</td><td>780.66</td><td>155.43023305</td><td>18.08707709</td><td>2.37e-07</td><td>1.23e-10</td><td>16.562</td><td>99.999</td><td>0.003</td><td>6.13</td><td>333.2</td><td>-0.025</td><td>-0.114</td><td>0.003</td><td>0</td><td>3.87e-07</td><td>1.65e-10</td><td>16.032</td><td>99.999</td><td>0.003</td><td>5.43</td><td>432.1</td><td>-0.011</td><td>0.068</td><td>0.006</td><td>0</td><td>-4.5e-12</td><td>3.38e-12</td><td>99.999</td><td>99.999</td><td>99.999</td><td>99.999</td><td>99.999</td><td>99.999</td><td>99.999</td><td>99.999</td><td>99</td><td>3.46e-10</td><td>8.89e-12</td><td>23.652</td><td>99.999</td><td>0.201</td><td>7.76</td><td>5.4</td><td>-0.207</td><td>-0.162</td><td>0.0</td><td>0</td><td>8.02e-13</td><td>2.75e-13</td><td>99.999</td><td>99.999</td><td>99.999</td><td>99.999</td><td>99.999</td><td>99.999</td><td>99.999</td><td>99.999</td><td>99</td><td>1.71e-10</td><td>1.89e-12</td><td>99.999</td><td>99.999</td><td>99.999</td><td>99.999</td><td>99.999</td><td>99.999</td><td>99.999</td><td>99.999</td><td>99</td><td>1</td></tr>\n",
       "<tr><td>273.83</td><td>2032.02</td><td>155.44679698</td><td>18.0676146</td><td>0.0</td><td>9999.0</td><td>99.999</td><td>99.999</td><td>99.999</td><td>99.999</td><td>99.999</td><td>99.999</td><td>99.999</td><td>99.999</td><td>99</td><td>0.0</td><td>9999.0</td><td>99.999</td><td>99.999</td><td>99.999</td><td>99.999</td><td>99.999</td><td>99.999</td><td>99.999</td><td>99.999</td><td>99</td><td>0.0</td><td>9999.0</td><td>99.999</td><td>99.999</td><td>99.999</td><td>99.999</td><td>99.999</td><td>99.999</td><td>99.999</td><td>99.999</td><td>99</td><td>0.0</td><td>9999.0</td><td>99.999</td><td>99.999</td><td>99.999</td><td>99.999</td><td>99.999</td><td>99.999</td><td>99.999</td><td>99.999</td><td>99</td><td>2.1e-08</td><td>3.18e-11</td><td>19.193</td><td>99.999</td><td>0.002</td><td>1.52</td><td>435.5</td><td>-0.042</td><td>0.033</td><td>0.004</td><td>99</td><td>0.0</td><td>9999.0</td><td>99.999</td><td>99.999</td><td>99.999</td><td>99.999</td><td>99.999</td><td>99.999</td><td>99.999</td><td>99.999</td><td>99</td><td>0</td></tr>\n",
       "<tr><td>1300.0</td><td>1203.44</td><td>155.43604214</td><td>18.08281437</td><td>6.87e-08</td><td>2.23e-10</td><td>99.999</td><td>99.999</td><td>99.999</td><td>99.999</td><td>99.999</td><td>99.999</td><td>99.999</td><td>99.999</td><td>99</td><td>5.37e-08</td><td>3.41e-10</td><td>99.999</td><td>99.999</td><td>99.999</td><td>99.999</td><td>99.999</td><td>99.999</td><td>99.999</td><td>99.999</td><td>99</td><td>4.26e-10</td><td>2.66e-11</td><td>99.999</td><td>99.999</td><td>99.999</td><td>99.999</td><td>99.999</td><td>99.999</td><td>99.999</td><td>99.999</td><td>99</td><td>7.56e-10</td><td>5.98e-11</td><td>99.999</td><td>99.999</td><td>99.999</td><td>99.999</td><td>99.999</td><td>99.999</td><td>99.999</td><td>99.999</td><td>99</td><td>0.0</td><td>9999.0</td><td>99.999</td><td>99.999</td><td>99.999</td><td>99.999</td><td>99.999</td><td>99.999</td><td>99.999</td><td>99.999</td><td>99</td><td>0.0</td><td>9999.0</td><td>99.999</td><td>99.999</td><td>99.999</td><td>99.999</td><td>99.999</td><td>99.999</td><td>99.999</td><td>99.999</td><td>99</td><td>1</td></tr>\n",
       "<tr><td>3202.32</td><td>330.43</td><td>155.42575171</td><td>18.11018987</td><td>0.0</td><td>9999.0</td><td>99.999</td><td>99.999</td><td>99.999</td><td>99.999</td><td>99.999</td><td>99.999</td><td>99.999</td><td>99.999</td><td>99</td><td>0.0</td><td>9999.0</td><td>99.999</td><td>99.999</td><td>99.999</td><td>99.999</td><td>99.999</td><td>99.999</td><td>99.999</td><td>99.999</td><td>99</td><td>1.99e-10</td><td>7.63e-12</td><td>24.254</td><td>99.999</td><td>0.191</td><td>4.93</td><td>5.7</td><td>-0.094</td><td>0.224</td><td>0.002</td><td>0</td><td>3.51e-09</td><td>2.37e-11</td><td>21.136</td><td>99.999</td><td>0.093</td><td>13.46</td><td>11.6</td><td>0.012</td><td>0.276</td><td>0.006</td><td>0</td><td>0.0</td><td>9999.0</td><td>99.999</td><td>99.999</td><td>99.999</td><td>99.999</td><td>99.999</td><td>99.999</td><td>99.999</td><td>99.999</td><td>99</td><td>0.0</td><td>9999.0</td><td>99.999</td><td>99.999</td><td>99.999</td><td>99.999</td><td>99.999</td><td>99.999</td><td>99.999</td><td>99.999</td><td>99</td><td>0</td></tr>\n",
       "<tr><td>2072.64</td><td>419.74</td><td>155.42561666</td><td>18.09445144</td><td>1.28e-07</td><td>9.67e-11</td><td>17.236</td><td>99.999</td><td>0.023</td><td>30.38</td><td>46.3</td><td>-0.1</td><td>0.366</td><td>0.177</td><td>0</td><td>2.25e-07</td><td>1.4e-10</td><td>16.619</td><td>99.999</td><td>0.017</td><td>25.99</td><td>62.1</td><td>-0.175</td><td>0.162</td><td>0.193</td><td>0</td><td>-6.3e-12</td><td>3.79e-12</td><td>99.999</td><td>99.999</td><td>99.999</td><td>99.999</td><td>99.999</td><td>99.999</td><td>99.999</td><td>99.999</td><td>99</td><td>1.53e-10</td><td>5.83e-12</td><td>99.999</td><td>99.999</td><td>99.999</td><td>99.999</td><td>99.999</td><td>99.999</td><td>99.999</td><td>99.999</td><td>99</td><td>8.46e-09</td><td>4.88e-12</td><td>20.182</td><td>99.999</td><td>0.005</td><td>7.68</td><td>234.7</td><td>-0.013</td><td>-0.015</td><td>0.007</td><td>99</td><td>0.0</td><td>9999.0</td><td>99.999</td><td>99.999</td><td>99.999</td><td>99.999</td><td>99.999</td><td>99.999</td><td>99.999</td><td>99.999</td><td>99</td><td>1</td></tr>\n",
       "<tr><td>1304.83</td><td>1204.15</td><td>155.43605861</td><td>18.08288034</td><td>4.4e-08</td><td>1.59e-10</td><td>99.999</td><td>99.999</td><td>99.999</td><td>99.999</td><td>99.999</td><td>99.999</td><td>99.999</td><td>99.999</td><td>99</td><td>4.65e-08</td><td>2.22e-10</td><td>99.999</td><td>99.999</td><td>99.999</td><td>99.999</td><td>99.999</td><td>99.999</td><td>99.999</td><td>99.999</td><td>99</td><td>1.62e-11</td><td>9.68e-12</td><td>99.999</td><td>99.999</td><td>99.999</td><td>99.999</td><td>99.999</td><td>99.999</td><td>99.999</td><td>99.999</td><td>99</td><td>-5.3e-10</td><td>1.48e-11</td><td>99.999</td><td>99.999</td><td>99.999</td><td>99.999</td><td>99.999</td><td>99.999</td><td>99.999</td><td>99.999</td><td>99</td><td>3.31e-09</td><td>2.22e-11</td><td>21.201</td><td>99.999</td><td>0.155</td><td>21.33</td><td>7.0</td><td>-0.224</td><td>0.796</td><td>1.373</td><td>99</td><td>0.0</td><td>9999.0</td><td>99.999</td><td>99.999</td><td>99.999</td><td>99.999</td><td>99.999</td><td>99.999</td><td>99.999</td><td>99.999</td><td>99</td><td>1</td></tr>\n",
       "<tr><td>2069.29</td><td>421.11</td><td>155.42563235</td><td>18.09440343</td><td>1.1e-07</td><td>1.15e-10</td><td>17.401</td><td>99.999</td><td>0.018</td><td>21.47</td><td>60.1</td><td>0.101</td><td>-0.026</td><td>0.304</td><td>0</td><td>1.44e-07</td><td>1.35e-10</td><td>17.103</td><td>99.999</td><td>0.036</td><td>36.88</td><td>30.2</td><td>-0.061</td><td>0.145</td><td>0.52</td><td>0</td><td>3.44e-12</td><td>3.7e-12</td><td>99.999</td><td>99.999</td><td>99.999</td><td>99.999</td><td>99.999</td><td>99.999</td><td>99.999</td><td>99.999</td><td>99</td><td>8.25e-11</td><td>4.5e-12</td><td>99.999</td><td>99.999</td><td>99.999</td><td>99.999</td><td>99.999</td><td>99.999</td><td>99.999</td><td>99.999</td><td>99</td><td>-9.8e-12</td><td>6.8e-13</td><td>99.999</td><td>99.999</td><td>99.999</td><td>99.999</td><td>99.999</td><td>99.999</td><td>99.999</td><td>99.999</td><td>99</td><td>3.48e-10</td><td>4.14e-12</td><td>99.999</td><td>99.999</td><td>99.999</td><td>99.999</td><td>99.999</td><td>99.999</td><td>99.999</td><td>99.999</td><td>99</td><td>1</td></tr>\n",
       "<tr><td>223.65</td><td>691.82</td><td>155.42722807</td><td>18.06853972</td><td>0.0</td><td>9999.0</td><td>99.999</td><td>99.999</td><td>99.999</td><td>99.999</td><td>99.999</td><td>99.999</td><td>99.999</td><td>99.999</td><td>99</td><td>0.0</td><td>9999.0</td><td>99.999</td><td>99.999</td><td>99.999</td><td>99.999</td><td>99.999</td><td>99.999</td><td>99.999</td><td>99.999</td><td>99</td><td>0.0</td><td>9999.0</td><td>99.999</td><td>99.999</td><td>99.999</td><td>99.999</td><td>99.999</td><td>99.999</td><td>99.999</td><td>99.999</td><td>99</td><td>0.0</td><td>9999.0</td><td>99.999</td><td>99.999</td><td>99.999</td><td>99.999</td><td>99.999</td><td>99.999</td><td>99.999</td><td>99.999</td><td>99</td><td>1.17e-09</td><td>3.14e-12</td><td>22.33</td><td>99.999</td><td>0.025</td><td>10.15</td><td>43.5</td><td>0.062</td><td>0.325</td><td>1.263</td><td>99</td><td>0.0</td><td>9999.0</td><td>99.999</td><td>99.999</td><td>99.999</td><td>99.999</td><td>99.999</td><td>99.999</td><td>99.999</td><td>99.999</td><td>99</td><td>0</td></tr>\n",
       "<tr><td>1572.37</td><td>787.54</td><td>155.43033472</td><td>18.08708538</td><td>6.68e-10</td><td>1.71e-11</td><td>99.999</td><td>99.999</td><td>99.999</td><td>99.999</td><td>99.999</td><td>99.999</td><td>99.999</td><td>99.999</td><td>99</td><td>3.2e-09</td><td>3.21e-11</td><td>99.999</td><td>99.999</td><td>99.999</td><td>99.999</td><td>99.999</td><td>99.999</td><td>99.999</td><td>99.999</td><td>99</td><td>-9.8e-14</td><td>4.36e-12</td><td>99.999</td><td>99.999</td><td>99.999</td><td>99.999</td><td>99.999</td><td>99.999</td><td>99.999</td><td>99.999</td><td>99</td><td>-1.6e-11</td><td>3.16e-12</td><td>99.999</td><td>99.999</td><td>99.999</td><td>99.999</td><td>99.999</td><td>99.999</td><td>99.999</td><td>99.999</td><td>99</td><td>3.92e-09</td><td>2.81e-12</td><td>21.017</td><td>99.999</td><td>0.005</td><td>7.35</td><td>200.2</td><td>-0.004</td><td>0.035</td><td>0.016</td><td>99</td><td>0.0</td><td>9999.0</td><td>99.999</td><td>99.999</td><td>99.999</td><td>99.999</td><td>99.999</td><td>99.999</td><td>99.999</td><td>99.999</td><td>99</td><td>1</td></tr>\n",
       "<tr><td>2064.05</td><td>420.25</td><td>155.42561317</td><td>18.09433197</td><td>4.74e-08</td><td>8.42e-11</td><td>18.311</td><td>99.999</td><td>0.031</td><td>23.25</td><td>34.9</td><td>0.201</td><td>0.597</td><td>0.535</td><td>0</td><td>1.14e-07</td><td>1.23e-10</td><td>17.357</td><td>99.999</td><td>0.015</td><td>13.06</td><td>73.0</td><td>0.037</td><td>0.503</td><td>0.552</td><td>0</td><td>2.42e-12</td><td>4e-12</td><td>99.999</td><td>99.999</td><td>99.999</td><td>99.999</td><td>99.999</td><td>99.999</td><td>99.999</td><td>99.999</td><td>99</td><td>3.59e-11</td><td>3.68e-12</td><td>99.999</td><td>99.999</td><td>99.999</td><td>99.999</td><td>99.999</td><td>99.999</td><td>99.999</td><td>99.999</td><td>99</td><td>3.58e-09</td><td>2.63e-12</td><td>21.115</td><td>99.999</td><td>0.004</td><td>4.96</td><td>285.8</td><td>0.024</td><td>0.02</td><td>0.01</td><td>99</td><td>0.0</td><td>9999.0</td><td>99.999</td><td>99.999</td><td>99.999</td><td>99.999</td><td>99.999</td><td>99.999</td><td>99.999</td><td>99.999</td><td>99</td><td>1</td></tr>\n",
       "<tr><td>...</td><td>...</td><td>...</td><td>...</td><td>...</td><td>...</td><td>...</td><td>...</td><td>...</td><td>...</td><td>...</td><td>...</td><td>...</td><td>...</td><td>...</td><td>...</td><td>...</td><td>...</td><td>...</td><td>...</td><td>...</td><td>...</td><td>...</td><td>...</td><td>...</td><td>...</td><td>...</td><td>...</td><td>...</td><td>...</td><td>...</td><td>...</td><td>...</td><td>...</td><td>...</td><td>...</td><td>...</td><td>...</td><td>...</td><td>...</td><td>...</td><td>...</td><td>...</td><td>...</td><td>...</td><td>...</td><td>...</td><td>...</td><td>...</td><td>...</td><td>...</td><td>...</td><td>...</td><td>...</td><td>...</td><td>...</td><td>...</td><td>...</td><td>...</td><td>...</td><td>...</td><td>...</td><td>...</td><td>...</td><td>...</td><td>...</td><td>...</td><td>...</td><td>...</td><td>...</td><td>...</td></tr>\n",
       "<tr><td>2186.27</td><td>1084.12</td><td>155.43543187</td><td>18.09522118</td><td>3.94e-12</td><td>5.47e-12</td><td>99.999</td><td>99.999</td><td>99.999</td><td>99.999</td><td>99.999</td><td>99.999</td><td>99.999</td><td>99.999</td><td>99</td><td>8.15e-13</td><td>1.1e-11</td><td>99.999</td><td>99.999</td><td>99.999</td><td>99.999</td><td>99.999</td><td>99.999</td><td>99.999</td><td>99.999</td><td>99</td><td>-2e-11</td><td>3.32e-12</td><td>99.999</td><td>99.999</td><td>99.999</td><td>99.999</td><td>99.999</td><td>99.999</td><td>99.999</td><td>99.999</td><td>99</td><td>-9.9e-12</td><td>2.87e-12</td><td>99.999</td><td>99.999</td><td>99.999</td><td>99.999</td><td>99.999</td><td>99.999</td><td>99.999</td><td>99.999</td><td>99</td><td>1.56e-12</td><td>2.63e-13</td><td>29.514</td><td>29.503</td><td>0.22</td><td>1.27</td><td>4.9</td><td>0.192</td><td>0.414</td><td>0.058</td><td>2</td><td>1.65e-12</td><td>7.55e-13</td><td>99.999</td><td>99.999</td><td>99.999</td><td>99.999</td><td>99.999</td><td>99.999</td><td>99.999</td><td>99.999</td><td>99</td><td>0</td></tr>\n",
       "<tr><td>3650.16</td><td>591.9</td><td>155.43012715</td><td>18.11607054</td><td>0.0</td><td>9999.0</td><td>99.999</td><td>99.999</td><td>99.999</td><td>99.999</td><td>99.999</td><td>99.999</td><td>99.999</td><td>99.999</td><td>99</td><td>0.0</td><td>9999.0</td><td>99.999</td><td>99.999</td><td>99.999</td><td>99.999</td><td>99.999</td><td>99.999</td><td>99.999</td><td>99.999</td><td>99</td><td>1.6e-12</td><td>3.81e-12</td><td>99.999</td><td>99.999</td><td>99.999</td><td>99.999</td><td>99.999</td><td>99.999</td><td>99.999</td><td>99.999</td><td>99</td><td>1.61e-11</td><td>2.99e-12</td><td>26.98</td><td>99.999</td><td>0.246</td><td>1.22</td><td>4.4</td><td>-0.316</td><td>0.397</td><td>0.047</td><td>2</td><td>-2.2e-14</td><td>2.88e-13</td><td>99.999</td><td>99.999</td><td>99.999</td><td>99.999</td><td>99.999</td><td>99.999</td><td>99.999</td><td>99.999</td><td>99</td><td>2.37e-13</td><td>7.15e-13</td><td>99.999</td><td>99.999</td><td>99.999</td><td>99.999</td><td>99.999</td><td>99.999</td><td>99.999</td><td>99.999</td><td>99</td><td>0</td></tr>\n",
       "<tr><td>2929.61</td><td>2042.77</td><td>155.45033177</td><td>18.10434737</td><td>1.55e-12</td><td>5.74e-12</td><td>99.999</td><td>99.999</td><td>99.999</td><td>99.999</td><td>99.999</td><td>99.999</td><td>99.999</td><td>99.999</td><td>99</td><td>5.75e-12</td><td>8.5e-12</td><td>99.999</td><td>99.999</td><td>99.999</td><td>99.999</td><td>99.999</td><td>99.999</td><td>99.999</td><td>99.999</td><td>99</td><td>2.21e-11</td><td>3.69e-12</td><td>26.64</td><td>99.999</td><td>0.274</td><td>1.52</td><td>4.0</td><td>-0.04</td><td>0.466</td><td>0.014</td><td>0</td><td>-1.4e-12</td><td>2.32e-12</td><td>99.999</td><td>99.999</td><td>99.999</td><td>99.999</td><td>99.999</td><td>99.999</td><td>99.999</td><td>99.999</td><td>99</td><td>-7.1e-13</td><td>2.58e-13</td><td>99.999</td><td>99.999</td><td>99.999</td><td>99.999</td><td>99.999</td><td>99.999</td><td>99.999</td><td>99.999</td><td>99</td><td>-8.9e-13</td><td>7.84e-13</td><td>99.999</td><td>99.999</td><td>99.999</td><td>99.999</td><td>99.999</td><td>99.999</td><td>99.999</td><td>99.999</td><td>99</td><td>0</td></tr>\n",
       "<tr><td>1705.97</td><td>1341.67</td><td>155.43857018</td><td>18.08826443</td><td>9.82e-12</td><td>8.44e-12</td><td>99.999</td><td>99.999</td><td>99.999</td><td>99.999</td><td>99.999</td><td>99.999</td><td>99.999</td><td>99.999</td><td>99</td><td>4.32e-11</td><td>1.37e-11</td><td>99.999</td><td>99.999</td><td>99.999</td><td>99.999</td><td>99.999</td><td>99.999</td><td>99.999</td><td>99.999</td><td>99</td><td>-5.7e-12</td><td>3.67e-12</td><td>99.999</td><td>99.999</td><td>99.999</td><td>99.999</td><td>99.999</td><td>99.999</td><td>99.999</td><td>99.999</td><td>99</td><td>-4.2e-12</td><td>2.55e-12</td><td>99.999</td><td>99.999</td><td>99.999</td><td>99.999</td><td>99.999</td><td>99.999</td><td>99.999</td><td>99.999</td><td>99</td><td>-8e-13</td><td>3.13e-13</td><td>99.999</td><td>99.999</td><td>99.999</td><td>99.999</td><td>99.999</td><td>99.999</td><td>99.999</td><td>99.999</td><td>99</td><td>6.73e-12</td><td>1.08e-12</td><td>99.999</td><td>99.999</td><td>99.999</td><td>99.999</td><td>99.999</td><td>99.999</td><td>99.999</td><td>99.999</td><td>99</td><td>0</td></tr>\n",
       "<tr><td>2532.23</td><td>396.95</td><td>155.42586876</td><td>18.10083798</td><td>1.1e-11</td><td>5.74e-12</td><td>99.999</td><td>99.999</td><td>99.999</td><td>99.999</td><td>99.999</td><td>99.999</td><td>99.999</td><td>99.999</td><td>99</td><td>2.63e-11</td><td>9.6e-12</td><td>99.999</td><td>99.999</td><td>99.999</td><td>99.999</td><td>99.999</td><td>99.999</td><td>99.999</td><td>99.999</td><td>99</td><td>-2.5e-11</td><td>3.71e-12</td><td>99.999</td><td>99.999</td><td>99.999</td><td>99.999</td><td>99.999</td><td>99.999</td><td>99.999</td><td>99.999</td><td>99</td><td>-5.2e-12</td><td>2.57e-12</td><td>99.999</td><td>99.999</td><td>99.999</td><td>99.999</td><td>99.999</td><td>99.999</td><td>99.999</td><td>99.999</td><td>99</td><td>1.07e-12</td><td>2.43e-13</td><td>99.999</td><td>99.999</td><td>99.999</td><td>99.999</td><td>99.999</td><td>99.999</td><td>99.999</td><td>99.999</td><td>99</td><td>3.2e-12</td><td>7.55e-13</td><td>28.737</td><td>28.729</td><td>0.274</td><td>1.0</td><td>4.0</td><td>-0.412</td><td>0.184</td><td>1.777</td><td>2</td><td>0</td></tr>\n",
       "<tr><td>4131.05</td><td>420.08</td><td>155.42823686</td><td>18.12293178</td><td>0.0</td><td>9999.0</td><td>99.999</td><td>99.999</td><td>99.999</td><td>99.999</td><td>99.999</td><td>99.999</td><td>99.999</td><td>99.999</td><td>99</td><td>0.0</td><td>9999.0</td><td>99.999</td><td>99.999</td><td>99.999</td><td>99.999</td><td>99.999</td><td>99.999</td><td>99.999</td><td>99.999</td><td>99</td><td>2.13e-11</td><td>4.38e-12</td><td>26.681</td><td>99.999</td><td>0.258</td><td>1.23</td><td>4.2</td><td>0.018</td><td>0.227</td><td>0.002</td><td>2</td><td>-5.1e-12</td><td>2.07e-12</td><td>99.999</td><td>99.999</td><td>99.999</td><td>99.999</td><td>99.999</td><td>99.999</td><td>99.999</td><td>99.999</td><td>99</td><td>0.0</td><td>9999.0</td><td>99.999</td><td>99.999</td><td>99.999</td><td>99.999</td><td>99.999</td><td>99.999</td><td>99.999</td><td>99.999</td><td>99</td><td>0.0</td><td>9999.0</td><td>99.999</td><td>99.999</td><td>99.999</td><td>99.999</td><td>99.999</td><td>99.999</td><td>99.999</td><td>99.999</td><td>99</td><td>0</td></tr>\n",
       "<tr><td>2537.52</td><td>833.91</td><td>155.43223615</td><td>18.10038344</td><td>1.45e-11</td><td>5.69e-12</td><td>99.999</td><td>99.999</td><td>99.999</td><td>99.999</td><td>99.999</td><td>99.999</td><td>99.999</td><td>99.999</td><td>99</td><td>-2e-12</td><td>1.07e-11</td><td>99.999</td><td>99.999</td><td>99.999</td><td>99.999</td><td>99.999</td><td>99.999</td><td>99.999</td><td>99.999</td><td>99</td><td>-2.1e-11</td><td>3.34e-12</td><td>99.999</td><td>99.999</td><td>99.999</td><td>99.999</td><td>99.999</td><td>99.999</td><td>99.999</td><td>99.999</td><td>99</td><td>-2e-12</td><td>2.86e-12</td><td>99.999</td><td>99.999</td><td>99.999</td><td>99.999</td><td>99.999</td><td>99.999</td><td>99.999</td><td>99.999</td><td>99</td><td>1.76e-12</td><td>2.53e-13</td><td>29.384</td><td>29.329</td><td>0.178</td><td>1.15</td><td>6.1</td><td>-0.085</td><td>0.294</td><td>0.669</td><td>2</td><td>1.61e-12</td><td>7.23e-13</td><td>99.999</td><td>99.999</td><td>99.999</td><td>99.999</td><td>99.999</td><td>99.999</td><td>99.999</td><td>99.999</td><td>99</td><td>0</td></tr>\n",
       "<tr><td>2131.78</td><td>470.8</td><td>155.42643503</td><td>18.09520806</td><td>1.52e-12</td><td>5.53e-12</td><td>99.999</td><td>99.999</td><td>99.999</td><td>99.999</td><td>99.999</td><td>99.999</td><td>99.999</td><td>99.999</td><td>99</td><td>-1.1e-11</td><td>9.25e-12</td><td>99.999</td><td>99.999</td><td>99.999</td><td>99.999</td><td>99.999</td><td>99.999</td><td>99.999</td><td>99.999</td><td>99</td><td>2.27e-12</td><td>4e-12</td><td>99.999</td><td>99.999</td><td>99.999</td><td>99.999</td><td>99.999</td><td>99.999</td><td>99.999</td><td>99.999</td><td>99</td><td>2.06e-11</td><td>3.6e-12</td><td>26.713</td><td>99.999</td><td>0.235</td><td>1.36</td><td>4.6</td><td>0.26</td><td>0.954</td><td>0.008</td><td>0</td><td>3.45e-13</td><td>2.42e-13</td><td>99.999</td><td>99.999</td><td>99.999</td><td>99.999</td><td>99.999</td><td>99.999</td><td>99.999</td><td>99.999</td><td>99</td><td>-2.7e-13</td><td>7.13e-13</td><td>99.999</td><td>99.999</td><td>99.999</td><td>99.999</td><td>99.999</td><td>99.999</td><td>99.999</td><td>99.999</td><td>99</td><td>1</td></tr>\n",
       "<tr><td>1138.02</td><td>753.12</td><td>155.42928186</td><td>18.08111717</td><td>1.8e-12</td><td>5.63e-12</td><td>99.999</td><td>99.999</td><td>99.999</td><td>99.999</td><td>99.999</td><td>99.999</td><td>99.999</td><td>99.999</td><td>99</td><td>1.59e-11</td><td>9.43e-12</td><td>99.999</td><td>99.999</td><td>99.999</td><td>99.999</td><td>99.999</td><td>99.999</td><td>99.999</td><td>99.999</td><td>99</td><td>-2.5e-11</td><td>3.3e-12</td><td>99.999</td><td>99.999</td><td>99.999</td><td>99.999</td><td>99.999</td><td>99.999</td><td>99.999</td><td>99.999</td><td>99</td><td>2.15e-11</td><td>3.77e-12</td><td>99.999</td><td>99.999</td><td>99.999</td><td>99.999</td><td>99.999</td><td>99.999</td><td>99.999</td><td>99.999</td><td>99</td><td>4.4e-13</td><td>2.44e-13</td><td>99.999</td><td>99.999</td><td>99.999</td><td>99.999</td><td>99.999</td><td>99.999</td><td>99.999</td><td>99.999</td><td>99</td><td>3.08e-12</td><td>7.25e-13</td><td>28.777</td><td>28.787</td><td>0.274</td><td>1.04</td><td>4.0</td><td>-0.044</td><td>0.767</td><td>1.228</td><td>0</td><td>0</td></tr>\n",
       "<tr><td>3597.42</td><td>126.54</td><td>155.42328546</td><td>18.11590277</td><td>0.0</td><td>9999.0</td><td>99.999</td><td>99.999</td><td>99.999</td><td>99.999</td><td>99.999</td><td>99.999</td><td>99.999</td><td>99.999</td><td>99</td><td>0.0</td><td>9999.0</td><td>99.999</td><td>99.999</td><td>99.999</td><td>99.999</td><td>99.999</td><td>99.999</td><td>99.999</td><td>99.999</td><td>99</td><td>-4.3e-12</td><td>3.76e-12</td><td>99.999</td><td>99.999</td><td>99.999</td><td>99.999</td><td>99.999</td><td>99.999</td><td>99.999</td><td>99.999</td><td>99</td><td>7.99e-12</td><td>2.62e-12</td><td>99.999</td><td>99.999</td><td>99.999</td><td>99.999</td><td>99.999</td><td>99.999</td><td>99.999</td><td>99.999</td><td>99</td><td>1.13e-12</td><td>2.51e-13</td><td>29.872</td><td>30.004</td><td>0.265</td><td>1.1</td><td>4.1</td><td>0.057</td><td>0.259</td><td>0.413</td><td>99</td><td>2.22e-12</td><td>7.33e-13</td><td>99.999</td><td>99.999</td><td>99.999</td><td>99.999</td><td>99.999</td><td>99.999</td><td>99.999</td><td>99.999</td><td>99</td><td>0</td></tr>\n",
       "<tr><td>3118.74</td><td>466.02</td><td>155.42761936</td><td>18.1088697</td><td>0.0</td><td>9999.0</td><td>99.999</td><td>99.999</td><td>99.999</td><td>99.999</td><td>99.999</td><td>99.999</td><td>99.999</td><td>99.999</td><td>99</td><td>0.0</td><td>9999.0</td><td>99.999</td><td>99.999</td><td>99.999</td><td>99.999</td><td>99.999</td><td>99.999</td><td>99.999</td><td>99.999</td><td>99</td><td>-1.7e-11</td><td>3.2e-12</td><td>99.999</td><td>99.999</td><td>99.999</td><td>99.999</td><td>99.999</td><td>99.999</td><td>99.999</td><td>99.999</td><td>99</td><td>1.51e-12</td><td>2.3e-12</td><td>99.999</td><td>99.999</td><td>99.999</td><td>99.999</td><td>99.999</td><td>99.999</td><td>99.999</td><td>99.999</td><td>99</td><td>1.13e-12</td><td>2.5e-13</td><td>99.999</td><td>99.999</td><td>99.999</td><td>99.999</td><td>99.999</td><td>99.999</td><td>99.999</td><td>99.999</td><td>99</td><td>4.48e-12</td><td>7.44e-13</td><td>28.372</td><td>28.368</td><td>0.193</td><td>1.04</td><td>5.6</td><td>-0.303</td><td>0.711</td><td>1.589</td><td>0</td><td>0</td></tr>\n",
       "<tr><td>933.42</td><td>8.67</td><td>155.41818654</td><td>18.07918507</td><td>0.0</td><td>9999.0</td><td>99.999</td><td>99.999</td><td>99.999</td><td>99.999</td><td>99.999</td><td>99.999</td><td>99.999</td><td>99.999</td><td>99</td><td>8.42e-11</td><td>1.2e-11</td><td>25.187</td><td>99.999</td><td>0.249</td><td>1.61</td><td>4.4</td><td>-0.178</td><td>-0.33</td><td>0.129</td><td>0</td><td>-4.5e-12</td><td>3.75e-12</td><td>99.999</td><td>99.999</td><td>99.999</td><td>99.999</td><td>99.999</td><td>99.999</td><td>99.999</td><td>99.999</td><td>99</td><td>-2.6e-12</td><td>3.25e-12</td><td>99.999</td><td>99.999</td><td>99.999</td><td>99.999</td><td>99.999</td><td>99.999</td><td>99.999</td><td>99.999</td><td>99</td><td>0.0</td><td>9999.0</td><td>99.999</td><td>99.999</td><td>99.999</td><td>99.999</td><td>99.999</td><td>99.999</td><td>99.999</td><td>99.999</td><td>99</td><td>0.0</td><td>9999.0</td><td>99.999</td><td>99.999</td><td>99.999</td><td>99.999</td><td>99.999</td><td>99.999</td><td>99.999</td><td>99.999</td><td>99</td><td>0</td></tr>\n",
       "<tr><td>1292.64</td><td>1475.69</td><td>155.43999541</td><td>18.08238354</td><td>-1.6e-12</td><td>5.7e-12</td><td>99.999</td><td>99.999</td><td>99.999</td><td>99.999</td><td>99.999</td><td>99.999</td><td>99.999</td><td>99.999</td><td>99</td><td>-5.9e-12</td><td>8.73e-12</td><td>99.999</td><td>99.999</td><td>99.999</td><td>99.999</td><td>99.999</td><td>99.999</td><td>99.999</td><td>99.999</td><td>99</td><td>-3.9e-11</td><td>5.66e-12</td><td>99.999</td><td>99.999</td><td>99.999</td><td>99.999</td><td>99.999</td><td>99.999</td><td>99.999</td><td>99.999</td><td>99</td><td>5.4e-12</td><td>2.69e-12</td><td>99.999</td><td>99.999</td><td>99.999</td><td>99.999</td><td>99.999</td><td>99.999</td><td>99.999</td><td>99.999</td><td>99</td><td>1.89e-12</td><td>2.61e-13</td><td>29.31</td><td>29.214</td><td>0.175</td><td>1.21</td><td>6.2</td><td>0.197</td><td>-0.394</td><td>1.81</td><td>99</td><td>1.53e-12</td><td>7.71e-13</td><td>99.999</td><td>99.999</td><td>99.999</td><td>99.999</td><td>99.999</td><td>99.999</td><td>99.999</td><td>99.999</td><td>99</td><td>1</td></tr>\n",
       "</table></div>"
      ],
      "text/plain": [
       "<Table length=32561>\n",
       "   X       Y         RA          DEC     ... F814W_CROWD F814W_FLAG MASK_FLAG\n",
       "float64 float64   float64      float64   ...   float32     int16      int64  \n",
       "------- ------- ------------ ----------- ... ----------- ---------- ---------\n",
       "1301.61 1201.61 155.43601755 18.08283886 ...      99.999         99         1\n",
       "1367.06  818.17 155.43051968 18.08420766 ...      99.999         99         1\n",
       "1571.17  780.66 155.43023305 18.08707709 ...      99.999         99         1\n",
       " 273.83 2032.02 155.44679698  18.0676146 ...      99.999         99         0\n",
       " 1300.0 1203.44 155.43604214 18.08281437 ...      99.999         99         1\n",
       "3202.32  330.43 155.42575171 18.11018987 ...      99.999         99         0\n",
       "2072.64  419.74 155.42561666 18.09445144 ...      99.999         99         1\n",
       "1304.83 1204.15 155.43605861 18.08288034 ...      99.999         99         1\n",
       "2069.29  421.11 155.42563235 18.09440343 ...      99.999         99         1\n",
       " 223.65  691.82 155.42722807 18.06853972 ...      99.999         99         0\n",
       "1572.37  787.54 155.43033472 18.08708538 ...      99.999         99         1\n",
       "2064.05  420.25 155.42561317 18.09433197 ...      99.999         99         1\n",
       "    ...     ...          ...         ... ...         ...        ...       ...\n",
       "2186.27 1084.12 155.43543187 18.09522118 ...      99.999         99         0\n",
       "3650.16   591.9 155.43012715 18.11607054 ...      99.999         99         0\n",
       "2929.61 2042.77 155.45033177 18.10434737 ...      99.999         99         0\n",
       "1705.97 1341.67 155.43857018 18.08826443 ...      99.999         99         0\n",
       "2532.23  396.95 155.42586876 18.10083798 ...       1.777          2         0\n",
       "4131.05  420.08 155.42823686 18.12293178 ...      99.999         99         0\n",
       "2537.52  833.91 155.43223615 18.10038344 ...      99.999         99         0\n",
       "2131.78   470.8 155.42643503 18.09520806 ...      99.999         99         1\n",
       "1138.02  753.12 155.42928186 18.08111717 ...       1.228          0         0\n",
       "3597.42  126.54 155.42328546 18.11590277 ...      99.999         99         0\n",
       "3118.74  466.02 155.42761936  18.1088697 ...       1.589          0         0\n",
       " 933.42    8.67 155.41818654 18.07918507 ...      99.999         99         0\n",
       "1292.64 1475.69 155.43999541 18.08238354 ...      99.999         99         1"
      ]
     },
     "execution_count": 4,
     "metadata": {},
     "output_type": "execute_result"
    }
   ],
   "source": [
    "hdul = fits.open(gst_file)\n",
    "Table(hdul[1].data)"
   ]
  },
  {
   "cell_type": "markdown",
   "metadata": {},
   "source": [
    "As we can see, there's a lot of columns and even more rows. For plotting the magnitude histograms, we're going to be interested in any column that contains the name VEGA. These are the columns with the magnitudes for each filter.\n",
    "\n",
    "We could also use the X and Y columns to plot where are the sources are located, or the RA and DEC to map their actual position in the sky.\n",
    "\n",
    "In larger projects we might have multiple fields to analyze during each run, so there would be multiple **field_names**. Since this is just a small example, we just have one field so our index will always be equal to **0**."
   ]
  },
  {
   "cell_type": "code",
   "execution_count": 5,
   "metadata": {},
   "outputs": [],
   "source": [
    "# the list of fields (we only have 1 for this example.)\n",
    "field_names = [field_name]"
   ]
  },
  {
   "cell_type": "markdown",
   "metadata": {},
   "source": [
    "Now we can create some histogram plots to visualize the magnitude distribution of our sources."
   ]
  },
  {
   "cell_type": "code",
   "execution_count": 6,
   "metadata": {},
   "outputs": [],
   "source": [
    "# this 'if' statement just checks if there's already a histogram file\n",
    "if not os.path.isfile('./'+field_names[0]+'.st_maghist.pdf'):\n",
    "    peak_mags = plot_mag_hist.plot_mag_hist(gst_file, stars_per_bin=70, max_bins=75)"
   ]
  },
  {
   "cell_type": "markdown",
   "metadata": {},
   "source": [
    "You can check out the results for the histograms in the file ending with **_maghist.pdf**\n",
    "\n",
    "From this plot, we can also see what filters exist for the data. "
   ]
  },
  {
   "cell_type": "markdown",
   "metadata": {},
   "source": [
    "# Step 1b. Make source density maps"
   ]
  },
  {
   "cell_type": "markdown",
   "metadata": {},
   "source": [
    "Next we'll be creating source density maps. These are maps of our data field colored such that they show how many stars/sources there are in each degree field. The standard size is 5 arc seconds squared. The size can easily be changed by modifying the **pixsize** variable below."
   ]
  },
  {
   "cell_type": "code",
   "execution_count": 7,
   "metadata": {},
   "outputs": [],
   "source": [
    "# Pick the filter with the dimmest peak from the histogram\n",
    "ref_filter = [\"F475W\"]\n",
    "\n",
    "# choose a filter to use for removing artifacts\n",
    "# (remove catalog sources with filter_FLAG > 99)\n",
    "flag_filter = [\"F475W\"]"
   ]
  },
  {
   "cell_type": "code",
   "execution_count": 8,
   "metadata": {},
   "outputs": [
    {
     "name": "stdout",
     "output_type": "stream",
     "text": [
      "# of x & y pixels =  46 43\n",
      "working on converting ra, dec to pix x,y\n"
     ]
    }
   ],
   "source": [
    "# check to see if the source density file already exists\n",
    "if not os.path.isfile(gst_file.replace(\".fits\", \"_source_den_image.fits\")):\n",
    "    # if not, run all this other code\n",
    "    \n",
    "    # - pixel size of 5 arcsec\n",
    "    # - use ref_filter[b] between vega mags of 15 and peak_mags[ref_filter[b]]-0.5\n",
    "        # since we're only working with one field, our index b is set to 0\n",
    "    sourceden_args = types.SimpleNamespace(\n",
    "        subcommand=\"sourceden\",\n",
    "        catfile=gst_file,\n",
    "        pixsize=5,\n",
    "        npix=None,\n",
    "        mag_name=ref_filter[0]+ \"_VEGA\",\n",
    "        mag_cut=[17, peak_mags[ref_filter[0]] - 0.5],\n",
    "        flag_name=flag_filter[0]+'_FLAG',\n",
    "        erode_boundary=False,\n",
    "        diffSpike=False,\n",
    "    )\n",
    "    create_background_density_map.main_make_map(sourceden_args)"
   ]
  },
  {
   "cell_type": "code",
   "execution_count": 9,
   "metadata": {},
   "outputs": [],
   "source": [
    "# new file name with the source density column\n",
    "gst_file_sd = gst_file.replace(\".fits\", \"_with_sourceden.fits\")"
   ]
  },
  {
   "cell_type": "markdown",
   "metadata": {},
   "source": [
    "This function should create 3 files: \n",
    "* `13376_LEOP.gst_source_den_image.fits` : a file for viewing the source density information in ds9 or with matplotlib\n",
    "\n",
    "* `13376_LEOP.gst_sourceden_map.hd5` : the same file as source_den_image but now with even more data (the split_catalog_using_map function will end up using this file later on) \n",
    "\n",
    "* `13376_LEOP.gst_with_sourceden.fits` : the same as the original photometric file (gst_file) but now with an additional column for what density bin the source is located in"
   ]
  },
  {
   "cell_type": "markdown",
   "metadata": {},
   "source": [
    "### View the fits images of the source density maps\n",
    "\n",
    "Now that we have the source density maps outputted, we can plot the image and see that the density looks like."
   ]
  },
  {
   "cell_type": "code",
   "execution_count": 10,
   "metadata": {},
   "outputs": [
    {
     "name": "stdout",
     "output_type": "stream",
     "text": [
      "Filename: /astro/dust_kg/cclark/Leo-P/BEAST_Run/13376_LEOP.gst_source_den_image.fits\n",
      "No.    Name      Ver    Type      Cards   Dimensions   Format\n",
      "  0  PRIMARY       1 PrimaryHDU      20   (46, 43)   float64   \n",
      "<class 'numpy.ndarray'>\n",
      "(43, 46)\n"
     ]
    }
   ],
   "source": [
    "# open the fits file\n",
    "hdu_list = fits.open(\"/astro/dust_kg/cclark/Leo-P/BEAST_Run/%s.gst_source_den_image.fits\"%field_name)\n",
    "hdu_list.info()\n",
    "\n",
    "# extract the image data\n",
    "image_data = hdu_list[0].data\n",
    "\n",
    "# take a look at what the image should look like\n",
    "print(type(image_data))\n",
    "print(image_data.shape)\n",
    "\n",
    "# close the fits file\n",
    "hdu_list.close()"
   ]
  },
  {
   "cell_type": "code",
   "execution_count": 11,
   "metadata": {},
   "outputs": [
    {
     "data": {
      "text/plain": [
       "Text(0.5, 1.0, 'Density of Sources per 5 arcsec^2')"
      ]
     },
     "execution_count": 11,
     "metadata": {},
     "output_type": "execute_result"
    },
    {
     "data": {
      "image/png": "[encoded data removed]",
      "text/plain": [
       "<Figure size 875x875 with 2 Axes>"
      ]
     },
     "metadata": {},
     "output_type": "display_data"
    }
   ],
   "source": [
    "# plot the extracted image data\n",
    "fig = plt.figure(0, [5,5])\n",
    "im = plt.imshow(image_data, origin=\"lower\")\n",
    "plt.colorbar(im)\n",
    "plt.xlabel(\"Pixel (originally RA)\")\n",
    "plt.ylabel(\"Pixel (originally DEC)\")\n",
    "plt.title(\"Density of Sources per 5 arcsec^2\")"
   ]
  },
  {
   "cell_type": "markdown",
   "metadata": {},
   "source": [
    "# Step 1c. Set up beast_settings.txt file\n",
    "\n",
    "At this point, we have a basic understanding of the information we are working with, so it's about time we set up our beast_settings.txt file. \n",
    "\n",
    "The beast_settings file is a sort of catch-all file used to store any sort of infomation we might need to run the BEAST code on our data. We'll go through and talk about what all the different variables mean, and which ones would need to be changed for any future projects.\n",
    "\n",
    "Variables labelled AC (either here or in beast_settings.txt) are where the user's input change is NOT necessary/recommended\n",
    "\n",
    "For convenience, we state the path here, as we'll be updating and reloading this file a few times throughout."
   ]
  },
  {
   "cell_type": "code",
   "execution_count": 1,
   "metadata": {},
   "outputs": [],
   "source": [
    "settings_path = \"/astro/dust_kg/cclark/Leo-P/BEAST_Run/beast_settings.txt\""
   ]
  },
  {
   "cell_type": "markdown",
   "metadata": {},
   "source": [
    "Go ahead and open the beast_settings.txt file in a text editor now and ensure that the following variables match:\n",
    "\n",
    "*  **project** : the same as the field_name variable we noted earlier\n",
    "    * `project = \"13376_LEOP\" `\n",
    "    \n",
    "    \n",
    "* **surveyname** : the overall name for the survey (this variable isn't actually important for the code)\n",
    "    * `surveyname = \"Leo_P\"*`\n",
    "    \n",
    "    \n",
    "* **filters** : the full filter names from the photometric catalog, also the names that show up in our magnitude histograms so you can add them from there\n",
    "    * `filters = [\"HST_WFC3_F475W\", \"HST_WFC3_F275W\", \"HST_WFC3_F336W\", \"HST_WFC3_F814W\", \"HST_WFC3_F110W\", \"HST_WFC3_F160W\",]`\n",
    "    \n",
    "    \n",
    "* **base filters** : shortened versions of the filter names\n",
    "    * `basefilters = [\"F475W\", \"F275W\", \"F336W\", \"F814W\", \"F110W\", \"F160W\"]`\n",
    "    \n",
    "    \n",
    "* **obsfile** : the name of the photometric catalog\n",
    "    * *`obsfile = \"/astro/dust_kg/cclark/Leo-P/Ben_Data/13376_LEOP.gst.fits\"`\n",
    "    \n",
    "    \n",
    "* **noisefile** : absflux calibration covariance matrix for HST specific filters (AC)\n",
    "    * `noisefile = project + \"/\" + project + \"_noisemodel.hd5\"`\n",
    "    \n",
    "    \n",
    "* **absflux_a_matrix** : absflux calibration covariance matrix for HST specific filters (AC)\n",
    "    * `absflux_a_matrix = absflux_covmat.hst_frac_matrix(filters)`\n",
    "    \n",
    "    \n",
    "    "
   ]
  },
  {
   "cell_type": "markdown",
   "metadata": {},
   "source": [
    "There will be the following parameters common to all methods of AST generation:\n",
    "\n",
    "\n",
    "* **ast_with_positions** : make sure is set to *True* if you have the locations included in your obsfile\n",
    "    * `ast_with_positions = True`\n",
    "    \n",
    "    \n",
    "* **ast_realization_per_model** : number of realizations of each included AST model to be put into the list; the default (20) is necessary for truncheon noise model, but one realization is sufficient for the toothpick noise model.\n",
    "    * `ast_realization_per_model = 1`\n",
    "\n",
    "\n",
    "* **ast_density_table** : the source density map created in step 1b  \n",
    "    * `ast_density_table = '\"/astro/dust_kg/cclark/Leo-P/Ben_Data/13376_LEOP.gst_sourceden_map.hd5\"`\n",
    "    \n",
    "    \n",
    "* **ast_pixel_distribution** : (used if ast_with_positions is True), minimum pixel separation between AST position and catalog star used to determine the AST spatial distribution  \n",
    "    * `ast_pixel_distribution = 10.0`\n",
    "    \n",
    "    \n",
    "* **ast_reference_image** : the original photometric FITS catalog which is required if you use the ast_with_positions as true  \n",
    "    * `ast_reference_image = \"\"/astro/dust_kg/cclark/Leo-P/Ben_Data/13376_LEOP_F475W_drz.fits\"*`\n",
    "    \n",
    "    \n",
    "* **astfile** : the file of ASTs we will be creating in step 3, but since ASTs normally have to be processed by a specialist, we have already included a finished AST file for us to use in this example\n",
    "    * `astfile = \"/astro/dust_kg/cclark/Leo-P/BEAST_Run/13376_LEOP.gst.fake.fits\"`\n",
    "    \n",
    "    \n",
    "* **ast_colnames** : names of columns for filters in the AST catalog (AC)\n",
    "    * `ast_colnames = np.array(basefilters)`\n",
    "    \n",
    "    \n",
    "* **n_subgrid** : the number of subgrids to use for generating the physics model later on (with 1 meaning no subgrids); this notebook workflow **requires** n_subgrid >= 2\n",
    "    * `n_subgrid = 2`\n",
    "    \n",
    "    \n",
    "    "
   ]
  },
  {
   "cell_type": "markdown",
   "metadata": {},
   "source": [
    " \n",
    "\n",
    "For the recommended manner of AST generation, which is by source density binning, there are also the following options to set:\n",
    "\n",
    "* **sd_binmode** : whether to use linear or logarithmic source density binning\n",
    "    * *sd_binmode = \"log\"*\n",
    "    \n",
    "    \n",
    "* **sd_Nbins** : number of bins in source density to use\n",
    "    * *sd_Nbins = \"10\"*\n",
    "    \n",
    "    \n",
    "* **sd_binwidth** : width of soruce density bins; only used for linear spacing\n",
    "    * *sd_binwidth = None*\n",
    "    \n",
    "    \n",
    "* **sd_custom** : width of soruce density bins; only used for linear spacing\n",
    "    * *sd_custom = None*\n",
    "    \n",
    "    \n",
    "* **ast_n_flux_bins** : number of flux bins into which the dynamic range of the model grid in each filter is divided (if pick_models_toothpick_style is used)\n",
    "    * *ast_n_flux_bins = 100*  \n",
    "    \n",
    "    \n",
    "* **ast_n_per_flux_bin** : minimum number of model SEDs that need to fall into each bin (if pick_models_toothpick_style is used)\n",
    "    * *ast_n_per_flux_bin = 50*  \n",
    "    \n",
    "    \n",
    "* **ast_bands_above_maglimit** : number of filters that must be above the magnitude limit for an AST to be included in the list\n",
    "    * *ast_bands_above_maglimit = 3*  \n",
    "    \n",
    "    \n",
    "* **ast_models_selected_per_age** : number of models to pick per age\n",
    "    * *ast_models_selected_per_age = 100*  \n",
    "    \n",
    "    \n",
    "    \n",
    "    "
   ]
  },
  {
   "cell_type": "markdown",
   "metadata": {},
   "source": [
    "This file is also where you specify the parameters and resolution of your physics model which will become relevant in step 2. The resolution of these parameters for your own runs will differ depending on what sorts of ASTs you want to model. There are 8 parameters that can be set.\n",
    "\n",
    "1. **Distance** : either a fixed value or a range with stepsizes\n",
    "2. **Velocity** : what is the heliocentric velocity of your location or galaxy in km/s\n",
    "3. **Age** : the log10 age range of the ASTs being modeled\n",
    "4. **Mass** : the mass of the ASTs\n",
    "5. **Metallicity** : the metallicity range of the ASTs\n",
    "\n",
    "6. **A(v)** : the range of dust extinction in magnitudes that could be dimming the intrinsic brightness of the ASTs\n",
    "7. **R(v)** : the range of dust grain sizes \n",
    "8. **f(A)** the mixture factor between the Milky Way and Small Magellanic Cloud extinction curves"
   ]
  },
  {
   "cell_type": "markdown",
   "metadata": {},
   "source": [
    "Our goal after this would normally be to eventually run a bunch of **ASTs** (Artificial Star Tests), but before we can do that, we need to generate the fake stars to use.\n",
    "\n",
    "Since the ASTs would normally need to be analyzed by a specialist after being created and that's a little overkill for a small example, these next couple of steps are just to illustrate how the ASTs are actually generated. A finished file of the analyzed ASTs already exists so we will end up using that in step 4 and beyond.\n",
    "\n"
   ]
  },
  {
   "cell_type": "markdown",
   "metadata": {},
   "source": [
    "# Step 2. Create physics model\n",
    "\n",
    "In order to generate a diverse and representative sample of fake stars to use for our ASTs, we need to set up a N-dimensional model of possible stellar parameters, so that we can easily and randomly select stars from the model.\n",
    "\n",
    "This model is called a **physics model**, and we will be using the parameters set in the beast_settings.txt file to create this N-dimensional grid.\n",
    "\n",
    "*As a quick note, the resolution on the stellar parameters (the step size, often specified as the third input e.g. logt = [6.0, 10.13, 1.0], where 1.0 is the step size) is the main factor driving how long this physics grid will take to set up. If things take a very long time to run, consider making the step size larger for testing's sake.*\n",
    "\n",
    "Sometimes we are able to have access to high-performance computing resources, meaning we can split the physics model into subgrids and run them in parallel, cutting a lot of the computation time. While we're like not running this notebook in parallel here, we've still specified a number of subgrids in the beast_settings.txt file. \n",
    "\n",
    "We can check how many subgrids are set up."
   ]
  },
  {
   "cell_type": "code",
   "execution_count": 13,
   "metadata": {},
   "outputs": [
    {
     "name": "stdout",
     "output_type": "stream",
     "text": [
      "Padova CMD isochrones\n",
      "Working on the PARSEC isochrone\n",
      "2\n"
     ]
    }
   ],
   "source": [
    "settings = beast_settings.beast_settings(settings_path)\n",
    "print(settings.n_subgrid)"
   ]
  },
  {
   "cell_type": "markdown",
   "metadata": {},
   "source": [
    "So we can now see that we've asked for 2 grids in the beast_settings.txt file.\n",
    "\n",
    "If we've already generated a physics model, we certainly don't want to run it again, so the following code checks to make sure all the subgrids for the physics model are present."
   ]
  },
  {
   "cell_type": "code",
   "execution_count": 14,
   "metadata": {},
   "outputs": [
    {
     "name": "stdout",
     "output_type": "stream",
     "text": [
      "[]\n"
     ]
    }
   ],
   "source": [
    "# set up the naming conventions for the physics model\n",
    "gs_str = \"\"\n",
    "\n",
    "# this is only relevant if we run with multiple subgrids\n",
    "if settings.n_subgrid > 1:\n",
    "    gs_str = \"sub*\"\n",
    "\n",
    "# collects any physics models that have already been created\n",
    "# if none have, sed_files will be empty\n",
    "os.chdir(working_dir)\n",
    "sed_files = glob.glob(\"./{0}/{0}_seds.grid{1}.hd5\".format(field_names[0], gs_str))\n",
    "print(sed_files)"
   ]
  },
  {
   "cell_type": "code",
   "execution_count": 15,
   "metadata": {},
   "outputs": [
    {
     "name": "stdout",
     "output_type": "stream",
     "text": [
      "Padova CMD isochrones\n",
      "Working on the PARSEC isochrone\n",
      "Interrogating http://stev.oapd.inaf.it...\n",
      "Downloading data...http://stev.oapd.inaf.it/tmp/output29430088195.dat\n",
      "Interrogating http://stev.oapd.inaf.it...\n",
      "Downloading data...http://stev.oapd.inaf.it/tmp/output90668601057.dat\n",
      "Interrogating http://stev.oapd.inaf.it...\n",
      "Downloading data...http://stev.oapd.inaf.it/tmp/output856331482603.dat\n",
      "Interrogating http://stev.oapd.inaf.it...\n",
      "Downloading data...http://stev.oapd.inaf.it/tmp/output796914961029.dat\n",
      "Interrogating http://stev.oapd.inaf.it...\n",
      "Downloading data...http://stev.oapd.inaf.it/tmp/output7536143836.dat\n",
      "Interrogating http://stev.oapd.inaf.it...\n",
      "Downloading data...http://stev.oapd.inaf.it/tmp/output148852341416.dat\n",
      "Interrogating http://stev.oapd.inaf.it...\n",
      "Downloading data...http://stev.oapd.inaf.it/tmp/output121130290282.dat\n",
      "Interrogating http://stev.oapd.inaf.it...\n",
      "Downloading data...http://stev.oapd.inaf.it/tmp/output462905339271.dat\n",
      "13376_LEOP/13376_LEOP Isochrones\n",
      "Make spectra\n",
      "applying 1 distances\n",
      "Adding spectral properties: True\n"
     ]
    },
    {
     "name": "stderr",
     "output_type": "stream",
     "text": [
      "Spectral grid: 100%|██████████| 11645/11645 [00:05<00:00, 2173.82it/s]\n",
      "Spectral grid: 100%|██████████| 39639/39639 [00:21<00:00, 1828.35it/s]\n",
      "Distance grid: 100%|██████████| 1/1 [00:00<00:00,  2.50it/s]\n"
     ]
    },
    {
     "name": "stdout",
     "output_type": "stream",
     "text": [
      "Make Prior Weights\n",
      "computing the distance plus weights for dist =  1620000.0\n",
      "computing the age-mass-metallicity grid weight for Z =  0.00015\n",
      "computing the age-mass-metallicity grid weight for Z =  0.00018\n",
      "computing the age-mass-metallicity grid weight for Z =  0.00023\n",
      "computing the age-mass-metallicity grid weight for Z =  0.00029\n",
      "computing the age-mass-metallicity grid weight for Z =  0.00036\n",
      "computing the age-mass-metallicity grid weight for Z =  0.00046\n",
      "computing the age-mass-metallicity grid weight for Z =  0.00058\n",
      "computing the age-mass-metallicity grid weight for Z =  0.00073\n",
      "constructing subgrid 0\n",
      "constructing subgrid 1\n",
      "Make SEDS\n",
      "number of initially requested points = 3468\n",
      "              number of valid points = 1462 (based on restrictions in R(V)\n",
      "                 versus f_A plane)\n",
      "              \n",
      "Generating a final grid of 37488604 points\n"
     ]
    },
    {
     "name": "stderr",
     "output_type": "stream",
     "text": [
      "SED grid: 100%|██████████| 1462/1462 [49:51<00:00,  2.05s/it]\n"
     ]
    },
    {
     "name": "stdout",
     "output_type": "stream",
     "text": [
      "13376_LEOP/13376_LEOP_seds.gridsub0.hd5\n",
      "Make SEDS\n",
      "number of initially requested points = 3468\n",
      "              number of valid points = 1462 (based on restrictions in R(V)\n",
      "                 versus f_A plane)\n",
      "              \n",
      "Generating a final grid of 37488604 points\n"
     ]
    },
    {
     "name": "stderr",
     "output_type": "stream",
     "text": [
      "SED grid: 100%|██████████| 1462/1462 [49:08<00:00,  2.02s/it]\n"
     ]
    },
    {
     "name": "stdout",
     "output_type": "stream",
     "text": [
      "13376_LEOP/13376_LEOP_seds.gridsub1.hd5\n"
     ]
    }
   ],
   "source": [
    "# only make the physics model if it doesn't already exist\n",
    "if len(sed_files) < settings.n_subgrid:\n",
    "    \n",
    "    # directly create physics model grids\n",
    "    create_physicsmodel.create_physicsmodel(beast_settings_info=settings_path, nprocs=1, nsubs=settings.n_subgrid)"
   ]
  },
  {
   "cell_type": "code",
   "execution_count": 16,
   "metadata": {},
   "outputs": [],
   "source": [
    "# list of SED files (physics models)\n",
    "model_grid_files = sorted(\n",
    "    glob.glob(\n",
    "        \"./{0}/{0}_seds.grid{1}.hd5\".format(field_names[0], gs_str)\n",
    "    )\n",
    ")\n",
    "sed_files = model_grid_files"
   ]
  },
  {
   "cell_type": "markdown",
   "metadata": {},
   "source": [
    "Hopefully a spectral grid and an SED grid should have started generating. In the end you should have a new folder with the same name as your project. In it should be various files with names containing \"gridsub\" followed by a number (unless you have only 1 subgrid)."
   ]
  },
  {
   "cell_type": "markdown",
   "metadata": {},
   "source": [
    "# Step 3. Create Input ASTs\n",
    "\n",
    "Now that we have our physics model generated, we can start to generate some input ASTs. ASTs are artificial sources inserted into the observations we have, which are then extracted with the same software that was used for the original photometry catalog. So the step that we're running now is just generating the artifical sources that will then later be inserted. \n",
    "\n",
    "We need to make sure that the ASTs cover the same range of magnitudes as our original photometric catalog does, so to do that\n",
    "\n",
    "\n",
    "First thing's first, we're gonna check that there isn't already a file of AST inputs present in the folder we're working in."
   ]
  },
  {
   "cell_type": "code",
   "execution_count": 17,
   "metadata": {},
   "outputs": [
    {
     "name": "stdout",
     "output_type": "stream",
     "text": [
      "./13376_LEOP/13376_LEOP_inputAST.txt\n"
     ]
    }
   ],
   "source": [
    "# only create an AST input list if the ASTs don't already exist\n",
    "ast_input_file = (\"./{0}/{0}_inputAST.txt\".format(field_names[0]))\n",
    "print(ast_input_file)"
   ]
  },
  {
   "cell_type": "markdown",
   "metadata": {},
   "source": [
    "Now we can create the ASTs if they don't already exist."
   ]
  },
  {
   "cell_type": "code",
   "execution_count": 19,
   "metadata": {},
   "outputs": [],
   "source": [
    "os.chdir(working_dir)\n",
    "if not os.path.isfile(ast_input_file):\n",
    "    make_ast_inputs.make_ast_inputs(flux_bin_method=True)"
   ]
  },
  {
   "cell_type": "code",
   "execution_count": 20,
   "metadata": {},
   "outputs": [
    {
     "data": {
      "text/html": [
       "<div><i>Table length=82775</i>\n",
       "<table id=\"table139721576886544\" class=\"table-striped table-bordered table-condensed\">\n",
       "<thead><tr><th>zeros</th><th>ones</th><th>X</th><th>Y</th><th>HST_WFC3_F275W</th><th>HST_WFC3_F336W</th><th>HST_ACS_WFC_F475W</th><th>HST_ACS_WFC_F814W</th><th>HST_WFC3_F110W</th><th>HST_WFC3_F160W</th></tr></thead>\n",
       "<thead><tr><th>int64</th><th>int64</th><th>float64</th><th>float64</th><th>float64</th><th>float64</th><th>float64</th><th>float64</th><th>float64</th><th>float64</th></tr></thead>\n",
       "<tr><td>0</td><td>1</td><td>2805.74655</td><td>1130.85251</td><td>28.21656</td><td>27.54473</td><td>27.31381</td><td>26.30651</td><td>25.90955</td><td>25.47067</td></tr>\n",
       "<tr><td>0</td><td>1</td><td>1634.70799</td><td>1651.23957</td><td>28.21656</td><td>27.54473</td><td>27.31381</td><td>26.30651</td><td>25.90955</td><td>25.47067</td></tr>\n",
       "<tr><td>0</td><td>1</td><td>1290.26482</td><td>181.11319</td><td>28.21656</td><td>27.54473</td><td>27.31381</td><td>26.30651</td><td>25.90955</td><td>25.47067</td></tr>\n",
       "<tr><td>0</td><td>1</td><td>2357.50384</td><td>1479.83375</td><td>28.21656</td><td>27.54473</td><td>27.31381</td><td>26.30651</td><td>25.90955</td><td>25.47067</td></tr>\n",
       "<tr><td>0</td><td>1</td><td>2184.98377</td><td>774.08101</td><td>28.21656</td><td>27.54473</td><td>27.31381</td><td>26.30651</td><td>25.90955</td><td>25.47067</td></tr>\n",
       "<tr><td>0</td><td>1</td><td>2406.61282</td><td>924.75224</td><td>28.21656</td><td>27.54473</td><td>27.31381</td><td>26.30651</td><td>25.90955</td><td>25.47067</td></tr>\n",
       "<tr><td>0</td><td>1</td><td>1991.72494</td><td>894.32349</td><td>28.21656</td><td>27.54473</td><td>27.31381</td><td>26.30651</td><td>25.90955</td><td>25.47067</td></tr>\n",
       "<tr><td>0</td><td>1</td><td>1451.76439</td><td>1390.39077</td><td>28.21656</td><td>27.54473</td><td>27.31381</td><td>26.30651</td><td>25.90955</td><td>25.47067</td></tr>\n",
       "<tr><td>0</td><td>1</td><td>1862.27282</td><td>1144.90669</td><td>28.21656</td><td>27.54473</td><td>27.31381</td><td>26.30651</td><td>25.90955</td><td>25.47067</td></tr>\n",
       "<tr><td>0</td><td>1</td><td>1703.25217</td><td>1249.9642</td><td>28.21656</td><td>27.54473</td><td>27.31381</td><td>26.30651</td><td>25.90955</td><td>25.47067</td></tr>\n",
       "<tr><td>0</td><td>1</td><td>1826.72306</td><td>1177.48579</td><td>28.21656</td><td>27.54473</td><td>27.31381</td><td>26.30651</td><td>25.90955</td><td>25.47067</td></tr>\n",
       "<tr><td>0</td><td>1</td><td>2091.81863</td><td>1958.65478</td><td>39.72908</td><td>37.69029</td><td>36.27412</td><td>33.99326</td><td>33.21905</td><td>32.53605</td></tr>\n",
       "<tr><td>...</td><td>...</td><td>...</td><td>...</td><td>...</td><td>...</td><td>...</td><td>...</td><td>...</td><td>...</td></tr>\n",
       "<tr><td>0</td><td>1</td><td>1717.52896</td><td>1218.38624</td><td>47.5646</td><td>44.0236</td><td>41.05623</td><td>37.46544</td><td>36.34875</td><td>35.60114</td></tr>\n",
       "<tr><td>0</td><td>1</td><td>1667.18802</td><td>1345.03821</td><td>47.5646</td><td>44.0236</td><td>41.05623</td><td>37.46544</td><td>36.34875</td><td>35.60114</td></tr>\n",
       "<tr><td>0</td><td>1</td><td>2304.58843</td><td>1775.64892</td><td>47.5695</td><td>44.01281</td><td>41.08701</td><td>37.50106</td><td>36.36552</td><td>35.59743</td></tr>\n",
       "<tr><td>0</td><td>1</td><td>1540.80667</td><td>550.79185</td><td>47.5695</td><td>44.01281</td><td>41.08701</td><td>37.50106</td><td>36.36552</td><td>35.59743</td></tr>\n",
       "<tr><td>0</td><td>1</td><td>1043.50156</td><td>1214.14948</td><td>47.5695</td><td>44.01281</td><td>41.08701</td><td>37.50106</td><td>36.36552</td><td>35.59743</td></tr>\n",
       "<tr><td>0</td><td>1</td><td>1585.01975</td><td>764.08792</td><td>47.5695</td><td>44.01281</td><td>41.08701</td><td>37.50106</td><td>36.36552</td><td>35.59743</td></tr>\n",
       "<tr><td>0</td><td>1</td><td>2940.63437</td><td>909.22771</td><td>47.5695</td><td>44.01281</td><td>41.08701</td><td>37.50106</td><td>36.36552</td><td>35.59743</td></tr>\n",
       "<tr><td>0</td><td>1</td><td>2124.87828</td><td>1153.78511</td><td>47.5695</td><td>44.01281</td><td>41.08701</td><td>37.50106</td><td>36.36552</td><td>35.59743</td></tr>\n",
       "<tr><td>0</td><td>1</td><td>1463.81911</td><td>1210.22899</td><td>47.5695</td><td>44.01281</td><td>41.08701</td><td>37.50106</td><td>36.36552</td><td>35.59743</td></tr>\n",
       "<tr><td>0</td><td>1</td><td>2861.40071</td><td>1597.27445</td><td>47.5695</td><td>44.01281</td><td>41.08701</td><td>37.50106</td><td>36.36552</td><td>35.59743</td></tr>\n",
       "<tr><td>0</td><td>1</td><td>1222.66425</td><td>1182.898</td><td>47.5695</td><td>44.01281</td><td>41.08701</td><td>37.50106</td><td>36.36552</td><td>35.59743</td></tr>\n",
       "<tr><td>0</td><td>1</td><td>1701.44266</td><td>1202.47057</td><td>47.5695</td><td>44.01281</td><td>41.08701</td><td>37.50106</td><td>36.36552</td><td>35.59743</td></tr>\n",
       "<tr><td>0</td><td>1</td><td>1692.25277</td><td>1338.34288</td><td>47.5695</td><td>44.01281</td><td>41.08701</td><td>37.50106</td><td>36.36552</td><td>35.59743</td></tr>\n",
       "</table></div>"
      ],
      "text/plain": [
       "<Table length=82775>\n",
       "zeros  ones     X      ... HST_ACS_WFC_F814W HST_WFC3_F110W HST_WFC3_F160W\n",
       "int64 int64  float64   ...      float64         float64        float64    \n",
       "----- ----- ---------- ... ----------------- -------------- --------------\n",
       "    0     1 2805.74655 ...          26.30651       25.90955       25.47067\n",
       "    0     1 1634.70799 ...          26.30651       25.90955       25.47067\n",
       "    0     1 1290.26482 ...          26.30651       25.90955       25.47067\n",
       "    0     1 2357.50384 ...          26.30651       25.90955       25.47067\n",
       "    0     1 2184.98377 ...          26.30651       25.90955       25.47067\n",
       "    0     1 2406.61282 ...          26.30651       25.90955       25.47067\n",
       "    0     1 1991.72494 ...          26.30651       25.90955       25.47067\n",
       "    0     1 1451.76439 ...          26.30651       25.90955       25.47067\n",
       "    0     1 1862.27282 ...          26.30651       25.90955       25.47067\n",
       "    0     1 1703.25217 ...          26.30651       25.90955       25.47067\n",
       "    0     1 1826.72306 ...          26.30651       25.90955       25.47067\n",
       "    0     1 2091.81863 ...          33.99326       33.21905       32.53605\n",
       "  ...   ...        ... ...               ...            ...            ...\n",
       "    0     1 1717.52896 ...          37.46544       36.34875       35.60114\n",
       "    0     1 1667.18802 ...          37.46544       36.34875       35.60114\n",
       "    0     1 2304.58843 ...          37.50106       36.36552       35.59743\n",
       "    0     1 1540.80667 ...          37.50106       36.36552       35.59743\n",
       "    0     1 1043.50156 ...          37.50106       36.36552       35.59743\n",
       "    0     1 1585.01975 ...          37.50106       36.36552       35.59743\n",
       "    0     1 2940.63437 ...          37.50106       36.36552       35.59743\n",
       "    0     1 2124.87828 ...          37.50106       36.36552       35.59743\n",
       "    0     1 1463.81911 ...          37.50106       36.36552       35.59743\n",
       "    0     1 2861.40071 ...          37.50106       36.36552       35.59743\n",
       "    0     1 1222.66425 ...          37.50106       36.36552       35.59743\n",
       "    0     1 1701.44266 ...          37.50106       36.36552       35.59743\n",
       "    0     1 1692.25277 ...          37.50106       36.36552       35.59743"
      ]
     },
     "execution_count": 20,
     "metadata": {},
     "output_type": "execute_result"
    }
   ],
   "source": [
    "ast = Table.read(ast_input_file, format=\"ascii\")\n",
    "ast"
   ]
  },
  {
   "cell_type": "markdown",
   "metadata": {},
   "source": [
    "### Check to see how the SEDs and the ASTs compare\n",
    "\n",
    "The histogram that is produced should have both the SED distribution and the AST distribution plotted on it. The thing we want to test for is whether the AST distribution fully samples the SED range."
   ]
  },
  {
   "cell_type": "code",
   "execution_count": 22,
   "metadata": {},
   "outputs": [],
   "source": [
    "plot_ast_histogram.plot_ast_histogram(ast_input_file, sed_grid_file=model_grid_files[0])"
   ]
  },
  {
   "cell_type": "markdown",
   "metadata": {},
   "source": [
    "# Step 4. Edit/Split the Catalog"
   ]
  },
  {
   "cell_type": "markdown",
   "metadata": {},
   "source": [
    "We have to remove sources from the input photometry catalog that are in regions without full imaging coverage or flagged as bad in flag_filter. This step should mostly just be removing any sources where one of the filters might not have a value."
   ]
  },
  {
   "cell_type": "code",
   "execution_count": 23,
   "metadata": {},
   "outputs": [
    {
     "name": "stdout",
     "output_type": "stream",
     "text": [
      "removing 15047 stars from /astro/dust_kg/cclark/Leo-P/BEAST_Run/13376_LEOP.gst_with_sourceden.fits\n"
     ]
    }
   ],
   "source": [
    "gst_file_cut = gst_file.replace(\".fits\", \"_with_sourceden_cut.fits\")\n",
    "\n",
    "# check to see if the trimmed catalog already exists\n",
    "os.chdir(working_dir)\n",
    "if not os.path.isfile(gst_file_cut):\n",
    "    # and if not\n",
    "    cut_catalogs.cut_catalogs(\n",
    "        gst_file_sd,\n",
    "        gst_file_cut,\n",
    "        partial_overlap=True,\n",
    "        flagged=True,\n",
    "        flag_filter=flag_filter[0],\n",
    "        region_file=True,\n",
    "    )"
   ]
  },
  {
   "cell_type": "markdown",
   "metadata": {},
   "source": [
    "The photometry file should have CUT_FLAG column. For each star, the value must be either 1 or 0 (being 1 if the source is cut)\n",
    "\n",
    "The CUT_FLAG column should be set for 1 for any regions from which stars need not be modelled (ie, contamination, diffraction spikes, etc)."
   ]
  },
  {
   "cell_type": "code",
   "execution_count": 24,
   "metadata": {},
   "outputs": [],
   "source": [
    "gst_cut = Table.read(gst_file_cut)\n",
    "gst_cut['CUT_FLAG'] = np.zeros(len(gst_cut)).astype(int)\n",
    "gst_cut['CUT_FLAG'][np.where(gst_cut[flag_filter[0]+'_FLAG'] == 99)] = 1\n",
    "gst_cut.write(gst_file_cut, overwrite=True)"
   ]
  },
  {
   "cell_type": "markdown",
   "metadata": {},
   "source": [
    "# Step 4.5 Update beast_settings.txt\n",
    "**After making these cuts, we should now update the `obsfile` name in beast_settings.txt with this new trimmed filename: `\"/astro/dust_kg/cclark/Leo-P/Ben_Data/13376_LEOP.gst_with_sourceden_cut.fits\"`**"
   ]
  },
  {
   "cell_type": "code",
   "execution_count": 25,
   "metadata": {},
   "outputs": [
    {
     "name": "stdout",
     "output_type": "stream",
     "text": [
      "Padova CMD isochrones\n",
      "Working on the PARSEC isochrone\n"
     ]
    }
   ],
   "source": [
    "settings = beast_settings.beast_settings(settings_path)"
   ]
  },
  {
   "cell_type": "markdown",
   "metadata": {},
   "source": [
    "# Step 5. Edit/Split the ASTs"
   ]
  },
  {
   "cell_type": "markdown",
   "metadata": {},
   "source": [
    "Now for this step, we're doing things a little unconventionally since actually placing all the input ASTs we generated in Step 3 back into our image and rerunning the analysis would take several days of computational time. \n",
    "\n",
    "Instead, we already have a good AST results file (produiced by Ben Williams from UWash) which we can use to complete our analysis. The AST file should be named `./13376_LEOP.gst.fake.fits` while the input ASTs we generated were named *`./13376_LEOP/13376_LEOP_inputAST.txt`*.\n",
    "\n",
    "We will now use the same cutting procedure as for the catalog to trim down the AST file with the same criteria as in Step 4."
   ]
  },
  {
   "cell_type": "code",
   "execution_count": 26,
   "metadata": {},
   "outputs": [
    {
     "data": {
      "text/plain": [
       "'./13376_LEOP.gst.fake.fits'"
      ]
     },
     "execution_count": 26,
     "metadata": {},
     "output_type": "execute_result"
    }
   ],
   "source": [
    "ast_file = \"./\" + field_names[0] + \".gst.fake.fits\"\n",
    "ast_file "
   ]
  },
  {
   "cell_type": "code",
   "execution_count": 27,
   "metadata": {},
   "outputs": [
    {
     "data": {
      "text/html": [
       "<div><i>Table length=82391</i>\n",
       "<table id=\"table139720263498256\" class=\"table-striped table-bordered table-condensed\">\n",
       "<thead><tr><th>XIN</th><th>YIN</th><th>RA_J2000</th><th>DEC_J2000</th><th>X</th><th>Y</th><th>F110W_IN</th><th>F110W_RATE</th><th>F110W_RATERR</th><th>F110W_VEGA</th><th>F110W_STD</th><th>F110W_ERR</th><th>F110W_CHI</th><th>F110W_SNR</th><th>F110W_SHARP</th><th>F110W_ROUND</th><th>F110W_CROWD</th><th>F110W_FLAG</th><th>F160W_IN</th><th>F160W_RATE</th><th>F160W_RATERR</th><th>F160W_VEGA</th><th>F160W_STD</th><th>F160W_ERR</th><th>F160W_CHI</th><th>F160W_SNR</th><th>F160W_SHARP</th><th>F160W_ROUND</th><th>F160W_CROWD</th><th>F160W_FLAG</th><th>F275W_IN</th><th>F275W_RATE</th><th>F275W_RATERR</th><th>F275W_VEGA</th><th>F275W_STD</th><th>F275W_ERR</th><th>F275W_CHI</th><th>F275W_SNR</th><th>F275W_SHARP</th><th>F275W_ROUND</th><th>F275W_CROWD</th><th>F275W_FLAG</th><th>F336W_IN</th><th>F336W_RATE</th><th>F336W_RATERR</th><th>F336W_VEGA</th><th>F336W_STD</th><th>F336W_ERR</th><th>F336W_CHI</th><th>F336W_SNR</th><th>F336W_SHARP</th><th>F336W_ROUND</th><th>F336W_CROWD</th><th>F336W_FLAG</th><th>F475W_IN</th><th>F475W_RATE</th><th>F475W_RATERR</th><th>F475W_VEGA</th><th>F475W_STD</th><th>F475W_ERR</th><th>F475W_CHI</th><th>F475W_SNR</th><th>F475W_SHARP</th><th>F475W_ROUND</th><th>F475W_CROWD</th><th>F475W_FLAG</th><th>F814W_IN</th><th>F814W_RATE</th><th>F814W_RATERR</th><th>F814W_VEGA</th><th>F814W_STD</th><th>F814W_ERR</th><th>F814W_CHI</th><th>F814W_SNR</th><th>F814W_SHARP</th><th>F814W_ROUND</th><th>F814W_CROWD</th><th>F814W_FLAG</th><th>Separation</th><th>MASK_FLAG</th></tr></thead>\n",
       "<thead><tr><th>float32</th><th>float32</th><th>float64</th><th>float64</th><th>float64</th><th>float64</th><th>float32</th><th>float32</th><th>float32</th><th>float32</th><th>float32</th><th>float32</th><th>float32</th><th>float32</th><th>float32</th><th>float32</th><th>float32</th><th>int16</th><th>float32</th><th>float32</th><th>float32</th><th>float32</th><th>float32</th><th>float32</th><th>float32</th><th>float32</th><th>float32</th><th>float32</th><th>float32</th><th>int16</th><th>float32</th><th>float32</th><th>float32</th><th>float32</th><th>float32</th><th>float32</th><th>float32</th><th>float32</th><th>float32</th><th>float32</th><th>float32</th><th>int16</th><th>float32</th><th>float32</th><th>float32</th><th>float32</th><th>float32</th><th>float32</th><th>float32</th><th>float32</th><th>float32</th><th>float32</th><th>float32</th><th>int16</th><th>float32</th><th>float32</th><th>float32</th><th>float32</th><th>float32</th><th>float32</th><th>float32</th><th>float32</th><th>float32</th><th>float32</th><th>float32</th><th>int16</th><th>float32</th><th>float32</th><th>float32</th><th>float32</th><th>float32</th><th>float32</th><th>float32</th><th>float32</th><th>float32</th><th>float32</th><th>float32</th><th>int16</th><th>float64</th><th>int64</th></tr></thead>\n",
       "<tr><td>2805.75</td><td>1130.85</td><td>155.43690748</td><td>18.10374229</td><td>2806.21</td><td>1131.32</td><td>25.91</td><td>4.78e-11</td><td>6.04e-12</td><td>25.801</td><td>99.999</td><td>0.137</td><td>0.73</td><td>7.9</td><td>-0.032</td><td>0.698</td><td>0.011</td><td>0</td><td>25.471</td><td>5.34e-11</td><td>9.53e-12</td><td>25.68</td><td>99.999</td><td>0.194</td><td>0.96</td><td>5.6</td><td>-0.264</td><td>-0.298</td><td>0.017</td><td>0</td><td>28.217</td><td>3.26e-12</td><td>6.76e-12</td><td>99.999</td><td>99.999</td><td>99.999</td><td>99.999</td><td>99.999</td><td>99.999</td><td>99.999</td><td>99.999</td><td>99</td><td>27.545</td><td>9.57e-12</td><td>6.64e-12</td><td>99.999</td><td>99.999</td><td>99.999</td><td>99.999</td><td>99.999</td><td>99.999</td><td>99.999</td><td>99.999</td><td>99</td><td>27.314</td><td>1.12e-11</td><td>3.5e-13</td><td>27.378</td><td>27.571</td><td>0.034</td><td>1.24</td><td>32.0</td><td>0.01</td><td>0.031</td><td>0.001</td><td>0</td><td>26.307</td><td>2.93e-11</td><td>8.44e-13</td><td>26.334</td><td>26.325</td><td>0.031</td><td>1.03</td><td>34.7</td><td>0.02</td><td>0.177</td><td>0.001</td><td>0</td><td>0.004280859100807896</td><td>0</td></tr>\n",
       "<tr><td>1634.71</td><td>1651.24</td><td>155.44299343</td><td>18.08691062</td><td>1635.22</td><td>1651.75</td><td>25.91</td><td>3.77e-11</td><td>6.15e-12</td><td>26.059</td><td>99.999</td><td>0.177</td><td>1.1</td><td>6.1</td><td>0.005</td><td>0.277</td><td>0.012</td><td>0</td><td>25.471</td><td>5.98e-11</td><td>1.02e-11</td><td>25.558</td><td>99.999</td><td>0.186</td><td>0.88</td><td>5.8</td><td>-0.023</td><td>0.246</td><td>0.046</td><td>0</td><td>28.217</td><td>-2e-11</td><td>6.96e-12</td><td>99.999</td><td>99.999</td><td>99.999</td><td>99.999</td><td>99.999</td><td>99.999</td><td>99.999</td><td>99.999</td><td>99</td><td>27.545</td><td>7.23e-12</td><td>5.3e-12</td><td>99.999</td><td>99.999</td><td>99.999</td><td>99.999</td><td>99.999</td><td>99.999</td><td>99.999</td><td>99.999</td><td>99</td><td>27.314</td><td>1.14e-11</td><td>3.92e-13</td><td>27.358</td><td>27.54</td><td>0.037</td><td>1.33</td><td>29.1</td><td>0.067</td><td>-0.018</td><td>0.001</td><td>2</td><td>26.307</td><td>2.92e-11</td><td>9.34e-13</td><td>26.338</td><td>26.329</td><td>0.035</td><td>1.05</td><td>31.2</td><td>0.032</td><td>-0.004</td><td>0.002</td><td>2</td><td>0.0020152398265327986</td><td>0</td></tr>\n",
       "<tr><td>1290.26</td><td>181.11</td><td>155.42115744</td><td>18.0839206</td><td>1290.78</td><td>181.58</td><td>25.91</td><td>3.62e-11</td><td>6.52e-12</td><td>26.104</td><td>99.999</td><td>0.196</td><td>1.02</td><td>5.5</td><td>-0.193</td><td>-0.178</td><td>0.267</td><td>0</td><td>25.471</td><td>5.16e-11</td><td>1.07e-11</td><td>25.718</td><td>99.999</td><td>0.225</td><td>0.9</td><td>4.8</td><td>-0.041</td><td>-0.076</td><td>0.088</td><td>0</td><td>28.217</td><td>-1.2e-11</td><td>5.68e-12</td><td>99.999</td><td>99.999</td><td>99.999</td><td>99.999</td><td>99.999</td><td>99.999</td><td>99.999</td><td>99.999</td><td>99</td><td>27.545</td><td>-6.4e-12</td><td>3.53e-12</td><td>99.999</td><td>99.999</td><td>99.999</td><td>99.999</td><td>99.999</td><td>99.999</td><td>99.999</td><td>99.999</td><td>99</td><td>27.314</td><td>1.09e-11</td><td>2.98e-13</td><td>27.402</td><td>27.595</td><td>0.03</td><td>0.99</td><td>36.7</td><td>0.009</td><td>0.076</td><td>0.042</td><td>99</td><td>26.307</td><td>2.87e-11</td><td>8.4e-13</td><td>26.357</td><td>26.348</td><td>0.032</td><td>0.93</td><td>34.1</td><td>0.014</td><td>0.009</td><td>0.031</td><td>0</td><td>0.0057715302193587096</td><td>0</td></tr>\n",
       "<tr><td>2357.5</td><td>1479.83</td><td>155.44141752</td><td>18.09711847</td><td>2358.03</td><td>1480.34</td><td>25.91</td><td>2.91e-11</td><td>5.55e-12</td><td>26.339</td><td>99.999</td><td>0.207</td><td>0.9</td><td>5.2</td><td>-0.027</td><td>-0.577</td><td>0.02</td><td>0</td><td>25.471</td><td>7.22e-11</td><td>1.09e-11</td><td>25.353</td><td>99.999</td><td>0.163</td><td>0.94</td><td>6.6</td><td>-0.036</td><td>0.238</td><td>0.071</td><td>0</td><td>28.217</td><td>-3e-12</td><td>7.88e-12</td><td>99.999</td><td>99.999</td><td>99.999</td><td>99.999</td><td>99.999</td><td>99.999</td><td>99.999</td><td>99.999</td><td>99</td><td>27.545</td><td>3.6e-12</td><td>5.58e-12</td><td>99.999</td><td>99.999</td><td>99.999</td><td>99.999</td><td>99.999</td><td>99.999</td><td>99.999</td><td>99.999</td><td>99</td><td>27.314</td><td>1.18e-11</td><td>3.82e-13</td><td>27.324</td><td>27.452</td><td>0.035</td><td>1.28</td><td>30.7</td><td>0.041</td><td>0.062</td><td>0.001</td><td>99</td><td>26.307</td><td>2.72e-11</td><td>8.49e-13</td><td>26.412</td><td>26.402</td><td>0.034</td><td>1.02</td><td>32.1</td><td>0.004</td><td>0.021</td><td>0.001</td><td>2</td><td>0.005398112728833409</td><td>0</td></tr>\n",
       "<tr><td>2184.98</td><td>774.08</td><td>155.43092515</td><td>18.09558419</td><td>2185.52</td><td>774.57</td><td>25.91</td><td>4.54e-11</td><td>5.76e-12</td><td>25.857</td><td>99.999</td><td>0.138</td><td>0.97</td><td>7.9</td><td>0.014</td><td>-0.58</td><td>0.055</td><td>0</td><td>25.471</td><td>5.92e-11</td><td>1e-11</td><td>25.57</td><td>99.999</td><td>0.184</td><td>1.02</td><td>5.9</td><td>0.014</td><td>-0.282</td><td>0.079</td><td>0</td><td>28.217</td><td>-3.7e-12</td><td>7.61e-12</td><td>99.999</td><td>99.999</td><td>99.999</td><td>99.999</td><td>99.999</td><td>99.999</td><td>99.999</td><td>99.999</td><td>99</td><td>27.545</td><td>1.22e-11</td><td>4.62e-12</td><td>99.999</td><td>99.999</td><td>99.999</td><td>99.999</td><td>99.999</td><td>99.999</td><td>99.999</td><td>99.999</td><td>99</td><td>27.314</td><td>1.17e-11</td><td>3.25e-13</td><td>27.328</td><td>27.487</td><td>0.03</td><td>1.14</td><td>36.1</td><td>-0.023</td><td>-0.02</td><td>0.003</td><td>0</td><td>26.307</td><td>2.88e-11</td><td>8.4e-13</td><td>26.353</td><td>26.343</td><td>0.032</td><td>1.01</td><td>34.3</td><td>-0.026</td><td>-0.034</td><td>0.003</td><td>0</td><td>0.0039174504045038526</td><td>0</td></tr>\n",
       "<tr><td>2406.61</td><td>924.75</td><td>155.43340001</td><td>18.09846871</td><td>2407.13</td><td>925.28</td><td>25.91</td><td>4.89e-11</td><td>6.87e-12</td><td>25.778</td><td>99.999</td><td>0.153</td><td>1.08</td><td>7.1</td><td>-0.082</td><td>0.026</td><td>1.356</td><td>0</td><td>25.471</td><td>1.78e-11</td><td>1.02e-11</td><td>99.999</td><td>99.999</td><td>99.999</td><td>99.999</td><td>99.999</td><td>99.999</td><td>99.999</td><td>99.999</td><td>99</td><td>28.217</td><td>8.56e-13</td><td>5.69e-12</td><td>99.999</td><td>99.999</td><td>99.999</td><td>99.999</td><td>99.999</td><td>99.999</td><td>99.999</td><td>99.999</td><td>99</td><td>27.545</td><td>6.61e-12</td><td>8.99e-12</td><td>99.999</td><td>99.999</td><td>99.999</td><td>99.999</td><td>99.999</td><td>99.999</td><td>99.999</td><td>99.999</td><td>99</td><td>27.314</td><td>1.18e-11</td><td>4.5e-13</td><td>27.32</td><td>27.504</td><td>0.041</td><td>1.28</td><td>26.2</td><td>0.067</td><td>-0.0</td><td>0.218</td><td>2</td><td>26.307</td><td>3.03e-11</td><td>1.05e-12</td><td>26.295</td><td>26.286</td><td>0.038</td><td>0.99</td><td>28.8</td><td>-0.051</td><td>0.105</td><td>0.265</td><td>2</td><td>0.003517908481389009</td><td>0</td></tr>\n",
       "<tr><td>1991.72</td><td>894.32</td><td>155.43242978</td><td>18.09276495</td><td>1992.25</td><td>894.86</td><td>25.91</td><td>4.1e-11</td><td>5.64e-12</td><td>25.967</td><td>99.999</td><td>0.149</td><td>0.72</td><td>7.3</td><td>-0.011</td><td>0.37</td><td>0.137</td><td>0</td><td>25.471</td><td>9.11e-11</td><td>1.21e-11</td><td>25.101</td><td>99.999</td><td>0.145</td><td>1.23</td><td>7.5</td><td>-0.107</td><td>0.026</td><td>0.102</td><td>0</td><td>28.217</td><td>-1.8e-11</td><td>8.29e-12</td><td>99.999</td><td>99.999</td><td>99.999</td><td>99.999</td><td>99.999</td><td>99.999</td><td>99.999</td><td>99.999</td><td>99</td><td>27.545</td><td>2.69e-12</td><td>9.62e-12</td><td>99.999</td><td>99.999</td><td>99.999</td><td>99.999</td><td>99.999</td><td>99.999</td><td>99.999</td><td>99.999</td><td>99</td><td>27.314</td><td>1.16e-11</td><td>3.28e-13</td><td>27.337</td><td>27.511</td><td>0.031</td><td>1.07</td><td>35.4</td><td>0.004</td><td>0.098</td><td>0.023</td><td>2</td><td>26.307</td><td>2.93e-11</td><td>8.87e-13</td><td>26.332</td><td>26.322</td><td>0.033</td><td>1.03</td><td>33.0</td><td>0.059</td><td>0.047</td><td>0.018</td><td>0</td><td>0.006068191001422047</td><td>0</td></tr>\n",
       "<tr><td>1451.76</td><td>1390.39</td><td>155.43896406</td><td>18.08469456</td><td>1452.32</td><td>1390.89</td><td>25.91</td><td>4.29e-11</td><td>6.03e-12</td><td>25.918</td><td>99.999</td><td>0.152</td><td>1.05</td><td>7.1</td><td>0.156</td><td>0.285</td><td>0.06</td><td>0</td><td>25.471</td><td>5.66e-11</td><td>9.9e-12</td><td>25.617</td><td>99.999</td><td>0.19</td><td>0.87</td><td>5.7</td><td>-0.081</td><td>-0.597</td><td>0.216</td><td>0</td><td>28.217</td><td>8.55e-14</td><td>5.89e-12</td><td>99.999</td><td>99.999</td><td>99.999</td><td>99.999</td><td>99.999</td><td>99.999</td><td>99.999</td><td>99.999</td><td>99</td><td>27.545</td><td>7.97e-12</td><td>3.69e-12</td><td>99.999</td><td>99.999</td><td>99.999</td><td>99.999</td><td>99.999</td><td>99.999</td><td>99.999</td><td>99.999</td><td>99</td><td>27.314</td><td>1.16e-11</td><td>3.7e-13</td><td>27.337</td><td>27.492</td><td>0.035</td><td>1.25</td><td>31.4</td><td>-0.035</td><td>0.066</td><td>0.068</td><td>2</td><td>26.307</td><td>2.83e-11</td><td>8.75e-13</td><td>26.369</td><td>26.359</td><td>0.034</td><td>1.0</td><td>32.4</td><td>-0.008</td><td>0.07</td><td>0.07</td><td>0</td><td>0.004444885731184793</td><td>0</td></tr>\n",
       "<tr><td>1862.27</td><td>1144.91</td><td>155.43591281</td><td>18.0906711</td><td>1862.76</td><td>1145.45</td><td>25.91</td><td>4.31e-11</td><td>6.58e-12</td><td>25.914</td><td>99.999</td><td>0.166</td><td>1.05</td><td>6.5</td><td>0.011</td><td>0.979</td><td>1.005</td><td>0</td><td>25.471</td><td>7.03e-11</td><td>1.08e-11</td><td>25.382</td><td>99.999</td><td>0.166</td><td>0.67</td><td>6.5</td><td>-0.094</td><td>0.243</td><td>1.129</td><td>2</td><td>28.217</td><td>-2.5e-13</td><td>5.39e-12</td><td>99.999</td><td>99.999</td><td>99.999</td><td>99.999</td><td>99.999</td><td>99.999</td><td>99.999</td><td>99.999</td><td>99</td><td>27.545</td><td>7.28e-12</td><td>4.66e-12</td><td>99.999</td><td>99.999</td><td>99.999</td><td>99.999</td><td>99.999</td><td>99.999</td><td>99.999</td><td>99.999</td><td>99</td><td>27.314</td><td>1.07e-11</td><td>3.45e-13</td><td>27.426</td><td>27.629</td><td>0.035</td><td>1.16</td><td>31.0</td><td>0.007</td><td>0.01</td><td>0.245</td><td>0</td><td>26.307</td><td>2.85e-11</td><td>8.53e-13</td><td>26.362</td><td>26.353</td><td>0.032</td><td>0.97</td><td>33.4</td><td>0.005</td><td>-0.078</td><td>0.311</td><td>0</td><td>0.0043618990131982175</td><td>0</td></tr>\n",
       "<tr><td>1703.25</td><td>1249.96</td><td>155.43723975</td><td>18.08834393</td><td>1703.77</td><td>1250.43</td><td>25.91</td><td>5.2e-11</td><td>5.85e-12</td><td>25.711</td><td>99.999</td><td>0.122</td><td>0.88</td><td>8.9</td><td>0.101</td><td>0.087</td><td>0.351</td><td>0</td><td>25.471</td><td>7.94e-11</td><td>9.3e-12</td><td>25.251</td><td>99.999</td><td>0.127</td><td>0.7</td><td>8.5</td><td>0.008</td><td>-0.561</td><td>0.377</td><td>0</td><td>28.217</td><td>-4.9e-12</td><td>4.84e-12</td><td>99.999</td><td>99.999</td><td>99.999</td><td>99.999</td><td>99.999</td><td>99.999</td><td>99.999</td><td>99.999</td><td>99</td><td>27.545</td><td>6.26e-12</td><td>4.88e-12</td><td>99.999</td><td>99.999</td><td>99.999</td><td>99.999</td><td>99.999</td><td>99.999</td><td>99.999</td><td>99.999</td><td>99</td><td>27.314</td><td>1.24e-11</td><td>3.93e-13</td><td>27.267</td><td>27.452</td><td>0.034</td><td>1.19</td><td>31.6</td><td>-0.03</td><td>0.036</td><td>0.665</td><td>2</td><td>26.307</td><td>3.19e-11</td><td>8.89e-13</td><td>26.239</td><td>26.23</td><td>0.03</td><td>0.97</td><td>35.9</td><td>-0.023</td><td>0.044</td><td>0.245</td><td>0</td><td>0.004762200213965463</td><td>0</td></tr>\n",
       "<tr><td>1826.72</td><td>1177.49</td><td>155.43634185</td><td>18.09013986</td><td>1827.22</td><td>1177.98</td><td>25.91</td><td>3.41e-11</td><td>5.7e-12</td><td>26.168</td><td>99.999</td><td>0.182</td><td>0.87</td><td>6.0</td><td>0.118</td><td>0.094</td><td>0.445</td><td>0</td><td>25.471</td><td>6.51e-11</td><td>9.36e-12</td><td>25.467</td><td>99.999</td><td>0.156</td><td>0.7</td><td>6.9</td><td>0.054</td><td>-0.049</td><td>0.263</td><td>0</td><td>28.217</td><td>-1.1e-11</td><td>7.31e-12</td><td>99.999</td><td>99.999</td><td>99.999</td><td>99.999</td><td>99.999</td><td>99.999</td><td>99.999</td><td>99.999</td><td>99</td><td>27.545</td><td>1.46e-12</td><td>4.82e-12</td><td>99.999</td><td>99.999</td><td>99.999</td><td>99.999</td><td>99.999</td><td>99.999</td><td>99.999</td><td>99.999</td><td>99</td><td>27.314</td><td>1.11e-11</td><td>3.5e-13</td><td>27.383</td><td>27.542</td><td>0.034</td><td>1.19</td><td>31.8</td><td>0.067</td><td>0.121</td><td>0.143</td><td>0</td><td>26.307</td><td>2.74e-11</td><td>9.08e-13</td><td>26.408</td><td>26.398</td><td>0.036</td><td>1.09</td><td>30.1</td><td>0.015</td><td>0.025</td><td>0.081</td><td>2</td><td>0.005213993094301218</td><td>0</td></tr>\n",
       "<tr><td>2091.82</td><td>1958.65</td><td>155.44804936</td><td>18.09286362</td><td>0.5</td><td>0.5</td><td>33.219</td><td>0.0</td><td>9999.0</td><td>99.999</td><td>99.999</td><td>99.999</td><td>99.999</td><td>99.999</td><td>99.999</td><td>99.999</td><td>99.999</td><td>99</td><td>32.536</td><td>0.0</td><td>9999.0</td><td>99.999</td><td>99.999</td><td>99.999</td><td>99.999</td><td>99.999</td><td>99.999</td><td>99.999</td><td>99.999</td><td>99</td><td>39.729</td><td>0.0</td><td>9999.0</td><td>99.999</td><td>99.999</td><td>99.999</td><td>99.999</td><td>99.999</td><td>99.999</td><td>99.999</td><td>99.999</td><td>99</td><td>37.69</td><td>0.0</td><td>9999.0</td><td>99.999</td><td>99.999</td><td>99.999</td><td>99.999</td><td>99.999</td><td>99.999</td><td>99.999</td><td>99.999</td><td>99</td><td>36.274</td><td>0.0</td><td>9999.0</td><td>99.999</td><td>99.999</td><td>99.999</td><td>99.999</td><td>99.999</td><td>99.999</td><td>99.999</td><td>99.999</td><td>99</td><td>33.993</td><td>0.0</td><td>9999.0</td><td>99.999</td><td>99.999</td><td>99.999</td><td>99.999</td><td>99.999</td><td>99.999</td><td>99.999</td><td>99.999</td><td>99</td><td>0.004968347340986384</td><td>1</td></tr>\n",
       "<tr><td>...</td><td>...</td><td>...</td><td>...</td><td>...</td><td>...</td><td>...</td><td>...</td><td>...</td><td>...</td><td>...</td><td>...</td><td>...</td><td>...</td><td>...</td><td>...</td><td>...</td><td>...</td><td>...</td><td>...</td><td>...</td><td>...</td><td>...</td><td>...</td><td>...</td><td>...</td><td>...</td><td>...</td><td>...</td><td>...</td><td>...</td><td>...</td><td>...</td><td>...</td><td>...</td><td>...</td><td>...</td><td>...</td><td>...</td><td>...</td><td>...</td><td>...</td><td>...</td><td>...</td><td>...</td><td>...</td><td>...</td><td>...</td><td>...</td><td>...</td><td>...</td><td>...</td><td>...</td><td>...</td><td>...</td><td>...</td><td>...</td><td>...</td><td>...</td><td>...</td><td>...</td><td>...</td><td>...</td><td>...</td><td>...</td><td>...</td><td>...</td><td>...</td><td>...</td><td>...</td><td>...</td><td>...</td><td>...</td><td>...</td><td>...</td><td>...</td><td>...</td><td>...</td><td>...</td><td>...</td></tr>\n",
       "<tr><td>1717.53</td><td>1218.39</td><td>155.43679838</td><td>18.08857966</td><td>0.5</td><td>0.5</td><td>36.349</td><td>0.0</td><td>9999.0</td><td>99.999</td><td>99.999</td><td>99.999</td><td>99.999</td><td>99.999</td><td>99.999</td><td>99.999</td><td>99.999</td><td>99</td><td>35.601</td><td>0.0</td><td>9999.0</td><td>99.999</td><td>99.999</td><td>99.999</td><td>99.999</td><td>99.999</td><td>99.999</td><td>99.999</td><td>99.999</td><td>99</td><td>47.565</td><td>0.0</td><td>9999.0</td><td>99.999</td><td>99.999</td><td>99.999</td><td>99.999</td><td>99.999</td><td>99.999</td><td>99.999</td><td>99.999</td><td>99</td><td>44.024</td><td>0.0</td><td>9999.0</td><td>99.999</td><td>99.999</td><td>99.999</td><td>99.999</td><td>99.999</td><td>99.999</td><td>99.999</td><td>99.999</td><td>99</td><td>41.056</td><td>0.0</td><td>9999.0</td><td>99.999</td><td>99.999</td><td>99.999</td><td>99.999</td><td>99.999</td><td>99.999</td><td>99.999</td><td>99.999</td><td>99</td><td>37.465</td><td>0.0</td><td>9999.0</td><td>99.999</td><td>99.999</td><td>99.999</td><td>99.999</td><td>99.999</td><td>99.999</td><td>99.999</td><td>99.999</td><td>99</td><td>0.003923183227058078</td><td>0</td></tr>\n",
       "<tr><td>1667.19</td><td>1345.04</td><td>155.43857785</td><td>18.0877301</td><td>0.5</td><td>0.5</td><td>36.349</td><td>0.0</td><td>9999.0</td><td>99.999</td><td>99.999</td><td>99.999</td><td>99.999</td><td>99.999</td><td>99.999</td><td>99.999</td><td>99.999</td><td>99</td><td>35.601</td><td>0.0</td><td>9999.0</td><td>99.999</td><td>99.999</td><td>99.999</td><td>99.999</td><td>99.999</td><td>99.999</td><td>99.999</td><td>99.999</td><td>99</td><td>47.565</td><td>0.0</td><td>9999.0</td><td>99.999</td><td>99.999</td><td>99.999</td><td>99.999</td><td>99.999</td><td>99.999</td><td>99.999</td><td>99.999</td><td>99</td><td>44.024</td><td>0.0</td><td>9999.0</td><td>99.999</td><td>99.999</td><td>99.999</td><td>99.999</td><td>99.999</td><td>99.999</td><td>99.999</td><td>99.999</td><td>99</td><td>41.056</td><td>0.0</td><td>9999.0</td><td>99.999</td><td>99.999</td><td>99.999</td><td>99.999</td><td>99.999</td><td>99.999</td><td>99.999</td><td>99.999</td><td>99</td><td>37.465</td><td>0.0</td><td>9999.0</td><td>99.999</td><td>99.999</td><td>99.999</td><td>99.999</td><td>99.999</td><td>99.999</td><td>99.999</td><td>99.999</td><td>99</td><td>0.0026527856314606355</td><td>0</td></tr>\n",
       "<tr><td>2304.59</td><td>1775.65</td><td>155.44565625</td><td>18.0960288</td><td>0.5</td><td>0.5</td><td>36.366</td><td>0.0</td><td>9999.0</td><td>99.999</td><td>99.999</td><td>99.999</td><td>99.999</td><td>99.999</td><td>99.999</td><td>99.999</td><td>99.999</td><td>99</td><td>35.597</td><td>0.0</td><td>9999.0</td><td>99.999</td><td>99.999</td><td>99.999</td><td>99.999</td><td>99.999</td><td>99.999</td><td>99.999</td><td>99.999</td><td>99</td><td>47.569</td><td>0.0</td><td>9999.0</td><td>99.999</td><td>99.999</td><td>99.999</td><td>99.999</td><td>99.999</td><td>99.999</td><td>99.999</td><td>99.999</td><td>99</td><td>44.013</td><td>0.0</td><td>9999.0</td><td>99.999</td><td>99.999</td><td>99.999</td><td>99.999</td><td>99.999</td><td>99.999</td><td>99.999</td><td>99.999</td><td>99</td><td>41.087</td><td>0.0</td><td>9999.0</td><td>99.999</td><td>99.999</td><td>99.999</td><td>99.999</td><td>99.999</td><td>99.999</td><td>99.999</td><td>99.999</td><td>99</td><td>37.501</td><td>0.0</td><td>9999.0</td><td>99.999</td><td>99.999</td><td>99.999</td><td>99.999</td><td>99.999</td><td>99.999</td><td>99.999</td><td>99.999</td><td>99</td><td>0.0019920672042911315</td><td>1</td></tr>\n",
       "<tr><td>1540.81</td><td>550.79</td><td>155.42685652</td><td>18.08694095</td><td>0.5</td><td>0.5</td><td>36.366</td><td>0.0</td><td>9999.0</td><td>99.999</td><td>99.999</td><td>99.999</td><td>99.999</td><td>99.999</td><td>99.999</td><td>99.999</td><td>99.999</td><td>99</td><td>35.597</td><td>0.0</td><td>9999.0</td><td>99.999</td><td>99.999</td><td>99.999</td><td>99.999</td><td>99.999</td><td>99.999</td><td>99.999</td><td>99.999</td><td>99</td><td>47.569</td><td>0.0</td><td>9999.0</td><td>99.999</td><td>99.999</td><td>99.999</td><td>99.999</td><td>99.999</td><td>99.999</td><td>99.999</td><td>99.999</td><td>99</td><td>44.013</td><td>0.0</td><td>9999.0</td><td>99.999</td><td>99.999</td><td>99.999</td><td>99.999</td><td>99.999</td><td>99.999</td><td>99.999</td><td>99.999</td><td>99</td><td>41.087</td><td>0.0</td><td>9999.0</td><td>99.999</td><td>99.999</td><td>99.999</td><td>99.999</td><td>99.999</td><td>99.999</td><td>99.999</td><td>99.999</td><td>99</td><td>37.501</td><td>0.0</td><td>9999.0</td><td>99.999</td><td>99.999</td><td>99.999</td><td>99.999</td><td>99.999</td><td>99.999</td><td>99.999</td><td>99.999</td><td>99</td><td>0.003871285216632942</td><td>1</td></tr>\n",
       "<tr><td>1043.5</td><td>1214.15</td><td>155.43587992</td><td>18.07925875</td><td>0.5</td><td>0.5</td><td>36.366</td><td>0.0</td><td>9999.0</td><td>99.999</td><td>99.999</td><td>99.999</td><td>99.999</td><td>99.999</td><td>99.999</td><td>99.999</td><td>99.999</td><td>99</td><td>35.597</td><td>0.0</td><td>9999.0</td><td>99.999</td><td>99.999</td><td>99.999</td><td>99.999</td><td>99.999</td><td>99.999</td><td>99.999</td><td>99.999</td><td>99</td><td>47.569</td><td>0.0</td><td>9999.0</td><td>99.999</td><td>99.999</td><td>99.999</td><td>99.999</td><td>99.999</td><td>99.999</td><td>99.999</td><td>99.999</td><td>99</td><td>44.013</td><td>0.0</td><td>9999.0</td><td>99.999</td><td>99.999</td><td>99.999</td><td>99.999</td><td>99.999</td><td>99.999</td><td>99.999</td><td>99.999</td><td>99</td><td>41.087</td><td>0.0</td><td>9999.0</td><td>99.999</td><td>99.999</td><td>99.999</td><td>99.999</td><td>99.999</td><td>99.999</td><td>99.999</td><td>99.999</td><td>99</td><td>37.501</td><td>0.0</td><td>9999.0</td><td>99.999</td><td>99.999</td><td>99.999</td><td>99.999</td><td>99.999</td><td>99.999</td><td>99.999</td><td>99.999</td><td>99</td><td>0.0016522671306952934</td><td>1</td></tr>\n",
       "<tr><td>1585.02</td><td>764.09</td><td>155.43001738</td><td>18.08729505</td><td>0.5</td><td>0.5</td><td>36.366</td><td>0.0</td><td>9999.0</td><td>99.999</td><td>99.999</td><td>99.999</td><td>99.999</td><td>99.999</td><td>99.999</td><td>99.999</td><td>99.999</td><td>99</td><td>35.597</td><td>0.0</td><td>9999.0</td><td>99.999</td><td>99.999</td><td>99.999</td><td>99.999</td><td>99.999</td><td>99.999</td><td>99.999</td><td>99.999</td><td>99</td><td>47.569</td><td>0.0</td><td>9999.0</td><td>99.999</td><td>99.999</td><td>99.999</td><td>99.999</td><td>99.999</td><td>99.999</td><td>99.999</td><td>99.999</td><td>99</td><td>44.013</td><td>0.0</td><td>9999.0</td><td>99.999</td><td>99.999</td><td>99.999</td><td>99.999</td><td>99.999</td><td>99.999</td><td>99.999</td><td>99.999</td><td>99</td><td>41.087</td><td>0.0</td><td>9999.0</td><td>99.999</td><td>99.999</td><td>99.999</td><td>99.999</td><td>99.999</td><td>99.999</td><td>99.999</td><td>99.999</td><td>99</td><td>37.501</td><td>0.0</td><td>9999.0</td><td>99.999</td><td>99.999</td><td>99.999</td><td>99.999</td><td>99.999</td><td>99.999</td><td>99.999</td><td>99.999</td><td>99</td><td>0.0021240261440809037</td><td>1</td></tr>\n",
       "<tr><td>2940.63</td><td>909.23</td><td>155.43385283</td><td>18.10587629</td><td>0.5</td><td>0.5</td><td>36.366</td><td>0.0</td><td>9999.0</td><td>99.999</td><td>99.999</td><td>99.999</td><td>99.999</td><td>99.999</td><td>99.999</td><td>99.999</td><td>99.999</td><td>99</td><td>35.597</td><td>0.0</td><td>9999.0</td><td>99.999</td><td>99.999</td><td>99.999</td><td>99.999</td><td>99.999</td><td>99.999</td><td>99.999</td><td>99.999</td><td>99</td><td>47.569</td><td>0.0</td><td>9999.0</td><td>99.999</td><td>99.999</td><td>99.999</td><td>99.999</td><td>99.999</td><td>99.999</td><td>99.999</td><td>99.999</td><td>99</td><td>44.013</td><td>0.0</td><td>9999.0</td><td>99.999</td><td>99.999</td><td>99.999</td><td>99.999</td><td>99.999</td><td>99.999</td><td>99.999</td><td>99.999</td><td>99</td><td>41.087</td><td>0.0</td><td>9999.0</td><td>99.999</td><td>99.999</td><td>99.999</td><td>99.999</td><td>99.999</td><td>99.999</td><td>99.999</td><td>99.999</td><td>99</td><td>37.501</td><td>0.0</td><td>9999.0</td><td>99.999</td><td>99.999</td><td>99.999</td><td>99.999</td><td>99.999</td><td>99.999</td><td>99.999</td><td>99.999</td><td>99</td><td>0.005028904453936678</td><td>0</td></tr>\n",
       "<tr><td>2124.88</td><td>1153.79</td><td>155.43637588</td><td>18.0942939</td><td>0.5</td><td>0.5</td><td>36.366</td><td>0.0</td><td>9999.0</td><td>99.999</td><td>99.999</td><td>99.999</td><td>99.999</td><td>99.999</td><td>99.999</td><td>99.999</td><td>99.999</td><td>99</td><td>35.597</td><td>0.0</td><td>9999.0</td><td>99.999</td><td>99.999</td><td>99.999</td><td>99.999</td><td>99.999</td><td>99.999</td><td>99.999</td><td>99.999</td><td>99</td><td>47.569</td><td>0.0</td><td>9999.0</td><td>99.999</td><td>99.999</td><td>99.999</td><td>99.999</td><td>99.999</td><td>99.999</td><td>99.999</td><td>99.999</td><td>99</td><td>44.013</td><td>0.0</td><td>9999.0</td><td>99.999</td><td>99.999</td><td>99.999</td><td>99.999</td><td>99.999</td><td>99.999</td><td>99.999</td><td>99.999</td><td>99</td><td>41.087</td><td>0.0</td><td>9999.0</td><td>99.999</td><td>99.999</td><td>99.999</td><td>99.999</td><td>99.999</td><td>99.999</td><td>99.999</td><td>99.999</td><td>99</td><td>37.501</td><td>0.0</td><td>9999.0</td><td>99.999</td><td>99.999</td><td>99.999</td><td>99.999</td><td>99.999</td><td>99.999</td><td>99.999</td><td>99.999</td><td>99</td><td>0.0051831134503364735</td><td>0</td></tr>\n",
       "<tr><td>1463.82</td><td>1210.23</td><td>155.43635711</td><td>18.08507913</td><td>0.5</td><td>0.5</td><td>36.366</td><td>0.0</td><td>9999.0</td><td>99.999</td><td>99.999</td><td>99.999</td><td>99.999</td><td>99.999</td><td>99.999</td><td>99.999</td><td>99.999</td><td>99</td><td>35.597</td><td>0.0</td><td>9999.0</td><td>99.999</td><td>99.999</td><td>99.999</td><td>99.999</td><td>99.999</td><td>99.999</td><td>99.999</td><td>99.999</td><td>99</td><td>47.569</td><td>0.0</td><td>9999.0</td><td>99.999</td><td>99.999</td><td>99.999</td><td>99.999</td><td>99.999</td><td>99.999</td><td>99.999</td><td>99.999</td><td>99</td><td>44.013</td><td>0.0</td><td>9999.0</td><td>99.999</td><td>99.999</td><td>99.999</td><td>99.999</td><td>99.999</td><td>99.999</td><td>99.999</td><td>99.999</td><td>99</td><td>41.087</td><td>0.0</td><td>9999.0</td><td>99.999</td><td>99.999</td><td>99.999</td><td>99.999</td><td>99.999</td><td>99.999</td><td>99.999</td><td>99.999</td><td>99</td><td>37.501</td><td>0.0</td><td>9999.0</td><td>99.999</td><td>99.999</td><td>99.999</td><td>99.999</td><td>99.999</td><td>99.999</td><td>99.999</td><td>99.999</td><td>99</td><td>0.0012963054195682235</td><td>1</td></tr>\n",
       "<tr><td>2861.4</td><td>1597.27</td><td>155.44376785</td><td>18.10394857</td><td>0.5</td><td>0.5</td><td>36.366</td><td>0.0</td><td>9999.0</td><td>99.999</td><td>99.999</td><td>99.999</td><td>99.999</td><td>99.999</td><td>99.999</td><td>99.999</td><td>99.999</td><td>99</td><td>35.597</td><td>0.0</td><td>9999.0</td><td>99.999</td><td>99.999</td><td>99.999</td><td>99.999</td><td>99.999</td><td>99.999</td><td>99.999</td><td>99.999</td><td>99</td><td>47.569</td><td>0.0</td><td>9999.0</td><td>99.999</td><td>99.999</td><td>99.999</td><td>99.999</td><td>99.999</td><td>99.999</td><td>99.999</td><td>99.999</td><td>99</td><td>44.013</td><td>0.0</td><td>9999.0</td><td>99.999</td><td>99.999</td><td>99.999</td><td>99.999</td><td>99.999</td><td>99.999</td><td>99.999</td><td>99.999</td><td>99</td><td>41.087</td><td>0.0</td><td>9999.0</td><td>99.999</td><td>99.999</td><td>99.999</td><td>99.999</td><td>99.999</td><td>99.999</td><td>99.999</td><td>99.999</td><td>99</td><td>37.501</td><td>0.0</td><td>9999.0</td><td>99.999</td><td>99.999</td><td>99.999</td><td>99.999</td><td>99.999</td><td>99.999</td><td>99.999</td><td>99.999</td><td>99</td><td>0.0045034833142491</td><td>0</td></tr>\n",
       "<tr><td>1222.66</td><td>1182.9</td><td>155.43565279</td><td>18.08177541</td><td>0.5</td><td>0.5</td><td>36.366</td><td>0.0</td><td>9999.0</td><td>99.999</td><td>99.999</td><td>99.999</td><td>99.999</td><td>99.999</td><td>99.999</td><td>99.999</td><td>99.999</td><td>99</td><td>35.597</td><td>0.0</td><td>9999.0</td><td>99.999</td><td>99.999</td><td>99.999</td><td>99.999</td><td>99.999</td><td>99.999</td><td>99.999</td><td>99.999</td><td>99</td><td>47.569</td><td>0.0</td><td>9999.0</td><td>99.999</td><td>99.999</td><td>99.999</td><td>99.999</td><td>99.999</td><td>99.999</td><td>99.999</td><td>99.999</td><td>99</td><td>44.013</td><td>0.0</td><td>9999.0</td><td>99.999</td><td>99.999</td><td>99.999</td><td>99.999</td><td>99.999</td><td>99.999</td><td>99.999</td><td>99.999</td><td>99</td><td>41.087</td><td>0.0</td><td>9999.0</td><td>99.999</td><td>99.999</td><td>99.999</td><td>99.999</td><td>99.999</td><td>99.999</td><td>99.999</td><td>99.999</td><td>99</td><td>37.501</td><td>0.0</td><td>9999.0</td><td>99.999</td><td>99.999</td><td>99.999</td><td>99.999</td><td>99.999</td><td>99.999</td><td>99.999</td><td>99.999</td><td>99</td><td>0.0046766861349056025</td><td>1</td></tr>\n",
       "<tr><td>1701.44</td><td>1202.47</td><td>155.4365462</td><td>18.08837627</td><td>0.5</td><td>0.5</td><td>36.366</td><td>0.0</td><td>9999.0</td><td>99.999</td><td>99.999</td><td>99.999</td><td>99.999</td><td>99.999</td><td>99.999</td><td>99.999</td><td>99.999</td><td>99</td><td>35.597</td><td>0.0</td><td>9999.0</td><td>99.999</td><td>99.999</td><td>99.999</td><td>99.999</td><td>99.999</td><td>99.999</td><td>99.999</td><td>99.999</td><td>99</td><td>47.569</td><td>0.0</td><td>9999.0</td><td>99.999</td><td>99.999</td><td>99.999</td><td>99.999</td><td>99.999</td><td>99.999</td><td>99.999</td><td>99.999</td><td>99</td><td>44.013</td><td>0.0</td><td>9999.0</td><td>99.999</td><td>99.999</td><td>99.999</td><td>99.999</td><td>99.999</td><td>99.999</td><td>99.999</td><td>99.999</td><td>99</td><td>41.087</td><td>0.0</td><td>9999.0</td><td>99.999</td><td>99.999</td><td>99.999</td><td>99.999</td><td>99.999</td><td>99.999</td><td>99.999</td><td>99.999</td><td>99</td><td>37.501</td><td>0.0</td><td>9999.0</td><td>99.999</td><td>99.999</td><td>99.999</td><td>99.999</td><td>99.999</td><td>99.999</td><td>99.999</td><td>99.999</td><td>99</td><td>0.002783865787264189</td><td>0</td></tr>\n",
       "<tr><td>1692.25</td><td>1338.34</td><td>155.43851218</td><td>18.08808493</td><td>0.5</td><td>0.5</td><td>36.366</td><td>0.0</td><td>9999.0</td><td>99.999</td><td>99.999</td><td>99.999</td><td>99.999</td><td>99.999</td><td>99.999</td><td>99.999</td><td>99.999</td><td>99</td><td>35.597</td><td>0.0</td><td>9999.0</td><td>99.999</td><td>99.999</td><td>99.999</td><td>99.999</td><td>99.999</td><td>99.999</td><td>99.999</td><td>99.999</td><td>99</td><td>47.569</td><td>0.0</td><td>9999.0</td><td>99.999</td><td>99.999</td><td>99.999</td><td>99.999</td><td>99.999</td><td>99.999</td><td>99.999</td><td>99.999</td><td>99</td><td>44.013</td><td>0.0</td><td>9999.0</td><td>99.999</td><td>99.999</td><td>99.999</td><td>99.999</td><td>99.999</td><td>99.999</td><td>99.999</td><td>99.999</td><td>99</td><td>41.087</td><td>0.0</td><td>9999.0</td><td>99.999</td><td>99.999</td><td>99.999</td><td>99.999</td><td>99.999</td><td>99.999</td><td>99.999</td><td>99.999</td><td>99</td><td>37.501</td><td>0.0</td><td>9999.0</td><td>99.999</td><td>99.999</td><td>99.999</td><td>99.999</td><td>99.999</td><td>99.999</td><td>99.999</td><td>99.999</td><td>99</td><td>0.004020614785190493</td><td>0</td></tr>\n",
       "</table></div>"
      ],
      "text/plain": [
       "<Table length=82391>\n",
       "  XIN     YIN     RA_J2000   ... F814W_FLAG       Separation      MASK_FLAG\n",
       "float32 float32   float64    ...   int16           float64          int64  \n",
       "------- ------- ------------ ... ---------- --------------------- ---------\n",
       "2805.75 1130.85 155.43690748 ...          0  0.004280859100807896         0\n",
       "1634.71 1651.24 155.44299343 ...          2 0.0020152398265327986         0\n",
       "1290.26  181.11 155.42115744 ...          0 0.0057715302193587096         0\n",
       " 2357.5 1479.83 155.44141752 ...          2  0.005398112728833409         0\n",
       "2184.98  774.08 155.43092515 ...          0 0.0039174504045038526         0\n",
       "2406.61  924.75 155.43340001 ...          2  0.003517908481389009         0\n",
       "1991.72  894.32 155.43242978 ...          0  0.006068191001422047         0\n",
       "1451.76 1390.39 155.43896406 ...          0  0.004444885731184793         0\n",
       "1862.27 1144.91 155.43591281 ...          0 0.0043618990131982175         0\n",
       "1703.25 1249.96 155.43723975 ...          0  0.004762200213965463         0\n",
       "1826.72 1177.49 155.43634185 ...          2  0.005213993094301218         0\n",
       "2091.82 1958.65 155.44804936 ...         99  0.004968347340986384         1\n",
       "    ...     ...          ... ...        ...                   ...       ...\n",
       "1717.53 1218.39 155.43679838 ...         99  0.003923183227058078         0\n",
       "1667.19 1345.04 155.43857785 ...         99 0.0026527856314606355         0\n",
       "2304.59 1775.65 155.44565625 ...         99 0.0019920672042911315         1\n",
       "1540.81  550.79 155.42685652 ...         99  0.003871285216632942         1\n",
       " 1043.5 1214.15 155.43587992 ...         99 0.0016522671306952934         1\n",
       "1585.02  764.09 155.43001738 ...         99 0.0021240261440809037         1\n",
       "2940.63  909.23 155.43385283 ...         99  0.005028904453936678         0\n",
       "2124.88 1153.79 155.43637588 ...         99 0.0051831134503364735         0\n",
       "1463.82 1210.23 155.43635711 ...         99 0.0012963054195682235         1\n",
       " 2861.4 1597.27 155.44376785 ...         99    0.0045034833142491         0\n",
       "1222.66  1182.9 155.43565279 ...         99 0.0046766861349056025         1\n",
       "1701.44 1202.47  155.4365462 ...         99  0.002783865787264189         0\n",
       "1692.25 1338.34 155.43851218 ...         99  0.004020614785190493         0"
      ]
     },
     "execution_count": 27,
     "metadata": {},
     "output_type": "execute_result"
    }
   ],
   "source": [
    "Table.read(ast_file)"
   ]
  },
  {
   "cell_type": "code",
   "execution_count": 28,
   "metadata": {
    "scrolled": true
   },
   "outputs": [
    {
     "name": "stdout",
     "output_type": "stream",
     "text": [
      "removing 52777 stars from ./13376_LEOP.gst.fake.fits\n"
     ]
    }
   ],
   "source": [
    "# - ASTs\n",
    "os.chdir(working_dir)\n",
    "ast_file_cut = ast_file.replace(\".fits\", \"_cut.fits\")\n",
    "\n",
    "# check to see if the trimmed AST file already exists\n",
    "if not os.path.isfile(ast_file_cut):    \n",
    "    \n",
    "    # if not, generate cut AST file\n",
    "    cut_catalogs.cut_catalogs(\n",
    "        ast_file,\n",
    "        ast_file_cut,\n",
    "        partial_overlap=True,\n",
    "        flagged=True,\n",
    "        flag_filter=flag_filter[0],\n",
    "        region_file=True,\n",
    "    )"
   ]
  },
  {
   "cell_type": "markdown",
   "metadata": {},
   "source": [
    "We can plot the AST magnitudes against our original source magnitudes again, just to check that we are within a reasonable range."
   ]
  },
  {
   "cell_type": "code",
   "execution_count": 29,
   "metadata": {},
   "outputs": [
    {
     "name": "stdout",
     "output_type": "stream",
     "text": [
      "./13376_LEOP.gst.fake_cut.fits\n"
     ]
    }
   ],
   "source": [
    "# check to see if the plotted AST file already exists\n",
    "print(ast_file_cut)\n",
    "if not os.path.isfile(ast_file_cut.replace(\".fits\", \"_maghist.pdf\")):\n",
    "    \n",
    "    test = plot_mag_hist.plot_mag_hist(ast_file_cut, stars_per_bin=200, max_bins=30)\n",
    "\n",
    "    # and so this should plot a histogram of the different asts that remain after cutting  "
   ]
  },
  {
   "cell_type": "markdown",
   "metadata": {},
   "source": [
    "The AST files need to have a CUT_FLAG column. For each artificial star, the value must be either 1 or 0 (being 1 if the source is cut)\n",
    "\n",
    "**The CUT_FLAG column should be set for 1 for any regions from which real stars need not be modelled**"
   ]
  },
  {
   "cell_type": "code",
   "execution_count": 30,
   "metadata": {},
   "outputs": [],
   "source": [
    "ast_cut = Table.read(ast_file_cut)\n",
    "ast_cut['CUT_FLAG'] = np.zeros(len(ast_cut)).astype(int)\n",
    "ast_cut['CUT_FLAG'][np.where(ast_cut[flag_filter[0]+'_FLAG'] == 99)] = 1\n",
    "ast_cut.write(ast_file_cut, overwrite=True)"
   ]
  },
  {
   "cell_type": "markdown",
   "metadata": {},
   "source": [
    "# Step 5.5 Update best_settings.txt again\n",
    "\n",
    "**Same with these cuts, we now have to update the `astfile` variable in beast_settings.txt with this new trimmed filename: `.gst.fake_cut.fits`**"
   ]
  },
  {
   "cell_type": "code",
   "execution_count": 31,
   "metadata": {},
   "outputs": [
    {
     "name": "stdout",
     "output_type": "stream",
     "text": [
      "Padova CMD isochrones\n",
      "Working on the PARSEC isochrone\n"
     ]
    }
   ],
   "source": [
    "settings = beast_settings.beast_settings(settings_path)"
   ]
  },
  {
   "cell_type": "markdown",
   "metadata": {},
   "source": [
    "# Step 6. Split catalog by source density"
   ]
  },
  {
   "cell_type": "markdown",
   "metadata": {},
   "source": [
    "For the next fitting step, we're going to have to break our catalog and AST file into bins based on the source density, and then further into sub-bins if there are more than ~6250 sources in the bins. \n",
    "\n",
    "We split things into source density bins so that we can later study how the actual source density of region effects the noise or bias. We further split things into sub-bins, just to make things a little more computationally accessible.\n",
    "\n",
    "One thing to note is that the source density bins are first sorted by magnitude (typically F475W if it's there) before being split into sub-bins. This means that the first sub-bin file (for a source density bin that has more than 6250 sources) will end up having all the dimmest sources or any sources with NAN values, and the last sub file will have all the brightest sources. This will become handy in Step 8 when we create physics (SED) models and noisemoels tailored specifically to each sub-bin file."
   ]
  },
  {
   "cell_type": "code",
   "execution_count": 32,
   "metadata": {},
   "outputs": [
    {
     "name": "stdout",
     "output_type": "stream",
     "text": [
      "Padova CMD isochrones\n",
      "Working on the PARSEC isochrone\n",
      "bin edges:  [ 0.03960006  0.0692195   0.12099325  0.21149193  0.36968044  0.64618837\n",
      "  1.12951449  1.97435151  3.45109684  6.03239559 10.54441482]\n",
      "Splitting catalog\n",
      "bin 0: 6798 sources\n",
      "dividing into 2 subfiles for later fitting speed\n",
      "bin 1: 307 sources\n",
      "dividing into 1 subfiles for later fitting speed\n",
      "bin 2: 527 sources\n",
      "dividing into 1 subfiles for later fitting speed\n",
      "bin 3: 322 sources\n",
      "dividing into 1 subfiles for later fitting speed\n",
      "bin 4: 636 sources\n",
      "dividing into 1 subfiles for later fitting speed\n",
      "bin 5: 1304 sources\n",
      "dividing into 1 subfiles for later fitting speed\n",
      "bin 6: 1879 sources\n",
      "dividing into 1 subfiles for later fitting speed\n",
      "bin 7: 1810 sources\n",
      "dividing into 1 subfiles for later fitting speed\n",
      "bin 8: 1402 sources\n",
      "dividing into 1 subfiles for later fitting speed\n",
      "bin 9: 1467 sources\n",
      "dividing into 1 subfiles for later fitting speed\n",
      "bin 10: 1062 sources\n",
      "dividing into 1 subfiles for later fitting speed\n",
      "\n",
      "Splitting ASTs\n",
      "bin 0: 9343 sources\n",
      "bin 1: 230 sources\n",
      "bin 2: 767 sources\n",
      "bin 3: 559 sources\n",
      "bin 4: 1191 sources\n",
      "bin 5: 2034 sources\n",
      "bin 6: 3140 sources\n",
      "bin 7: 2671 sources\n",
      "bin 8: 2380 sources\n",
      "bin 9: 2923 sources\n",
      "bin 10: 4376 sources\n",
      "['/astro/dust_kg/cclark/Leo-P/BEAST_Run/13376_LEOP.gst_with_sourceden_cut_bin7_sub0.fits', '/astro/dust_kg/cclark/Leo-P/BEAST_Run/13376_LEOP.gst_with_sourceden_cut_bin9_sub0.fits', '/astro/dust_kg/cclark/Leo-P/BEAST_Run/13376_LEOP.gst_with_sourceden_cut_bin2_sub0.fits', '/astro/dust_kg/cclark/Leo-P/BEAST_Run/13376_LEOP.gst_with_sourceden_cut_bin0_sub0.fits', '/astro/dust_kg/cclark/Leo-P/BEAST_Run/13376_LEOP.gst_with_sourceden_cut_bin5_sub0.fits', '/astro/dust_kg/cclark/Leo-P/BEAST_Run/13376_LEOP.gst_with_sourceden_cut_bin8_sub0.fits', '/astro/dust_kg/cclark/Leo-P/BEAST_Run/13376_LEOP.gst_with_sourceden_cut_bin3_sub0.fits', '/astro/dust_kg/cclark/Leo-P/BEAST_Run/13376_LEOP.gst_with_sourceden_cut_bin1_sub0.fits', '/astro/dust_kg/cclark/Leo-P/BEAST_Run/13376_LEOP.gst_with_sourceden_cut_bin10_sub0.fits', '/astro/dust_kg/cclark/Leo-P/BEAST_Run/13376_LEOP.gst_with_sourceden_cut_bin6_sub0.fits', '/astro/dust_kg/cclark/Leo-P/BEAST_Run/13376_LEOP.gst_with_sourceden_cut_bin4_sub0.fits', '/astro/dust_kg/cclark/Leo-P/BEAST_Run/13376_LEOP.gst_with_sourceden_cut_bin0_sub1.fits']\n"
     ]
    }
   ],
   "source": [
    "# check to see if any sub files exist yet\n",
    "os.chdir(working_dir)\n",
    "if len(glob.glob(gst_file_cut.replace('.fits','*sub*fits') )) == 0:\n",
    "    # if no sub files exist, they can now be created\n",
    "    # a smaller value for n_per_file will mean more individual files/runs,\n",
    "    # but each run will take a shorter amount of time\n",
    "    \n",
    "    # split the gst file and ast file\n",
    "    split_catalog_using_map.split_main(\n",
    "        settings_path,\n",
    "        gst_file_cut,\n",
    "        ast_file_cut,\n",
    "        gst_file.replace('.fits','_sourceden_map.hd5'), #get full sourceden_mad.hd5 file from dust folder\n",
    "        #bin_width=1,\n",
    "        n_per_file=6250, #this is the max number of sources per bin before it splits \n",
    "\n",
    "    )\n",
    "print(glob.glob(gst_file_cut.replace('.fits','*sub*fits') ))"
   ]
  },
  {
   "cell_type": "markdown",
   "metadata": {},
   "source": [
    "So these are all the different source density bins, with some of them being split into sub bins to limit the number of entries to ~6250. "
   ]
  },
  {
   "cell_type": "markdown",
   "metadata": {},
   "source": [
    "When working with subgrids, a lot of files get made above. So, rather than reading in all the files we just created, the BEST devs have written a handy little function that generates a dictionary of all the files that have just been created (assuming the function ran correctly) and all the files that we hope to generate in the future.\n",
    "\n",
    "Because of this, I recommend not changing any of the naming for Step 6 or beyond, just because that then makes this dictionary point to incorrect files."
   ]
  },
  {
   "cell_type": "code",
   "execution_count": 33,
   "metadata": {},
   "outputs": [],
   "source": [
    "file_dict = create_filenames.create_filenames(\n",
    "    settings,\n",
    "    use_sd=True, \n",
    "    nsubs=settings.n_subgrid) "
   ]
  },
  {
   "cell_type": "markdown",
   "metadata": {},
   "source": [
    "If we take a look in our folder, we should be able to see some bins with sub-bins notation. We can do a quick check to see if the sub-binning generated from the dictionary matchs up with the files split in our data folder."
   ]
  },
  {
   "cell_type": "code",
   "execution_count": 34,
   "metadata": {},
   "outputs": [
    {
     "data": {
      "text/plain": [
       "[['0', '0'],\n",
       " ['0', '0'],\n",
       " ['0', '1'],\n",
       " ['0', '1'],\n",
       " ['10', '0'],\n",
       " ['10', '0'],\n",
       " ['1', '0'],\n",
       " ['1', '0'],\n",
       " ['2', '0'],\n",
       " ['2', '0'],\n",
       " ['3', '0'],\n",
       " ['3', '0'],\n",
       " ['4', '0'],\n",
       " ['4', '0'],\n",
       " ['5', '0'],\n",
       " ['5', '0'],\n",
       " ['6', '0'],\n",
       " ['6', '0'],\n",
       " ['7', '0'],\n",
       " ['7', '0'],\n",
       " ['8', '0'],\n",
       " ['8', '0'],\n",
       " ['9', '0'],\n",
       " ['9', '0']]"
      ]
     },
     "execution_count": 34,
     "metadata": {},
     "output_type": "execute_result"
    }
   ],
   "source": [
    "sd_sub_info = file_dict[\"sd_sub_info\"]\n",
    "sd_sub_info"
   ]
  },
  {
   "cell_type": "markdown",
   "metadata": {},
   "source": [
    "*Hint: **If** you're working with subgrids **but** sd_sub_info is empty, make sure you've updated the obsfile and astfile variables in beast_settings (Step 4.5 and 5.5), reloaded beast_settings, and try to run create_filenames again.*"
   ]
  },
  {
   "cell_type": "code",
   "execution_count": 35,
   "metadata": {},
   "outputs": [
    {
     "name": "stdout",
     "output_type": "stream",
     "text": [
      "** total SD bins: 11\n",
      "** total SD subfiles: 12\n"
     ]
    }
   ],
   "source": [
    "# number of SD bins\n",
    "temp = set([i[0] for i in sd_sub_info])\n",
    "print(\"** total SD bins: \" + str(len(temp)))\n",
    "\n",
    "# the unique sets of SD+sub\n",
    "unique_sd_sub = [\n",
    "    x for i, x in enumerate(sd_sub_info) if i == sd_sub_info.index(x)\n",
    "]\n",
    "print(\"** total SD subfiles: \" + str(len(unique_sd_sub)))\n"
   ]
  },
  {
   "cell_type": "markdown",
   "metadata": {},
   "source": [
    "Just another quick way to ensure that all the binning and sub-binning matches up. If it doesn't, none of the next steps will run properly."
   ]
  },
  {
   "cell_type": "markdown",
   "metadata": {},
   "source": [
    "# Step 7. Make Noise Models"
   ]
  },
  {
   "cell_type": "markdown",
   "metadata": {},
   "source": [
    "We're now on to creating our observational noise models! These models will be used to adjust the bias and uncertainty in Steps 8 and 9. \n",
    "\n",
    "The **uncertainty** is the standard deviation calculated for all the detected sources.\n",
    "\n",
    "The **bias** is the average offset between the input flux we have for the ASTs and the measured flux. Bias tends to become more prominent in regions of high source density, where it's harder to detect all the faint stars if they get blended together. If this happens, then some of the stars are assumed to be part of the background (raising the average), which gets subtracted from the detected sources. If the background is raised, then the detected sources are measured to be systematically fainter than they should be.\n",
    "\n",
    "Note that the AST files need "
   ]
  },
  {
   "cell_type": "code",
   "execution_count": 36,
   "metadata": {},
   "outputs": [],
   "source": [
    "# these are what the noise files should be named once generated\n",
    "noise_files = file_dict[\"noise_files\"]"
   ]
  },
  {
   "cell_type": "code",
   "execution_count": 37,
   "metadata": {},
   "outputs": [
    {
     "data": {
      "text/plain": [
       "['/astro/dust_kg/cclark/Leo-P/BEAST_Run/13376_LEOP.gst.fake_cut_bin0.fits',\n",
       " '/astro/dust_kg/cclark/Leo-P/BEAST_Run/13376_LEOP.gst.fake_cut_bin1.fits',\n",
       " '/astro/dust_kg/cclark/Leo-P/BEAST_Run/13376_LEOP.gst.fake_cut_bin10.fits',\n",
       " '/astro/dust_kg/cclark/Leo-P/BEAST_Run/13376_LEOP.gst.fake_cut_bin2.fits',\n",
       " '/astro/dust_kg/cclark/Leo-P/BEAST_Run/13376_LEOP.gst.fake_cut_bin3.fits',\n",
       " '/astro/dust_kg/cclark/Leo-P/BEAST_Run/13376_LEOP.gst.fake_cut_bin4.fits',\n",
       " '/astro/dust_kg/cclark/Leo-P/BEAST_Run/13376_LEOP.gst.fake_cut_bin5.fits',\n",
       " '/astro/dust_kg/cclark/Leo-P/BEAST_Run/13376_LEOP.gst.fake_cut_bin6.fits',\n",
       " '/astro/dust_kg/cclark/Leo-P/BEAST_Run/13376_LEOP.gst.fake_cut_bin7.fits',\n",
       " '/astro/dust_kg/cclark/Leo-P/BEAST_Run/13376_LEOP.gst.fake_cut_bin8.fits',\n",
       " '/astro/dust_kg/cclark/Leo-P/BEAST_Run/13376_LEOP.gst.fake_cut_bin9.fits']"
      ]
     },
     "execution_count": 37,
     "metadata": {},
     "output_type": "execute_result"
    }
   ],
   "source": [
    "# gather up the split AST files\n",
    "ast_file_list = sorted(glob.glob(settings.astfile.replace(\".fits\", \"*_bin*\")))\n",
    "ast_file_list"
   ]
  },
  {
   "cell_type": "code",
   "execution_count": 39,
   "metadata": {},
   "outputs": [
    {
     "name": "stdout",
     "output_type": "stream",
     "text": [
      "sd list:  ['0', '1', '10', '2', '3', '4', '5', '6', '7', '8', '9']\n",
      "\n",
      "creating 13376_LEOP/13376_LEOP_noisemodel_bin0.gridsub0.hd5\n",
      "\n",
      "creating 13376_LEOP/13376_LEOP_noisemodel_bin1.gridsub0.hd5\n",
      "\n",
      "creating 13376_LEOP/13376_LEOP_noisemodel_bin10.gridsub0.hd5\n",
      "\n",
      "creating 13376_LEOP/13376_LEOP_noisemodel_bin2.gridsub0.hd5\n",
      "\n",
      "creating 13376_LEOP/13376_LEOP_noisemodel_bin3.gridsub0.hd5\n",
      "\n",
      "creating 13376_LEOP/13376_LEOP_noisemodel_bin4.gridsub0.hd5\n",
      "\n",
      "creating 13376_LEOP/13376_LEOP_noisemodel_bin5.gridsub0.hd5\n",
      "\n",
      "creating 13376_LEOP/13376_LEOP_noisemodel_bin6.gridsub0.hd5\n",
      "\n",
      "creating 13376_LEOP/13376_LEOP_noisemodel_bin7.gridsub0.hd5\n",
      "\n",
      "creating 13376_LEOP/13376_LEOP_noisemodel_bin8.gridsub0.hd5\n",
      "\n",
      "creating 13376_LEOP/13376_LEOP_noisemodel_bin9.gridsub0.hd5\n",
      "\n",
      "creating 13376_LEOP/13376_LEOP_noisemodel_bin0.gridsub1.hd5\n"
     ]
    },
    {
     "name": "stderr",
     "output_type": "stream",
     "text": [
      "Fitting model: 100%|██████████| 6/6 [00:00<00:00, 107.38it/s]\n",
      "Evaluating model:   0%|          | 0/6 [00:00<?, ?it/s]\n"
     ]
    },
    {
     "name": "stdout",
     "output_type": "stream",
     "text": [
      "\n",
      "creating 13376_LEOP/13376_LEOP_noisemodel_bin1.gridsub1.hd5\n"
     ]
    },
    {
     "name": "stderr",
     "output_type": "stream",
     "text": [
      "Fitting model: 100%|██████████| 6/6 [00:00<00:00, 61.44it/s]\n",
      "Fitting model: 100%|██████████| 6/6 [00:00<00:00, 145.80it/s]\n",
      "Fitting model: 100%|██████████| 6/6 [00:00<00:00, 140.76it/s]\n",
      "Fitting model: 100%|██████████| 6/6 [00:00<00:00, 74.61it/s]\n",
      "Fitting model: 100%|██████████| 6/6 [00:00<00:00, 117.97it/s]\n",
      "Fitting model: 100%|██████████| 6/6 [00:00<00:00, 72.26it/s]\n",
      "Fitting model: 100%|██████████| 6/6 [00:00<00:00, 72.67it/s]\n",
      "Evaluating model:   0%|          | 0/6 [00:00<?, ?it/s]\n"
     ]
    },
    {
     "name": "stdout",
     "output_type": "stream",
     "text": [
      "\n",
      "13376_LEOP/13376_LEOP_noisemodel_bin10.gridsub1.hd5 already exists\n"
     ]
    },
    {
     "name": "stderr",
     "output_type": "stream",
     "text": [
      "Fitting model:   0%|          | 0/6 [00:00<?, ?it/s]"
     ]
    },
    {
     "name": "stdout",
     "output_type": "stream",
     "text": [
      "\n",
      "13376_LEOP/13376_LEOP_noisemodel_bin2.gridsub1.hd5 already exists\n"
     ]
    },
    {
     "name": "stderr",
     "output_type": "stream",
     "text": [
      "Fitting model: 100%|██████████| 6/6 [00:00<00:00, 84.61it/s]\n",
      "Evaluating model:   0%|          | 0/6 [00:00<?, ?it/s]"
     ]
    },
    {
     "name": "stdout",
     "output_type": "stream",
     "text": [
      "\n",
      "13376_LEOP/13376_LEOP_noisemodel_bin3.gridsub1.hd5 already exists\n",
      "\n",
      "13376_LEOP/13376_LEOP_noisemodel_bin4.gridsub1.hd5 already exists\n",
      "\n",
      "13376_LEOP/13376_LEOP_noisemodel_bin5.gridsub1.hd5 already exists\n",
      "\n",
      "13376_LEOP/13376_LEOP_noisemodel_bin6.gridsub1.hd5 already exists\n",
      "\n",
      "13376_LEOP/13376_LEOP_noisemodel_bin7.gridsub1.hd5 already exists\n",
      "\n",
      "creating 13376_LEOP/13376_LEOP_noisemodel_bin8.gridsub1.hd5\n"
     ]
    },
    {
     "name": "stderr",
     "output_type": "stream",
     "text": [
      "Fitting model: 100%|██████████| 6/6 [00:00<00:00, 77.49it/s]it]\n",
      "Fitting model: 100%|██████████| 6/6 [00:00<00:00, 181.02it/s]t]\n",
      "Evaluating model:   0%|          | 0/6 [00:00<?, ?it/s].28s/it]\n"
     ]
    },
    {
     "name": "stdout",
     "output_type": "stream",
     "text": [
      "\n",
      "creating 13376_LEOP/13376_LEOP_noisemodel_bin9.gridsub1.hd5\n"
     ]
    },
    {
     "name": "stderr",
     "output_type": "stream",
     "text": [
      "Fitting model: 100%|██████████| 6/6 [00:00<00:00, 73.33it/s]it]\n",
      "Evaluating model: 100%|██████████| 6/6 [00:13<00:00,  2.25s/it]\n",
      "Evaluating model: 100%|██████████| 6/6 [00:13<00:00,  2.27s/it]\n",
      "Evaluating model: 100%|██████████| 6/6 [00:14<00:00,  2.45s/it]\n",
      "Evaluating model: 100%|██████████| 6/6 [00:14<00:00,  2.40s/it]\n",
      "Evaluating model: 100%|██████████| 6/6 [00:14<00:00,  2.43s/it]\n",
      "Evaluating model: 100%|██████████| 6/6 [00:14<00:00,  2.42s/it]\n",
      "Evaluating model: 100%|██████████| 6/6 [00:14<00:00,  2.43s/it]\n",
      "Evaluating model:  83%|████████▎ | 5/6 [00:13<00:02,  2.56s/it]"
     ]
    },
    {
     "name": "stdout",
     "output_type": "stream",
     "text": [
      "Writing to disk into 13376_LEOP/13376_LEOP_noisemodel_bin10.gridsub0.hd5\n",
      "Writing to disk into 13376_LEOP/13376_LEOP_noisemodel_bin2.gridsub0.hd5\n",
      "Writing to disk into 13376_LEOP/13376_LEOP_noisemodel_bin3.gridsub0.hd5\n",
      "Writing to disk into 13376_LEOP/13376_LEOP_noisemodel_bin9.gridsub0.hd5\n"
     ]
    },
    {
     "name": "stderr",
     "output_type": "stream",
     "text": [
      "Evaluating model:  83%|████████▎ | 5/6 [00:12<00:02,  2.34s/it]"
     ]
    },
    {
     "name": "stdout",
     "output_type": "stream",
     "text": [
      "Writing to disk into 13376_LEOP/13376_LEOP_noisemodel_bin6.gridsub0.hd5\n",
      "Writing to disk into 13376_LEOP/13376_LEOP_noisemodel_bin7.gridsub0.hd5\n"
     ]
    },
    {
     "name": "stderr",
     "output_type": "stream",
     "text": [
      "Evaluating model: 100%|██████████| 6/6 [00:15<00:00,  2.58s/it]\n"
     ]
    },
    {
     "name": "stdout",
     "output_type": "stream",
     "text": [
      "Writing to disk into 13376_LEOP/13376_LEOP_noisemodel_bin4.gridsub0.hd5\n"
     ]
    },
    {
     "name": "stderr",
     "output_type": "stream",
     "text": [
      "Evaluating model: 100%|██████████| 6/6 [00:14<00:00,  2.42s/it]\n"
     ]
    },
    {
     "name": "stdout",
     "output_type": "stream",
     "text": [
      "Writing to disk into 13376_LEOP/13376_LEOP_noisemodel_bin8.gridsub0.hd5\n",
      "Writing to disk into 13376_LEOP/13376_LEOP_noisemodel_bin5.gridsub0.hd5\n"
     ]
    },
    {
     "name": "stderr",
     "output_type": "stream",
     "text": [
      "Fitting model: 100%|██████████| 6/6 [00:00<00:00, 73.03it/s]\n",
      "Fitting model: 100%|██████████| 6/6 [00:00<00:00, 319.08it/s]\n",
      "Fitting model: 100%|██████████| 6/6 [00:00<00:00, 49.82it/s]\n",
      "Evaluating model:   0%|          | 0/6 [00:00<?, ?it/s]\n",
      "Evaluating model: 100%|██████████| 6/6 [00:13<00:00,  2.29s/it]\n",
      "Evaluating model: 100%|██████████| 6/6 [00:13<00:00,  2.23s/it]\n"
     ]
    },
    {
     "name": "stdout",
     "output_type": "stream",
     "text": [
      "Writing to disk into 13376_LEOP/13376_LEOP_noisemodel_bin8.gridsub1.hd5\n",
      "Writing to disk into 13376_LEOP/13376_LEOP_noisemodel_bin9.gridsub1.hd5\n"
     ]
    },
    {
     "ename": "ValueError",
     "evalue": "array of sample points is empty",
     "output_type": "error",
     "traceback": [
      "\u001b[0;31mRemoteTraceback\u001b[0m\u001b[0;31m:\u001b[0m \n\"\"\"\nTraceback (most recent call last):\n  File \"/home/cclark/soft/mamba/envs/beast-prod/lib/python3.11/multiprocessing/pool.py\", line 125, in worker\n    result = (True, func(*args, **kwds))\n                    ^^^^^^^^^^^^^^^^^^^\n  File \"/home/cclark/soft/mamba/envs/beast-prod/lib/python3.11/multiprocessing/pool.py\", line 51, in starmapstar\n    return list(itertools.starmap(args[0], args[1]))\n           ^^^^^^^^^^^^^^^^^^^^^^^^^^^^^^^^^^^^^^^^^\n  File \"/home/cclark/soft/mamba/envs/beast-prod/lib/python3.11/site-packages/beast/tools/run/create_obsmodel.py\", line 177, in gen_obsmodel\n    noisemodel.make_toothpick_noise_model(\n  File \"/home/cclark/soft/mamba/envs/beast-prod/lib/python3.11/site-packages/beast/observationmodel/noisemodel/generic_noisemodel.py\", line 71, in make_toothpick_noise_model\n    bias, sigma, compl = model(sedgrid)\n                         ^^^^^^^^^^^^^^\n  File \"/home/cclark/soft/mamba/envs/beast-prod/lib/python3.11/site-packages/beast/observationmodel/noisemodel/toothpick.py\", line 449, in __call__\n    return self.interpolate(sedgrid, **kwargs)\n           ^^^^^^^^^^^^^^^^^^^^^^^^^^^^^^^^^^^\n  File \"/home/cclark/soft/mamba/envs/beast-prod/lib/python3.11/site-packages/beast/observationmodel/noisemodel/toothpick.py\", line 436, in interpolate\n    bias[:, i] = np.interp(\n                 ^^^^^^^^^^\n  File \"/home/cclark/soft/mamba/envs/beast-prod/lib/python3.11/site-packages/numpy/lib/function_base.py\", line 1599, in interp\n    return interp_func(x, xp, fp, left, right)\n           ^^^^^^^^^^^^^^^^^^^^^^^^^^^^^^^^^^^\nValueError: array of sample points is empty\n\"\"\"\n",
      "\nThe above exception was the direct cause of the following exception:\n",
      "Traceback \u001b[0;36m(most recent call last)\u001b[0m:\n",
      "\u001b[0m  Cell \u001b[1;32mIn[39], line 9\u001b[0m\n    create_obsmodel.create_obsmodel(settings,\u001b[0m\n",
      "\u001b[0m  File \u001b[1;32m~/soft/mamba/envs/beast-prod/lib/python3.11/site-packages/beast/tools/run/create_obsmodel.py:123\u001b[0m in \u001b[1;35mcreate_obsmodel\u001b[0m\n    parallel_wrapper(gen_obsmodel, input_list, nprocs=nprocs)\u001b[0m\n",
      "\u001b[0m  File \u001b[1;32m~/soft/mamba/envs/beast-prod/lib/python3.11/site-packages/beast/tools/run/helper_functions.py:57\u001b[0m in \u001b[1;35mparallel_wrapper\u001b[0m\n    for r in p.starmap(function, arg_tuples):\u001b[0m\n",
      "\u001b[0m  File \u001b[1;32m~/soft/mamba/envs/beast-prod/lib/python3.11/multiprocessing/pool.py:375\u001b[0m in \u001b[1;35mstarmap\u001b[0m\n    return self._map_async(func, iterable, starmapstar, chunksize).get()\u001b[0m\n",
      "\u001b[0;36m  File \u001b[0;32m~/soft/mamba/envs/beast-prod/lib/python3.11/multiprocessing/pool.py:774\u001b[0;36m in \u001b[0;35mget\u001b[0;36m\n\u001b[0;31m    raise self._value\u001b[0;36m\n",
      "\u001b[0;31mValueError\u001b[0m\u001b[0;31m:\u001b[0m array of sample points is empty\n"
     ]
    }
   ],
   "source": [
    "# check if noise models have already been completed\n",
    "noise_exist = True\n",
    "for noise_file in noise_files:\n",
    "    if not os.path.exists(noise_file):        \n",
    "        noise_exist = False\n",
    "        \n",
    "# if noise files don't exist, create the noise model with our ASTs  \n",
    "if not noise_exist:\n",
    "    create_obsmodel.create_obsmodel(settings,\n",
    "                                    use_sd=True, \n",
    "                                    nsubs=settings.n_subgrid, \n",
    "                                    nprocs=12)"
   ]
  },
  {
   "cell_type": "markdown",
   "metadata": {},
   "source": [
    "# Step 7.5 Visualize Noise Models (Optional)"
   ]
  },
  {
   "cell_type": "markdown",
   "metadata": {},
   "source": [
    "This next cell is some older plotting code for visualizing the noise models. It should (hopefully) work if you uncomment and run it, but the lack of a log scale for the y-axis makes the results a little harder to fully interpret.\n",
    "\n",
    "As an alternative, the same plot is recreated down below but the steps have been broken down to hopefully help you gain a better sense of what's going on (and plot the y-axis with a log scale). \n",
    "\n",
    "If you're not interested in visualizing the noise models, feel free to skip this step."
   ]
  },
  {
   "cell_type": "code",
   "execution_count": null,
   "metadata": {},
   "outputs": [],
   "source": [
    "# plot_noisemodel.plot_noisemodel(sed_file=\"M31-B09-EAST_chunk/M31-B09-EAST_chunk_seds.grid.hd5\", \n",
    "#                                 noise_file_list=noise_files, \n",
    "#                                 plot_file=\"noise_model_plot.png\")"
   ]
  },
  {
   "cell_type": "markdown",
   "metadata": {},
   "source": [
    "### Alternative plot\n",
    "Here we try to recreate this noise model plot using some of the filters used in Dreis' paper.\n"
   ]
  },
  {
   "cell_type": "code",
   "execution_count": null,
   "metadata": {},
   "outputs": [],
   "source": [
    "# set some basic plotting stuff\n",
    "samp=1000 # makes it so we plot every 100th point from the SED files\n",
    "color=[\"black\", \"red\", \"gold\", \"lime\", \"xkcd:azure\"]\n",
    "label=None\n",
    "\n",
    "# load in the physics model as an object\n",
    "sed_object = SEDGrid(sed_files[0])\n",
    "\n",
    "# read the flux values for all the sources\n",
    "if hasattr(sed_object.seds, \"read\"):\n",
    "    sed_grid = sed_object.seds.read()\n",
    "else:\n",
    "    sed_grid = sed_object.seds\n",
    "    \n",
    "sed_object.seds.shape"
   ]
  },
  {
   "cell_type": "markdown",
   "metadata": {},
   "source": [
    "So this sed_grid comes from back in Step 2, where the physics model created ~500,000 points based off of the original parameters we specified in beast_settings, and for each point, the expected flux for each filter is calculated. We can now use the noise models we created with the ASTs to see how the bias and uncertainty is expected to scale with the flux from a specific filter. We'll plot the log10 of the flux on the x-axis and then the flux-normalized uncertainty and bias on the y-axis. We can also color our results based on what source density bin the ASTs came from, as well as compare how different filters compare to one another\n"
   ]
  },
  {
   "cell_type": "code",
   "execution_count": null,
   "metadata": {},
   "outputs": [],
   "source": [
    "# pull out the list of filters\n",
    "filter_list = sed_object.filters\n",
    "\n",
    "# for this plot, I just want to plot the first two filter\n",
    "# feel free to change this and see what the other filters look like\n",
    "filter_list_plot = filter_list[:]\n",
    "n_filter = len(filter_list_plot)"
   ]
  },
  {
   "cell_type": "code",
   "execution_count": null,
   "metadata": {},
   "outputs": [],
   "source": [
    "# set up the figure frame work\n",
    "# have it scale with the number of filters we're plotting\n",
    "os.chdir(working_dir)\n",
    "fig, axes = plt.subplots(2, len(filter_list_plot), sharex=True, figsize=(5*len(filter_list_plot),8))\n",
    "\n",
    "# go through noise files\n",
    "for n, nfile in enumerate(noise_files):\n",
    "    \n",
    "    print(\"* reading \" + nfile)\n",
    "\n",
    "    # read in the values\n",
    "    noisemodel_vals = noisemodel.get_noisemodelcat(nfile)\n",
    "\n",
    "    # extract error and bias\n",
    "    noise_err = noisemodel_vals['error']\n",
    "    noise_bias = noisemodel_vals['error']\n",
    "    \n",
    "    cmaps = plt.get_cmap('viridis')\n",
    "\n",
    "    gradient = np.linspace(0, 1, len(noise_files))    \n",
    "\n",
    "    # now we can start plotting things\n",
    "    for f, filt in enumerate(filter_list_plot):\n",
    "        \n",
    "        # error is negative where it's been extrapolated -> trim those\n",
    "        good_err = np.where(noise_err[:, f] > 0)[0]\n",
    "        plot_sed = sed_grid[good_err, f][::samp] # only pulls every 100th point\n",
    "        plot_err = noise_err[good_err, f][::samp]\n",
    "        plot_bias = noise_bias[good_err, f][::samp]\n",
    "\n",
    "        # plot bias\n",
    "        axes[0, f].set_yscale('log')\n",
    "\n",
    "        axes[0, f].plot(\n",
    "            np.log10(plot_sed),\n",
    "            np.abs(plot_bias) / plot_sed,\n",
    "            marker=\"o\",\n",
    "            linestyle=\"none\",\n",
    "            mew=0,\n",
    "            ms=2,\n",
    "            alpha=0.2,\n",
    "            c=sns.color_palette(\"hls\", len(noise_files))[n],\n",
    "            label=nfile.split('noisemodel_')[1].split('.gridsub')[0]\n",
    "            )\n",
    "        \n",
    "        axes[0, f].set_ylabel(r\"Abs Bias ($\\mu$/F)\", fontsize=10)\n",
    "        # xlabel is still in flux, not mag\n",
    "        axes[0, f].legend()\n",
    "\n",
    "        # plot error (uncertainty)\n",
    "        axes[1, f].set_yscale('log')\n",
    "\n",
    "        axes[1, f].plot(\n",
    "            np.log10(plot_sed),\n",
    "            plot_err / plot_sed,\n",
    "            marker=\"o\",\n",
    "            linestyle=\"none\",\n",
    "            mew=0,\n",
    "            ms=2,\n",
    "            color=sns.color_palette(\"hls\", len(noise_files))[n],\n",
    "            alpha=0.1,)\n",
    "        axes[1, f].set_ylabel(r\"Error ($\\sigma$/F)\", fontsize=10)\n",
    "        axes[1, f].set_xlabel(\"log \" + filt[-5:], fontsize=10)\n",
    "\n",
    "        plt.tight_layout()        \n",
    "    #fig.colorbar(plt.cm.ScalarMappable(norm=np.arange(0,12), cmap=cmaps), ax=axes)\n",
    "    \n",
    "  \n",
    "\n",
    "    # Need to figure out if it's worth comparing the bias and the uncertainty to one another."
   ]
  },
  {
   "cell_type": "markdown",
   "metadata": {},
   "source": [
    "As you can probably tell, this plot isn't the most beautiful plot in the world (especially that coloring and legend) but I'm proud of her. It does, however, let you see the scale of the bias and uncertainty (error) for different filters and how the source density and magnitudes are correlated.\n",
    "\n",
    "The most notable thing to note is that the uncertainty and bias tend to be larger at lower fluxes. This probably doesn't come as a shock to anyone, but it's important to accurately take this into consideration when we make our fittings in Step 9."
   ]
  },
  {
   "cell_type": "markdown",
   "metadata": {},
   "source": [
    "# Step 8. Trim Models\n"
   ]
  },
  {
   "cell_type": "markdown",
   "metadata": {},
   "source": [
    "Now that we have our SED and or noise models created, we can go ahead and trim them of any sources that are so bright or so faint (compared to min/max flux in the observation file) that they will by definition produce effectively zero likelihood fits. \n",
    "\n",
    "One thing to note is that, since our noise models are correlated with source density, we are in a sense 'convolving' each of our noise models with the original physics grid, meaning we will end up with a lot of physics grids trimmed for each source density scenario thanks to our noise models (and these physics grids are still essentially as large as the original physics grid, making this a very storage-intensive step). However, this trimming of the 'parameter space', as you could call it, will help speed up fittings in Step 9.\n",
    "\n",
    "**This step is very storage intensive so I'd make sure to have at least ~5GB of storage available.**\n"
   ]
  },
  {
   "cell_type": "code",
   "execution_count": null,
   "metadata": {},
   "outputs": [],
   "source": [
    "# check to see if any sub files exist yet\n",
    "if len(glob.glob(file_dict[\"noise_trim_files\"][0].replace('bin2_sub0','bin*_sub*'))) == 0:\n",
    "    \n",
    "    # create sub-folders to hold trimmed output\n",
    "    for noise_trim_file in file_dict['noise_trim_files']:\n",
    "        trim_folder = '/'.join(noise_trim_file.split('/')[:2])\n",
    "        if not os.path.exists(trim_folder):\n",
    "            os.makedirs(trim_folder)\n",
    "    \n",
    "    for i, sub_files in enumerate(file_dict[\"noise_trim_files\"]):\n",
    "        print('loading '+file_dict[\"noise_trim_files\"][i])\n",
    "        \n",
    "        # pull out physics grid\n",
    "        modelsedgrid = SEDGrid(model_grid_files[0])\n",
    "        \n",
    "        # trim for each noise file separately \n",
    "        noisemodel_vals = noisemodel.get_noisemodelcat(noise_files[i])\n",
    "        obsdata = Observations(settings.obsfile, \n",
    "                               modelsedgrid.filters,\n",
    "                               obs_colnames = [basefilter+'_VEGA' for basefilter in settings.basefilters])\n",
    "\n",
    "        # need to iterate over all the sub-bins\n",
    "        print('trimming '+file_dict[\"noise_trim_files\"][i])\n",
    "        trim_grid.trim_models(modelsedgrid, \n",
    "                              noisemodel_vals, \n",
    "                              obsdata,\n",
    "                              file_dict[\"modelsedgrid_trim_files\"][i], \n",
    "                              file_dict[\"noise_trim_files\"][i],\n",
    "                              inFlux = False)\n"
   ]
  },
  {
   "cell_type": "markdown",
   "metadata": {},
   "source": [
    "#  Step 9. Fit Models (WARNING! This step takes a while)"
   ]
  },
  {
   "cell_type": "markdown",
   "metadata": {},
   "source": [
    "Now we're going to fit all our sources from our observational photometric catalog to our new trimmed physics and noise models. This will take quite some time just because every source has to be evaluated at each step in its physics model. \n",
    "\n",
    "So for every sub-bin of sources (max 6250 sources), every source in that photometry file is evaluated at every potential step in the physics grid that has been trimmed to specifically fit that sub-bin (hence the data-intensive code we ran back in Step 8). From this, we essentially get a report of how well every point in the physics model (AKA combo of parameters) matched with a source, what is often referred to as a likelihood. If we then take these likelihoods and figure out what parameter values they point back to, we can create a distribution of parameter values (metallicity, distance, Av, Rv, etc.) that best model each source. I hope that made sense (and is the correct interpretation).\n",
    "\n",
    "This function uses the trimmed photometric files we have, the trimmed physics models, and the trimmed noise models to create statistic files for each sub-binned source density bin.\n",
    "\n",
    "It'll take a long time though (~5 hours for me at least, but maybe you have a better computer (8GB RAM, for reference))."
   ]
  },
  {
   "cell_type": "code",
   "execution_count": null,
   "metadata": {},
   "outputs": [],
   "source": [
    "if len(glob.glob(file_dict[\"modelsedgrid_trim_files\"][0].replace('bin2_sub0','bin*_sub*'))) == 0:\n",
    "    run_fitting.run_fitting(\n",
    "        settings,\n",
    "        use_sd = True,\n",
    "        nsubs = settings.n_subgrid,\n",
    "        nprocs = 12,\n",
    "        pdf2d_param_list=['Av', 'Rv', 'f_A', 'M_ini', 'logA', 'Z'],\n",
    "        resume=True,\n",
    "        )"
   ]
  },
  {
   "cell_type": "markdown",
   "metadata": {},
   "source": [
    "# Step 10. Merge fits"
   ]
  },
  {
   "cell_type": "markdown",
   "metadata": {},
   "source": [
    "Whoo-hoo! You finished running the big Step 9!\n",
    "\n",
    "We are now onto the final step where we just have to merge all the trimmed SED model results together. This should produce one final **stats.fits** file which is very similar to our original photometric file, except now all the sources have estimates for what their metallicity, distance, age, mass, dust, etc. might be.\n",
    "\n",
    "Using these new columns of data, we can create lots of cool visuals which will be shown in the epilogue."
   ]
  },
  {
   "cell_type": "code",
   "execution_count": null,
   "metadata": {},
   "outputs": [],
   "source": [
    "merge_files.merge_files(settings, use_sd=True, nsubs=settings.n_subgrid)"
   ]
  },
  {
   "cell_type": "markdown",
   "metadata": {},
   "source": [
    "Hopefully there is now a stats.fits file in your folder. We can read it in to better understand what really happened."
   ]
  },
  {
   "cell_type": "code",
   "execution_count": null,
   "metadata": {},
   "outputs": [],
   "source": [
    "print(sed_files[0])\n",
    "stats_path = os.path.join(working_dir,field_names[0],field_names[0]+'_stats.fits')\n",
    "hdul = fits.open(stats_path, ignore_missing_simple=True)\n",
    "Table(hdul[1].data)"
   ]
  },
  {
   "cell_type": "markdown",
   "metadata": {},
   "source": [
    "As you can hopefully see, for every source, there are now several parameters assigned to each one. These are all the parameters we originally had set up in our beast_settings and specified in Step 9."
   ]
  },
  {
   "cell_type": "markdown",
   "metadata": {},
   "source": [
    "# Epilogue: Visualizating!"
   ]
  },
  {
   "cell_type": "code",
   "execution_count": null,
   "metadata": {},
   "outputs": [],
   "source": [
    "from beast.plotting import (\n",
    "    plot_triangle, \n",
    "    plot_indiv_fit, \n",
    "    plot_cmd_with_fits, \n",
    "    plot_completeness, \n",
    "    plot_chi2_hist,\n",
    ")"
   ]
  },
  {
   "cell_type": "markdown",
   "metadata": {},
   "source": [
    "### Triangle Plot\n",
    "\n",
    "This first function produces a corner plot of the parameters of all the fitted stars. Note that this outputs to file, as it is a slow-to-render PDF."
   ]
  },
  {
   "cell_type": "code",
   "execution_count": null,
   "metadata": {},
   "outputs": [],
   "source": [
    "plot_triangle.plot_triangle(stats_path)"
   ]
  },
  {
   "cell_type": "markdown",
   "metadata": {},
   "source": [
    "### CMD Plot\n",
    "\n",
    "You can also make a color-magnitude diagram of the observations and color-code the data points using one of the parameters from the BEAST fitting (feel free to change this from the example, just remember that the param must match a column name from the stat.fits file). \n",
    "\n",
    "Inputs are the photometry file, three filters, the BEAST stats file from Step 10, and the parameter to use and apply color to after taking the log10."
   ]
  },
  {
   "cell_type": "code",
   "execution_count": null,
   "metadata": {},
   "outputs": [],
   "source": [
    "plot_cmd_with_fits.plot_cmd_with_fits(data_fits_file=\"/astro/dust_kg/cclark/Leo-P/BEAST_Run/13376_LEOP.gst_with_sourceden_cut.fits\", \n",
    "                        beast_stats_file=\"/astro/dust_kg/cclark/Leo-P/BEAST_Run/13376_LEOP/13376_LEOP_stats.fits\", \n",
    "                        mag1_filter=\"F475W\",\n",
    "                        mag2_filter=\"F814W\",\n",
    "                        mag3_filter=\"F475W\",\n",
    "                        param=\"Z_Best\", #metallicity\n",
    "                        log_param=True,\n",
    "                        savefig='pdf'\n",
    "                       )"
   ]
  },
  {
   "cell_type": "markdown",
   "metadata": {},
   "source": [
    "### Completeness Plot\n",
    "This next plot shows the completeness (how many AST sources were detected out of the total number of AST that exist for that parameter bin) for each parameter, although it should be noted that the *distance* parameter was purposefully left out because all the sources have the same distance value, and thus the plotting code isn't sure how to handle it."
   ]
  },
  {
   "cell_type": "code",
   "execution_count": null,
   "metadata": {},
   "outputs": [],
   "source": [
    "plot_completeness.plot_completeness(physgrid_list=file_dict[\"modelsedgrid_trim_files\"],\n",
    "                                    noise_model_list=file_dict[\"noise_trim_files\"],\n",
    "                                    output_plot_filename=\"completeness_plot.pdf\",\n",
    "                                    param_list=['Av', 'Rv', 'logA', 'f_A', 'M_ini', 'Z'],\n",
    "                                    #, 'distance'],\n",
    "                                    compl_filter='F475W',)"
   ]
  },
  {
   "cell_type": "markdown",
   "metadata": {},
   "source": [
    "### Chi Squared Plot\n",
    "Make a histogram of the best chi2 values (chi2=1 and the median chi2 are marked). Note that there is no plot of reduced chi2, because it is mathematically difficult to define the number of degrees of freedom. Inputs are the BEAST stats file and optionally the number of bins to use for the histogram."
   ]
  },
  {
   "cell_type": "code",
   "execution_count": null,
   "metadata": {},
   "outputs": [],
   "source": [
    "plot_chi2_hist.plot(beast_stats_file=\"M31-B09-EAST_chunk/M31-B09-EAST_chunk_stats.fits\")\n"
   ]
  },
  {
   "cell_type": "markdown",
   "metadata": {},
   "source": [
    "There's another cool plot for plotting the individual fits of stars, but unfortunately, this code works with a file that only gets generated when using multiple subgrids (remember how we checked that we had a subgrid = 1 back in Step 2?). If it had worked with the code below, it would have made a multi-panel plot that shows the PDFs and best fits of each parameter for any given star, as well as the SED (similar to Figure 14 in Gordon+16)."
   ]
  },
  {
   "cell_type": "code",
   "execution_count": null,
   "metadata": {},
   "outputs": [],
   "source": [
    "#plot_indiv_fit.plot_beast_ifit(filter=settings.filters, waves, stats, pdf1d_hdu, starnum=0):"
   ]
  },
  {
   "cell_type": "markdown",
   "metadata": {},
   "source": [
    "Sorry I wasn't able to show you all that last plot. But thanks for reading through this notebook til the end. Hopefully you found it to be somewhat helpful and if you have any suggestions for how to make it better, you can find me at cwlind@jhu.edu.\n",
    "\n",
    "Thanks,\\\n",
    "Christina Lindberg\\\n",
    "(she/her)"
   ]
  }
 ],
 "metadata": {
  "kernelspec": {
   "display_name": "Python 3 (ipykernel)",
   "language": "python",
   "name": "python3"
  },
  "language_info": {
   "codemirror_mode": {
    "name": "ipython",
    "version": 3
   },
   "file_extension": ".py",
   "mimetype": "text/x-python",
   "name": "python",
   "nbconvert_exporter": "python",
   "pygments_lexer": "ipython3",
   "version": "3.8.13"
  }
 },
 "nbformat": 4,
 "nbformat_minor": 4
}
